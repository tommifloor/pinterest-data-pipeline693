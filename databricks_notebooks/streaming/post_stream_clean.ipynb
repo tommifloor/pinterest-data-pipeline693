{
 "cells": [
  {
   "cell_type": "code",
   "execution_count": 0,
   "metadata": {
    "application/vnd.databricks.v1+cell": {
     "cellMetadata": {
      "byteLimit": 2048000,
      "rowLimit": 10000
     },
     "inputWidgets": {},
     "nuid": "006e75d2-797b-4b3c-b3a0-1abf85c429a0",
     "showTitle": false,
     "title": ""
    }
   },
   "outputs": [
    {
     "output_type": "display_data",
     "data": {
      "text/html": [
       "<style scoped>\n",
       "  .ansiout {\n",
       "    display: block;\n",
       "    unicode-bidi: embed;\n",
       "    white-space: pre-wrap;\n",
       "    word-wrap: break-word;\n",
       "    word-break: break-all;\n",
       "    font-family: \"Menlo\", \"Monaco\", \"Consolas\", \"Ubuntu Mono\", \"Source Code Pro\", monospace;\n",
       "    font-size: 13px;\n",
       "    color: #555;\n",
       "    margin-left: 4px;\n",
       "    line-height: 19px;\n",
       "  }\n",
       "</style>\n",
       "<div class=\"ansiout\"></div>"
      ]
     },
     "metadata": {
      "application/vnd.databricks.v1+output": {
       "addedWidgets": {},
       "arguments": {},
       "data": "<div class=\"ansiout\"></div>",
       "datasetInfos": [],
       "metadata": {},
       "removedWidgets": [],
       "type": "html"
      }
     },
     "output_type": "display_data"
    }
   ],
   "source": [
    "from pyspark.sql.types import StructType, StructField, StringType, TimestampType"
   ]
  },
  {
   "cell_type": "code",
   "execution_count": 0,
   "metadata": {
    "application/vnd.databricks.v1+cell": {
     "cellMetadata": {
      "byteLimit": 2048000,
      "implicitDf": true,
      "rowLimit": 10000
     },
     "inputWidgets": {},
     "nuid": "85d2da4f-f904-4d0b-9901-daaa8a131090",
     "showTitle": false,
     "title": ""
    }
   },
   "outputs": [
    {
     "output_type": "display_data",
     "data": {
      "text/html": [
       "<style scoped>\n",
       "  .ansiout {\n",
       "    display: block;\n",
       "    unicode-bidi: embed;\n",
       "    white-space: pre-wrap;\n",
       "    word-wrap: break-word;\n",
       "    word-break: break-all;\n",
       "    font-family: \"Menlo\", \"Monaco\", \"Consolas\", \"Ubuntu Mono\", \"Source Code Pro\", monospace;\n",
       "    font-size: 13px;\n",
       "    color: #555;\n",
       "    margin-left: 4px;\n",
       "    line-height: 19px;\n",
       "  }\n",
       "</style>\n",
       "<div class=\"ansiout\"></div>"
      ]
     },
     "metadata": {
      "application/vnd.databricks.v1+output": {
       "addedWidgets": {},
       "arguments": {},
       "data": "<div class=\"ansiout\"></div>",
       "datasetInfos": [],
       "metadata": {},
       "removedWidgets": [],
       "type": "html"
      }
     },
     "output_type": "display_data"
    },
    {
     "output_type": "display_data",
     "data": {
      "text/html": [
       "<style scoped>\n",
       "  .ansiout {\n",
       "    display: block;\n",
       "    unicode-bidi: embed;\n",
       "    white-space: pre-wrap;\n",
       "    word-wrap: break-word;\n",
       "    word-break: break-all;\n",
       "    font-family: \"Menlo\", \"Monaco\", \"Consolas\", \"Ubuntu Mono\", \"Source Code Pro\", monospace;\n",
       "    font-size: 13px;\n",
       "    color: #555;\n",
       "    margin-left: 4px;\n",
       "    line-height: 19px;\n",
       "  }\n",
       "</style>\n",
       "<div class=\"ansiout\"></div>"
      ]
     },
     "metadata": {
      "application/vnd.databricks.v1+output": {
       "addedWidgets": {},
       "arguments": {},
       "data": "<div class=\"ansiout\"></div>",
       "datasetInfos": [],
       "metadata": {},
       "removedWidgets": [],
       "type": "html"
      }
     },
     "output_type": "display_data"
    },
    {
     "output_type": "display_data",
     "data": {
      "text/html": [
       "<style scoped>\n",
       "  .table-result-container {\n",
       "    max-height: 300px;\n",
       "    overflow: auto;\n",
       "  }\n",
       "  table, th, td {\n",
       "    border: 1px solid black;\n",
       "    border-collapse: collapse;\n",
       "  }\n",
       "  th, td {\n",
       "    padding: 5px;\n",
       "  }\n",
       "  th {\n",
       "    text-align: left;\n",
       "  }\n",
       "</style><div class='table-result-container'><table class='table-result'><thead style='background-color: white'><tr><th>key</th><th>value</th></tr></thead><tbody><tr><td>spark.databricks.delta.formatCheck.enabled</td><td>false</td></tr></tbody></table></div>"
      ]
     },
     "metadata": {
      "application/vnd.databricks.v1+output": {
       "addedWidgets": {},
       "aggData": [],
       "aggError": "",
       "aggOverflow": false,
       "aggSchema": [],
       "aggSeriesLimitReached": false,
       "aggType": "",
       "arguments": {},
       "columnCustomDisplayInfos": {},
       "data": [
        [
         "spark.databricks.delta.formatCheck.enabled",
         "false"
        ]
       ],
       "datasetInfos": [],
       "dbfsResultPath": null,
       "isJsonSchema": true,
       "metadata": {},
       "overflow": false,
       "plotOptions": {
        "customPlotOptions": {},
        "displayType": "table",
        "pivotAggregation": null,
        "pivotColumns": null,
        "xColumns": null,
        "yColumns": null
       },
       "removedWidgets": [],
       "schema": [
        {
         "metadata": "{}",
         "name": "key",
         "type": "\"string\""
        },
        {
         "metadata": "{}",
         "name": "value",
         "type": "\"string\""
        }
       ],
       "type": "table"
      }
     },
     "output_type": "display_data"
    },
    {
     "output_type": "display_data",
     "data": {
      "text/html": [
       "<style scoped>\n",
       "  .ansiout {\n",
       "    display: block;\n",
       "    unicode-bidi: embed;\n",
       "    white-space: pre-wrap;\n",
       "    word-wrap: break-word;\n",
       "    word-break: break-all;\n",
       "    font-family: \"Menlo\", \"Monaco\", \"Consolas\", \"Ubuntu Mono\", \"Source Code Pro\", monospace;\n",
       "    font-size: 13px;\n",
       "    color: #555;\n",
       "    margin-left: 4px;\n",
       "    line-height: 19px;\n",
       "  }\n",
       "</style>\n",
       "<div class=\"ansiout\"></div>"
      ]
     },
     "metadata": {
      "application/vnd.databricks.v1+output": {
       "addedWidgets": {},
       "arguments": {},
       "data": "<div class=\"ansiout\"></div>",
       "datasetInfos": [],
       "metadata": {},
       "removedWidgets": [],
       "type": "html"
      }
     },
     "output_type": "display_data"
    },
    {
     "output_type": "display_data",
     "data": {
      "text/html": [
       "<style scoped>\n",
       "  .ansiout {\n",
       "    display: block;\n",
       "    unicode-bidi: embed;\n",
       "    white-space: pre-wrap;\n",
       "    word-wrap: break-word;\n",
       "    word-break: break-all;\n",
       "    font-family: \"Menlo\", \"Monaco\", \"Consolas\", \"Ubuntu Mono\", \"Source Code Pro\", monospace;\n",
       "    font-size: 13px;\n",
       "    color: #555;\n",
       "    margin-left: 4px;\n",
       "    line-height: 19px;\n",
       "  }\n",
       "</style>\n",
       "<div class=\"ansiout\"></div>"
      ]
     },
     "metadata": {
      "application/vnd.databricks.v1+output": {
       "addedWidgets": {},
       "arguments": {},
       "data": "<div class=\"ansiout\"></div>",
       "datasetInfos": [],
       "metadata": {},
       "removedWidgets": [],
       "type": "html"
      }
     },
     "output_type": "display_data"
    },
    {
     "output_type": "display_data",
     "data": {
      "text/html": [
       "<style scoped>\n",
       "  .ansiout {\n",
       "    display: block;\n",
       "    unicode-bidi: embed;\n",
       "    white-space: pre-wrap;\n",
       "    word-wrap: break-word;\n",
       "    word-break: break-all;\n",
       "    font-family: \"Menlo\", \"Monaco\", \"Consolas\", \"Ubuntu Mono\", \"Source Code Pro\", monospace;\n",
       "    font-size: 13px;\n",
       "    color: #555;\n",
       "    margin-left: 4px;\n",
       "    line-height: 19px;\n",
       "  }\n",
       "</style>\n",
       "<div class=\"ansiout\"></div>"
      ]
     },
     "metadata": {
      "application/vnd.databricks.v1+output": {
       "addedWidgets": {},
       "arguments": {},
       "data": "<div class=\"ansiout\"></div>",
       "datasetInfos": [],
       "metadata": {},
       "removedWidgets": [],
       "type": "html"
      }
     },
     "output_type": "display_data"
    }
   ],
   "source": [
    "%run \"/Workspace/Users/cronies-02gorilla@icloud.com/Pinterest Access\""
   ]
  },
  {
   "cell_type": "code",
   "execution_count": 0,
   "metadata": {
    "application/vnd.databricks.v1+cell": {
     "cellMetadata": {
      "byteLimit": 2048000,
      "rowLimit": 10000
     },
     "inputWidgets": {},
     "nuid": "7bcb446a-4006-41ee-ad6c-53625a938d9c",
     "showTitle": false,
     "title": ""
    }
   },
   "outputs": [
    {
     "output_type": "display_data",
     "data": {
      "text/html": [
       "<style scoped>\n",
       "  .ansiout {\n",
       "    display: block;\n",
       "    unicode-bidi: embed;\n",
       "    white-space: pre-wrap;\n",
       "    word-wrap: break-word;\n",
       "    word-break: break-all;\n",
       "    font-family: \"Menlo\", \"Monaco\", \"Consolas\", \"Ubuntu Mono\", \"Source Code Pro\", monospace;\n",
       "    font-size: 13px;\n",
       "    color: #555;\n",
       "    margin-left: 4px;\n",
       "    line-height: 19px;\n",
       "  }\n",
       "</style>\n",
       "<div class=\"ansiout\"></div>"
      ]
     },
     "metadata": {
      "application/vnd.databricks.v1+output": {
       "addedWidgets": {},
       "arguments": {},
       "data": "<div class=\"ansiout\"></div>",
       "datasetInfos": [],
       "metadata": {},
       "removedWidgets": [],
       "type": "html"
      }
     },
     "output_type": "display_data"
    }
   ],
   "source": [
    "stream_df = spark \\\n",
    ".readStream \\\n",
    ".format('kinesis') \\\n",
    ".option('streamName','streaming-0affea73130b-pin') \\\n",
    ".option('initialPosition','latest') \\\n",
    ".option('region','us-east-1') \\\n",
    ".option('awsAccessKey', ACCESS_KEY) \\\n",
    ".option('awsSecretKey', SECRET_KEY) \\\n",
    ".load()"
   ]
  },
  {
   "cell_type": "code",
   "execution_count": 0,
   "metadata": {
    "application/vnd.databricks.v1+cell": {
     "cellMetadata": {
      "byteLimit": 2048000,
      "rowLimit": 10000
     },
     "inputWidgets": {},
     "nuid": "7e29d644-7fa9-4212-a243-ef5dd25d7121",
     "showTitle": false,
     "title": ""
    }
   },
   "outputs": [
    {
     "output_type": "display_data",
     "data": {
      "text/html": [
       "<style scoped>\n",
       "  .ansiout {\n",
       "    display: block;\n",
       "    unicode-bidi: embed;\n",
       "    white-space: pre-wrap;\n",
       "    word-wrap: break-word;\n",
       "    word-break: break-all;\n",
       "    font-family: \"Menlo\", \"Monaco\", \"Consolas\", \"Ubuntu Mono\", \"Source Code Pro\", monospace;\n",
       "    font-size: 13px;\n",
       "    color: #555;\n",
       "    margin-left: 4px;\n",
       "    line-height: 19px;\n",
       "  }\n",
       "</style>\n",
       "<div class=\"ansiout\"></div>"
      ]
     },
     "metadata": {
      "application/vnd.databricks.v1+output": {
       "addedWidgets": {},
       "arguments": {},
       "data": "<div class=\"ansiout\"></div>",
       "datasetInfos": [],
       "metadata": {},
       "removedWidgets": [],
       "type": "html"
      }
     },
     "output_type": "display_data"
    }
   ],
   "source": [
    "# Define the schema to speed up processing\n",
    "jsonSchema = StructType([ \n",
    "                         StructField(\"index\", StringType(), True), \n",
    "                         StructField(\"unique_id\", StringType(), True), \n",
    "                         StructField(\"title\", StringType(), True), \n",
    "                         StructField(\"description\", StringType(), True), \n",
    "                         StructField(\"poster_name\", StringType(), True), \n",
    "                         StructField(\"follower_count\", StringType(), True), \n",
    "                         StructField(\"tag_list\", StringType(), True), \n",
    "                         StructField(\"is_image_or_video\", StringType(), True), \n",
    "                         StructField(\"image_src\", StringType(), True), \n",
    "                         StructField(\"downloaded\", StringType(), True), \n",
    "                         StructField(\"save_location\", StringType(), True), \n",
    "                         StructField(\"category\", StringType(), True)\n",
    "                         ])\n"
   ]
  },
  {
   "cell_type": "code",
   "execution_count": 0,
   "metadata": {
    "application/vnd.databricks.v1+cell": {
     "cellMetadata": {
      "byteLimit": 2048000,
      "rowLimit": 10000
     },
     "inputWidgets": {},
     "nuid": "9527233c-4d2d-490d-a31f-b3a44de86a30",
     "showTitle": false,
     "title": ""
    }
   },
   "outputs": [
    {
     "output_type": "display_data",
     "data": {
      "text/html": [
       "<style scoped>\n",
       "  .ansiout {\n",
       "    display: block;\n",
       "    unicode-bidi: embed;\n",
       "    white-space: pre-wrap;\n",
       "    word-wrap: break-word;\n",
       "    word-break: break-all;\n",
       "    font-family: \"Menlo\", \"Monaco\", \"Consolas\", \"Ubuntu Mono\", \"Source Code Pro\", monospace;\n",
       "    font-size: 13px;\n",
       "    color: #555;\n",
       "    margin-left: 4px;\n",
       "    line-height: 19px;\n",
       "  }\n",
       "</style>\n",
       "<div class=\"ansiout\"></div>"
      ]
     },
     "metadata": {
      "application/vnd.databricks.v1+output": {
       "addedWidgets": {},
       "arguments": {},
       "data": "<div class=\"ansiout\"></div>",
       "datasetInfos": [],
       "metadata": {},
       "removedWidgets": [],
       "type": "html"
      }
     },
     "output_type": "display_data"
    }
   ],
   "source": [
    "string_df = stream_df.selectExpr(\"CAST(data as STRING)\")"
   ]
  },
  {
   "cell_type": "code",
   "execution_count": 0,
   "metadata": {
    "application/vnd.databricks.v1+cell": {
     "cellMetadata": {
      "byteLimit": 2048000,
      "rowLimit": 10000
     },
     "inputWidgets": {},
     "nuid": "f2eb11d3-f5f5-4848-ba2f-982b07258f15",
     "showTitle": false,
     "title": ""
    }
   },
   "outputs": [
    {
     "output_type": "display_data",
     "data": {
      "text/html": [
       "<style scoped>\n",
       "  .ansiout {\n",
       "    display: block;\n",
       "    unicode-bidi: embed;\n",
       "    white-space: pre-wrap;\n",
       "    word-wrap: break-word;\n",
       "    word-break: break-all;\n",
       "    font-family: \"Menlo\", \"Monaco\", \"Consolas\", \"Ubuntu Mono\", \"Source Code Pro\", monospace;\n",
       "    font-size: 13px;\n",
       "    color: #555;\n",
       "    margin-left: 4px;\n",
       "    line-height: 19px;\n",
       "  }\n",
       "</style>\n",
       "<div class=\"ansiout\"></div>"
      ]
     },
     "metadata": {
      "application/vnd.databricks.v1+output": {
       "addedWidgets": {},
       "arguments": {},
       "data": "<div class=\"ansiout\"></div>",
       "datasetInfos": [],
       "metadata": {},
       "removedWidgets": [],
       "type": "html"
      }
     },
     "output_type": "display_data"
    }
   ],
   "source": [
    "json_df = string_df.select(from_json(col(\"data\"), jsonSchema))"
   ]
  },
  {
   "cell_type": "code",
   "execution_count": 0,
   "metadata": {
    "application/vnd.databricks.v1+cell": {
     "cellMetadata": {
      "byteLimit": 2048000,
      "rowLimit": 10000
     },
     "inputWidgets": {},
     "nuid": "08a1b82d-5bbe-4ee5-95bf-744b69def69b",
     "showTitle": false,
     "title": ""
    }
   },
   "outputs": [
    {
     "output_type": "display_data",
     "data": {
      "text/html": [
       "<style scoped>\n",
       "  .ansiout {\n",
       "    display: block;\n",
       "    unicode-bidi: embed;\n",
       "    white-space: pre-wrap;\n",
       "    word-wrap: break-word;\n",
       "    word-break: break-all;\n",
       "    font-family: \"Menlo\", \"Monaco\", \"Consolas\", \"Ubuntu Mono\", \"Source Code Pro\", monospace;\n",
       "    font-size: 13px;\n",
       "    color: #555;\n",
       "    margin-left: 4px;\n",
       "    line-height: 19px;\n",
       "  }\n",
       "</style>\n",
       "<div class=\"ansiout\"></div>"
      ]
     },
     "metadata": {
      "application/vnd.databricks.v1+output": {
       "addedWidgets": {},
       "arguments": {},
       "data": "<div class=\"ansiout\"></div>",
       "datasetInfos": [],
       "metadata": {},
       "removedWidgets": [],
       "type": "html"
      }
     },
     "output_type": "display_data"
    }
   ],
   "source": [
    "pin_stream_df = json_df.withColumn(\"index\", col(\"from_json(data)\")[\"index\"])\\\n",
    ".withColumn(\"unique_id\", col(\"from_json(data)\")[\"unique_id\"])\\\n",
    ".withColumn(\"title\", col(\"from_json(data)\")[\"title\"])\\\n",
    ".withColumn(\"description\", col(\"from_json(data)\")[\"description\"])\\\n",
    ".withColumn(\"poster_name\", col(\"from_json(data)\")[\"poster_name\"])\\\n",
    ".withColumn(\"follower_count\", col(\"from_json(data)\")[\"follower_count\" ])\\\n",
    ".withColumn(\"tag_list\", col(\"from_json(data)\")[\"tag_list\" ])\\\n",
    ".withColumn(\"is_image_or_video\",col(\"from_json(data)\")[\"is_image_or_video\"])\\\n",
    ".withColumn(\"image_src\", col(\"from_json(data)\")[\"image_src\"])\\\n",
    ".withColumn(\"downloaded\", col(\"from_json(data)\")[\"downloaded\"])\\\n",
    ".withColumn(\"save_location\", col(\"from_json(data)\")[\"save_location\"])\\\n",
    ".withColumn(\"category\",col(\"from_json(data)\")[\"category\"])"
   ]
  },
  {
   "cell_type": "code",
   "execution_count": 0,
   "metadata": {
    "application/vnd.databricks.v1+cell": {
     "cellMetadata": {
      "byteLimit": 2048000,
      "rowLimit": 10000
     },
     "inputWidgets": {},
     "nuid": "c7802838-09db-4abf-aa8d-bd278a178495",
     "showTitle": false,
     "title": ""
    }
   },
   "outputs": [
    {
     "output_type": "display_data",
     "data": {
      "text/html": [
       "<style scoped>\n",
       "  .ansiout {\n",
       "    display: block;\n",
       "    unicode-bidi: embed;\n",
       "    white-space: pre-wrap;\n",
       "    word-wrap: break-word;\n",
       "    word-break: break-all;\n",
       "    font-family: \"Menlo\", \"Monaco\", \"Consolas\", \"Ubuntu Mono\", \"Source Code Pro\", monospace;\n",
       "    font-size: 13px;\n",
       "    color: #555;\n",
       "    margin-left: 4px;\n",
       "    line-height: 19px;\n",
       "  }\n",
       "</style>\n",
       "<div class=\"ansiout\"></div>"
      ]
     },
     "metadata": {
      "application/vnd.databricks.v1+output": {
       "addedWidgets": {},
       "arguments": {},
       "data": "<div class=\"ansiout\"></div>",
       "datasetInfos": [],
       "metadata": {},
       "removedWidgets": [],
       "type": "html"
      }
     },
     "output_type": "display_data"
    }
   ],
   "source": [
    "# drop from_json(data) column\n",
    "cleaned_df = pin_stream_df.drop(\"from_json(data)\")\n",
    "\n",
    "# replace empty values with none\n",
    "cleaned_df = cleaned_df.replace({'No description available Story format': None}, subset=['description'])\n",
    "cleaned_df = cleaned_df.replace({'User Info Error': None}, subset=['follower_count'])\n",
    "cleaned_df = cleaned_df.replace({'Image src error.': None}, subset=['image_src'])\n",
    "cleaned_df = cleaned_df.replace({'User Info Error': None}, subset=['poster_name'])\n",
    "cleaned_df = cleaned_df.replace({'N,o, ,T,a,g,s, ,A,v,a,i,l,a,b,l,e': None}, subset=['tag_list'])\n",
    "cleaned_df = cleaned_df.replace({'No Title Data Available': None}, subset=['title'])\n",
    "\n",
    "# cast int data type to follower_count column\n",
    "cleaned_df = cleaned_df.withColumn(\"follower_count\", regexp_replace(\"follower_count\", \"k\", \"000\"))\n",
    "cleaned_df = cleaned_df.withColumn(\"follower_count\", regexp_replace(\"follower_count\", \"M\", \"000000\"))\n",
    "cleaned_df = cleaned_df.withColumn(\"follower_count\", cleaned_df[\"follower_count\"].cast(\"int\"))\n",
    "\n",
    "# cast int data type to numeric data\n",
    "cleaned_df = cleaned_df.withColumn(\"downloaded\", cleaned_df[\"downloaded\"].cast(\"int\"))\n",
    "cleaned_df = cleaned_df.withColumn(\"index\", cleaned_df[\"index\"].cast(\"int\"))\n",
    "\n",
    "# clean save_location column to only include directory path\n",
    "cleaned_df = cleaned_df.withColumn(\"save_location\", regexp_replace(\"save_location\", \"Local save in \", \"\"))\n",
    "\n",
    "# rename index to ind\n",
    "cleaned_df = cleaned_df.withColumnRenamed(\"index\", \"ind\")\n",
    "\n",
    "# drop duplicates\n",
    "cleaned_df = cleaned_df.dropDuplicates()\n",
    "\n",
    "# reorder columns\n",
    "cleaned_df = cleaned_df.select(\"ind\", \"unique_id\", \"title\", \"description\", \"follower_count\", \"poster_name\", \"tag_list\", \"is_image_or_video\", \"image_src\", \"save_location\", \"category\")"
   ]
  },
  {
   "cell_type": "code",
   "execution_count": 0,
   "metadata": {
    "application/vnd.databricks.v1+cell": {
     "cellMetadata": {
      "byteLimit": 2048000,
      "rowLimit": 10000
     },
     "inputWidgets": {},
     "nuid": "ccad081c-802d-4e7a-92e0-824c6c36d091",
     "showTitle": false,
     "title": ""
    }
   },
   "outputs": [
    {
     "output_type": "display_data",
     "data": {
      "text/html": [
       "<style scoped>\n",
       "  .table-result-container {\n",
       "    max-height: 300px;\n",
       "    overflow: auto;\n",
       "  }\n",
       "  table, th, td {\n",
       "    border: 1px solid black;\n",
       "    border-collapse: collapse;\n",
       "  }\n",
       "  th, td {\n",
       "    padding: 5px;\n",
       "  }\n",
       "  th {\n",
       "    text-align: left;\n",
       "  }\n",
       "</style><div class='table-result-container'><table class='table-result'><thead style='background-color: white'><tr><th>ind</th><th>unique_id</th><th>title</th><th>description</th><th>follower_count</th><th>poster_name</th><th>tag_list</th><th>is_image_or_video</th><th>image_src</th><th>save_location</th><th>category</th></tr></thead><tbody><tr><td>7683</td><td>d01db019-c7c4-4888-8ee8-86ae3724438c</td><td>Dear Me, F*ck You - A Raw and Real Open Letter to Myself</td><td>When was the last time you wrote yourself a letter and poured out every emotion deep inside of you. Here's my open letter to myself.</td><td>228000</td><td>Iva A. Ursano Amazing Me Movement</td><td>Motivacional Quotes,Woman Quotes,Great Quotes,Inspirational Quotes,Sassy Quotes,Badass Quotes Women,Quotes For Me,Life Love Quotes,True To Yourself Quotes</td><td>image</td><td>https://i.pinimg.com/originals/c3/73/3a/c3733a5c87625096142d0bfbb0693a95.jpg</td><td>/data/quotes</td><td>quotes</td></tr><tr><td>809</td><td>9af9959d-6b6e-4646-a053-46161409ea84</td><td>Serie: Tarot – Naipe de Ouros – Dinheiro, Materialidade, Realizações</td><td>O dinheiro e os bens materiais são reflexos da nossa postura interior e da nossa capacidade de conservar e promover avanços. O perigo dessa energia é o apego, a procrastinação,… </td><td>39</td><td>Nina Gooden</td><td>Black Love Art,Black Girl Art,Art Girl,Art Beauté,Tarot,Black Art Painting,Black Art Pictures,Goddess Art,Black Goddess</td><td>image</td><td>https://i.pinimg.com/originals/98/c6/f5/98c6f5b879e9c454b7d972381214c812.jpg</td><td>/data/art</td><td>art</td></tr><tr><td>8477</td><td>438c3aa2-b40b-450c-af3e-ec098178d56d</td><td>48 Mother Daughter Quotes To Make You Laugh & Cry</td><td>Whether you are searching for inspiration to pull you through or looking to hear some sweet sentiments, you will love these mother daughter quotes!</td><td>19000</td><td>Rookie Moms</td><td>Citations Top,The Words,Love Quotes For Her,Quotes To Live By,Love Quotes For Kids,Quotes About Little Boys,Family Quotes And Sayings,Mom Sayings,Thoughts</td><td>image</td><td>https://i.pinimg.com/originals/34/8c/0e/348c0e258a227dbd86ec1e2f53cb3d9a.jpg</td><td>/data/quotes</td><td>quotes</td></tr><tr><td>4724</td><td>4b247514-3c7b-4dd5-a58e-29eb4246bbfa</td><td>25 Ways To Use Balloons in Your Wedding Décor</td><td>Using balloons in your wedding décor is a fresh and fun way to celebrate. Here, we've rounded up fun ideas you'll love.</td><td>371000</td><td>BRIDES</td><td>Corporate Event Design,Floating Lanterns,Balloon Arrangements,Love Balloon,Diy Backdrop,Elegant Wedding,Wedding Reception,Party Wedding,Gold Party</td><td>image</td><td>https://i.pinimg.com/originals/de/dc/38/dedc38e36d4a4ed0282d5a2e854af7ae.png</td><td>/data/event-planning</td><td>event-planning</td></tr><tr><td>1735</td><td>4a0a5961-2b56-4e28-a991-8b260a07ecdb</td><td>Pinecone Christmas Trees</td><td>Pinecone Christmas Tree Craft - a festive DIY your kids will enjoy! Make adorable Christmas trees with pinecones, paint and colorful pom poms!</td><td>85000</td><td>Made to be a Momma</td><td>Christmas Tree Crafts,Colorful Christmas Tree,Pinecone Crafts Kids,Pine Cone Christmas Tree,Preschool Christmas Crafts,Christmas Trees For Kids,Christmas Tree Painting,Christmas Activities,Painted Christmas Ornaments</td><td>image</td><td>https://i.pinimg.com/originals/a3/f4/ad/a3f4ade8016b2e1663e5fa341c17fd18.jpg</td><td>/data/christmas</td><td>christmas</td></tr><tr><td>1919</td><td>30b08615-11a5-415e-99c9-4bac9a3596fd</td><td>Modern Farmhouse Christmas Decor  Inspiration</td><td>Christmas is fast approaching and if you are anything like me, decorating your home for the holidays can be stressful and I love modern farmhouse Christmas decor. I look at Pint… </td><td>45000</td><td>Hudson Farmhouse</td><td>Elegant Christmas Centerpieces,Decoration Christmas,Farmhouse Christmas Decor,Christmas Kitchen,Noel Christmas,Country Christmas,White Christmas,Christmas Ideas,Christmas Design</td><td>image</td><td>https://i.pinimg.com/originals/dd/11/69/dd1169d62a5d87b840bd77f722e419e8.jpg</td><td>/data/christmas</td><td>christmas</td></tr><tr><td>2633</td><td>894cb59e-b00c-4dad-89a1-9060ba46b287</td><td>Cozy Rustic Farmhouse Christmas Living Room</td><td>Rustic Christmas Trees in Old Crocks for that Farmhouse, Country, Primitive Decorating Style.</td><td>30000</td><td>Rocky Hedge Farm - Simple Life | Simple Home</td><td>Country Christmas Decorations,Christmas Porch,Farmhouse Christmas Decor,Winter Christmas,Outdoor Decorations,Christmas Cactus,Primitive Christmas Tree,Christmas 2019,Christmas Lights</td><td>image</td><td>https://i.pinimg.com/originals/65/ae/dd/65aeddeff07ce74a863d333e5463bb9e.jpg</td><td>/data/christmas</td><td>christmas</td></tr><tr><td>9333</td><td>4ba47c18-6725-44d2-9b02-cbb4f649429b</td><td>Top 79 Filler Tattoo Design Ideas - [2021 Inspiration Guide]</td><td>Discover smaller sized ink inspiration with the top 79 best filler tattoos. Explore cool empty gap design ideas from traditional to contemporary</td><td>800000</td><td>Next Luxury</td><td>Neotraditionelles Tattoo,Tatto Old,Body Art Tattoos,Small Tattoos,Sleeve Tattoos,Cool Tattoos,Traditional Heart Tattoos,Traditional Tattoo Filler,Traditional Tattoo Design</td><td>image</td><td>https://i.pinimg.com/originals/bc/71/39/bc71394b672391d792945a6627ad817b.jpg</td><td>/data/tattoos</td><td>tattoos</td></tr><tr><td>2529</td><td>01199c1e-3f4a-4958-9abb-ebc52ea2a5d3</td><td>55+ Christmas Gifts for Mom | What to get mom for Christmas | Giftideascorner</td><td>Holiday Activities List for the Month of December Leading up to Christmas</td><td>8000</td><td>Gift Ideas Corner</td><td>25 Days Of Christmas,Noel Christmas,Christmas Vacation,Christmas Countdown,Winter Christmas,Christmas To Do List,Christmas Island,Christmas Ideas For Mom,Christmas Presents</td><td>image</td><td>https://i.pinimg.com/originals/ee/51/fa/ee51fa8237e93594e66af111f56304e5.jpg</td><td>/data/christmas</td><td>christmas</td></tr><tr><td>8552</td><td>0c996198-f6c7-478e-9bd9-491c5fa4362f</td><td>35 Amazingly Pretty Flower Tattoos That Are Perfect For The Spring & Summer</td><td>Want a new tattoo for the Spring or Summer? Look to these 35 best tattoo ideas to inspire you to get your own version of a pretty flower tattoo or nature tattoo. From watercolor… </td><td>942000</td><td>YourTango</td><td>Dainty Tattoos,Unique Tattoos,Small Tattoos,Cool Tattoos,Floral Tattoos,Tatoos,Cute Hand Tattoos,Inspiring Tattoos,Elegant Tattoos</td><td>image</td><td>https://i.pinimg.com/originals/8b/d1/5d/8bd15d66d96308e157ea359ed7c135e5.jpg</td><td>/data/tattoos</td><td>tattoos</td></tr><tr><td>443</td><td>a0fd8d86-7530-47f1-a354-8860b7decea4</td><td>Book Art Is Awesome: Drawn Edition</td><td>I am so sorry. The pieces in the previous book art posts were largely unattainable. We were talking large-scale sculptures or art gallery pieces. These weren't things you could… </td><td>154000</td><td>Book Riot</td><td>Sketch Painting,Drawing Sketches,Art Drawings,Sketch Ink,Drawing Ideas,Shadow Painting,Collage Drawing,Book Drawing,Shadow Art</td><td>image</td><td>https://i.pinimg.com/originals/99/6c/cb/996ccbf53f699adfada0e3a8263dbe14.jpg</td><td>/data/art</td><td>art</td></tr><tr><td>3723</td><td>46c3331d-50ff-46fa-a8de-b0b7b0b9344d</td><td>Special Education Classroom Setup</td><td>One of the most challenging tasks as a special education teacher is setting up a safe, organized classroom environment for a class with multiple disabilities. Learn more about t… </td><td>16000</td><td>Simply Special Ed | Resources for Special Education Teachers</td><td>Special Education Organization,Kindergarten Special Education,Special Education Activities,Teaching Schools,Special Education Teacher,Classroom Organization,Life Skills Classroom,Classroom Layout,Autism Classroom</td><td>image</td><td>https://i.pinimg.com/originals/22/0e/0f/220e0f3de0e6fd04536979563cd91b2e.jpg</td><td>/data/education</td><td>education</td></tr><tr><td>9582</td><td>b05016ee-4e8a-4dc2-be11-8287a61fc2a6</td><td>The Ultimate London-Scotland-Ireland Itinerary</td><td>The ultimate London Scotland Ireland Itinerary including advice on when to go, things to do and the best places to stay!</td><td>5000</td><td>The World Was Here First</td><td>Scotland Vacation,Ireland Vacation,Scotland Travel,Ireland Travel,Scotland Trip,Galway Ireland,Traveling To Ireland,Honeymoon Ireland,Cork Ireland</td><td>image</td><td>https://i.pinimg.com/originals/b6/bd/47/b6bd4780098893ecd020ea246f21d074.jpg</td><td>/data/travel</td><td>travel</td></tr><tr><td>414</td><td>ce1129a8-9e51-4474-958a-394b4dc8b0bf</td><td>Creative Rock Painting for Kids</td><td>Rock painting for kids is always a fun activity! Click to find awesome rock painting ideas kids of all ages will love to make!</td><td>20000</td><td>Projects with Kids</td><td>Rock Painting Patterns,Rock Painting Ideas Easy,Rock Painting Designs,Rock Painting Ideas For Kids,Painting Crafts For Kids,Rock Painting Supplies,Art And Craft,Stone Art Painting,Pebble Painting</td><td>image</td><td>https://i.pinimg.com/originals/88/3b/9e/883b9e12bbffc6fb217c27280708a060.jpg</td><td>/data/art</td><td>art</td></tr><tr><td>4224</td><td>ebd8f520-f733-4a52-bafd-93c517784f60</td><td>Executive Functioning Skills Explained</td><td>Executive functioning skills are getting a lot of attention right now in education. Honestly, it's not even the amount of attention that they deserve, though. Executive function… </td><td>56000</td><td>Pathway 2 Success</td><td>Study Skills,Coping Skills,Skills List,Learning Tips,Kids Learning,Planning School,Working Memory,Working Hard,School Social Work</td><td>image</td><td>https://i.pinimg.com/originals/39/cc/20/39cc2047538f098b707255c29072d4b7.png</td><td>/data/education</td><td>education</td></tr><tr><td>8808</td><td>a7732aa5-dbc2-4b86-9218-600e364f19cb</td><td>21 Best Tiny Tattoos For Girls</td><td>Tiny tattoos are the most delicate way to add to your ink collection, not to mention, the prettiest. Whether it's a tiny heart hidden on your wrist, a single needle etching on t… </td><td>54000</td><td>Beautyholo | Latest Hairstyles, Nail Design Ideas, Home Décor DIY, Women Fashion Ideas</td><td>Dainty Tattoos,Baby Tattoos,Mini Tattoos,Tatoos,Blue Flower Tattoos,Flower Tattoo On Ribs,Tiny Tattoos For Girls,Cute Tattoos For Women,Forget Me Not Tattoo</td><td>image</td><td>https://i.pinimg.com/originals/26/9e/b7/269eb77620d54a04ee9c6edfcc6518ca.jpg</td><td>/data/tattoos</td><td>tattoos</td></tr><tr><td>3683</td><td>3798659e-2dd1-4f30-ba89-b5a553f1dc8a</td><td>Complete Sentences and Beyond! - Teaching with a Mountain View</td><td>Here is a super fun and easy group activity you can try to teach your students complete sentences and beyond.</td><td>76000</td><td>Teaching With a Mountain View</td><td>Writing Complete Sentences,Mentor Sentences,Paragraph Writing,Writing Rubrics,Narrative Writing,Opinion Writing,Persuasive Writing,Making Sentences,Writing Sentences</td><td>image</td><td>https://i.pinimg.com/originals/69/67/78/69677814f0ce97e0cbd549b352e46ece.jpg</td><td>/data/education</td><td>education</td></tr><tr><td>3937</td><td>a4c64947-0752-43bf-8d35-ee66f485f95c</td><td>No Prep Telling Time Games: Roll & Cover - This Reading Mama</td><td>No Prep Telling Time Games: Roll & Cover - This Reading Mama</td><td>175000</td><td>This Reading Mama</td><td>Telling Time Games,Telling Time Activities,Teaching Time,Teaching Math,Telling Time For Kids,Telling Time In Spanish,Math Activities,Math For Kids,Fun Math</td><td>image</td><td>https://i.pinimg.com/originals/1f/09/19/1f0919652da1bdb09483e35df7dc77ba.jpg</td><td>/data/education</td><td>education</td></tr><tr><td>5283</td><td>30ddcbd4-d0db-488f-897e-ed4db3b94289</td><td>20+ MOST Creative Ways to Make Money - A CENTSational Life</td><td>Take Control Of Your Finances & Make More Money In 2020! Get Out Of Debt With Multiple Streams Of Income. #makemoney #debtfree #financialfreedom #sidehustle #extraincome #2020</td><td>7000</td><td>A CENTSational Life | Make Money, Save Money, Live Your Best Life</td><td>Ways To Save Money,Make More Money,Money Tips,Money Saving Tips,Managing Money,Money Budget,Money Plan,Extra Money,Budgeting Finances</td><td>image</td><td>https://i.pinimg.com/originals/c4/79/05/c47905587030bcab266d60905e8285dd.png</td><td>/data/finance</td><td>finance</td></tr><tr><td>10505</td><td>56df04d6-0a39-4dd0-a23f-106b641dee09</td><td>J-truck photos - Page 19</td><td>Page 19-J-truck photos General FSJ Discussion</td><td>6000</td><td>TATEMS</td><td>Jeep Pickup,Jeep Truck,Lifted Trucks,Cool Trucks,Pickup Trucks,Truck Drivers,Dodge Trucks,Lifted Ford,Chevrolet Trucks</td><td>image</td><td>https://i.pinimg.com/originals/2c/f7/1b/2cf71b178cbd69f749738c8334a6de9b.jpg</td><td>/data/vehicles</td><td>vehicles</td></tr><tr><td>10158</td><td>ce5e5666-f9f0-43d4-ba2b-476ed9170a69</td><td>Prettiest Cities in Italy</td><td>Looking for the prettiest cities in Italy to visit during your trip? This comprehensive article includes big cities, coastal towns and hidden gems - all breathtakingly beautiful… </td><td>28000</td><td>Nicki </td><td>Italy Travel Tips,Europe Travel Guide,Europe Destinations,Traveling To Italy Tips,Bucket List Destinations,Travel List,Travel Guides,Visit Italy,Italy Places To Visit</td><td>image</td><td>https://i.pinimg.com/originals/f5/92/2e/f5922ef29414b5533e3b7855d3107bf9.jpg</td><td>/data/travel</td><td>travel</td></tr><tr><td>10711</td><td>f6eb2e66-f845-416c-9162-13e2be234e52</td><td>Armortruck Futuristic Armored SUV Concept | Cool Material</td><td>We’ve seen plenty of futuristic, apocalypse-ready vehicles over the years. Few of them compare to the share absurdity of the Armortruck Futuristic Armored SUV Concept from Bulga… </td><td>36000</td><td>Cool Material</td><td>Dreamworks,Off Road Tires,Armored Truck,Futuristic Cars,Futuristic Vehicles,Futuristic Design,Armored Vehicles,Suv Vehicles,Army Vehicles</td><td>image</td><td>https://i.pinimg.com/originals/57/c0/7b/57c07bd860bdec0d7e0dc50ade4ae90b.png</td><td>/data/vehicles</td><td>vehicles</td></tr><tr><td>9020</td><td>eb428d2b-0167-49e3-8a11-2ba8bde3bc55</td><td>43 Beautiful Penoy Flower Tattoo Design Ideas For Fashion Woman</td><td>Peony tattoos are beautiful and these have become one of the most popular pieces of body art. The flowers symbolize many things including good fortune, romance, compassion and m… </td><td>771</td><td>Fashionsum | Nails, Tattoos, Hair, Makeup</td><td>Sexy Tattoos,Cute Tattoos,Beautiful Tattoos,Girl Tattoos,Small Tattoos,Sleeve Tattoos,Tatoos,Faith Tattoos,Music Tattoos</td><td>image</td><td>https://i.pinimg.com/originals/67/d6/da/67d6daef5df258e8851eed3df8a152b2.png</td><td>/data/tattoos</td><td>tattoos</td></tr><tr><td>10675</td><td>ff6eb7bd-0d32-47a5-9b4b-af672f5478eb</td><td>The Brubaker Box is back, almost</td><td>The ‘60s surf wagon is poised for a comeback.</td><td>63</td><td>Billy Lintzenich</td><td>Weird Cars,Cool Cars,Vw Modelle,Vw Lt,Rc Autos,Car Design Sketch,Monospace,Futuristic Cars,Custom Vans</td><td>image</td><td>https://i.pinimg.com/originals/43/0f/d3/430fd3fa5b88d0c6f817412299b8094b.jpg</td><td>/data/vehicles</td><td>vehicles</td></tr><tr><td>2861</td><td>95483c0e-e7b6-4f56-a9c0-0880fef04405</td><td>DIY Pom Pom Letters for MOM!</td><td>Marla Meridith - DIY Pom Pom Letters for MOM!</td><td>671000</td><td>Marla Meridith</td><td>Toddler Crafts,Diy Crafts For Kids,Projects For Kids,Fun Crafts,Craft Projects,Arts And Crafts,Kids Diy,Craft Ideas For Girls,Back To School Crafts For Kids</td><td>image</td><td>https://i.pinimg.com/originals/a8/87/fc/a887fc1757a08dfeb6e14b774d4a3a80.jpg</td><td>/data/diy-and-crafts</td><td>diy-and-crafts</td></tr><tr><td>9106</td><td>a4c5a298-f07f-4a76-bece-45219ef9ecac</td><td>13 Inspiring Shakespeare Tattoos</td><td>If you're a romantic bookworm looking to truly express your love for the Bard and his works, check out these Shakespeare tattoos and get inspired.</td><td>4000</td><td>Books and Bao | Travel, Culture, Books</td><td>Feminine Tattoo Sleeves,Feminine Tattoos,Unique Tattoos,Cute Tattoos,Leg Tattoos,Beautiful Tattoos,Body Art Tattoos,Small Tattoos,Sleeve Tattoos</td><td>image</td><td>https://i.pinimg.com/originals/01/63/eb/0163eb6fee8859189645e4d6d7432e70.jpg</td><td>/data/tattoos</td><td>tattoos</td></tr><tr><td>2237</td><td>81186814-b77a-4cda-b660-bd107f87b7bb</td><td>30 Cheap Christmas Decorations for any Budget - Happily Ever After, Etc.</td><td>I am ready to decorate for Christmas… but with all the things filling the store my pocketbook is feeling a little unprepared. Which is why I’ve gathered an entire list of 30 che… </td><td>53000</td><td>Happily Ever After Etc</td><td>Winter Wedding Centerpieces,Simple Centerpieces,Flower Centerpieces,Centerpiece Ideas,Diy Christmas Wedding Centerpieces,Christmas Wedding Flowers,Graduation Centerpiece,Quinceanera Centerpieces,Diy Candles Christmas</td><td>image</td><td>https://i.pinimg.com/originals/17/43/b0/1743b0f9c21df48678b2b1058af284fb.jpg</td><td>/data/christmas</td><td>christmas</td></tr><tr><td>5083</td><td>5ae54ea8-1e83-4bde-82a0-81c420d1d406</td><td>How to Start Investing Without Knowing Anything About the Stock Market</td><td>Investing tips for beginners. Learn how to invest in stock market even if you don't know anything about it.</td><td>15000</td><td>DollarSanity</td><td>Stocks For Beginners,Stock Market For Beginners,Dividend Investing,Investing Money,Saving Money,Saving Tips,Silver Investing,Stock Market Investing,Finance Stock Market</td><td>image</td><td>https://i.pinimg.com/originals/47/8d/62/478d62d14e39d51753f19b9ab23afb50.jpg</td><td>/data/finance</td><td>finance</td></tr><tr><td>10278</td><td>dd018bba-02a2-4591-99d8-ce9eeb3e6c96</td><td>Travel Guide To Copenhagen - Places To Stay, Where To Eat & More</td><td>In this travel guide to Copenhagen, I share where to stay, best things to see, where to eat, things to know, and day-by-day itinerary.</td><td>22000</td><td>RD's Obsessions</td><td>Travel Photography Tumblr,Photography Beach,Animal Photography,Wedding Photography,Copenhagen Travel,Copenhagen Denmark,Places To Travel,Travel Destinations,Places To Visit</td><td>image</td><td>https://i.pinimg.com/originals/66/3e/78/663e783e20c7fd1b176970e242b26ba8.jpg</td><td>/data/travel</td><td>travel</td></tr><tr><td>3757</td><td>59706e74-631f-4326-bb36-779a34bc8c1f</td><td>67 Best Classroom Setup Ideas for Back to School - Chaylor & Mads</td><td>67 Best Classroom Setup Ideas for Back to School - Chaylor & Mads</td><td>92000</td><td>Kristen | Lifestyle, Mom Tips & Teacher Stuff Blog</td><td>Kindergarten Classroom Decor,Modern Classroom,3rd Grade Classroom,New Classroom,Classroom Design,Toddler Classroom Decorations,Classroom Decor Themes,Primary Classroom Displays,Elementary Classroom Themes</td><td>image</td><td>https://i.pinimg.com/originals/b4/88/d0/b488d05cdc2a419ea8f9542c55711e8e.jpg</td><td>/data/education</td><td>education</td></tr><tr><td>2316</td><td>fcb8b5c5-5cfb-40fe-8441-3ca154843e90</td><td>Nordic Gnomes Needle Felting Kit</td><td>Needle felt this cheeky pair of Nordic Gnomes, and create the perfect Scandi Christmas scene! This needle felting kit contains everything you need to make your own cute needle f… </td><td>50</td><td>Rosemary Wild Fabrics</td><td>Felt Christmas Ornaments,Christmas Crafts,Christmas Stocking,Needle Felting Kits,Wool Felting,Christmas Needle Felting,Needle Felting Tutorials,Needle Felted Ornaments,Felted Scarf</td><td>image</td><td>https://i.pinimg.com/originals/b0/21/7e/b0217e468b48d20d26f9864096a447ef.jpg</td><td>/data/christmas</td><td>christmas</td></tr><tr><td>7886</td><td>7130273e-32e5-4f76-8e93-1bee300d3fee</td><td>125 Cute Captions For Pictures Of Your Girlfriend On Instagram</td><td>When writing Instagram captions for girlfriends, especially on couples' selfies, using love quotes, sweet lines from songs or romantic sayings will make her smile.</td><td>942000</td><td>YourTango</td><td>Cute Love Quotes,Soulmate Love Quotes,Inspirational Quotes About Love,Love Quotes For Her,Romantic Love Quotes,Quotes To Live By,Happy Quotes About Love,Love Couple Quotes,You Make Me Happy Quotes</td><td>image</td><td>https://i.pinimg.com/originals/3c/e4/b0/3ce4b086e8a1852e0e5963df34449bf6.jpg</td><td>/data/quotes</td><td>quotes</td></tr><tr><td>1969</td><td>37ebe443-3b5a-4b42-acf6-3236f24db268</td><td>Gingerbread House Decorating Party - Darling Darleen | A Lifestyle Design Blog</td><td>Gingerbread House Decorating Party + FREE Printables for the perfect holiday birthday party idea or Christmas party for children || Darling Darleen</td><td>15000</td><td>Darling Darleen</td><td>Adult Christmas Party,Christmas Birthday Party,Winter Birthday,Christmas Party Decorations,Holiday Parties,Christmas Holidays,Decoration Party,Gingerbread Birthday Party,Craft Birthday Party</td><td>image</td><td>https://i.pinimg.com/originals/bf/ae/2e/bfae2e8793a41a8aaae00b86801e9ba7.jpg</td><td>/data/christmas</td><td>christmas</td></tr><tr><td>10582</td><td>2d30865b-da84-4024-8b67-ad9c3ef1e536</td><td>C. Walker: Photo</td><td>The inner rambling of a mad man! Why dont you drop by my website- SUPER AMAZING WEBSITE MACHINE!</td><td>13000</td><td>Michele Noh</td><td>Luxury Sports Cars,Classic Sports Cars,Classic Cars,Porsche Classic,Maserati,Bugatti,Ferrari Daytona,Ferrari 328,Datsun 240z</td><td>image</td><td>https://i.pinimg.com/originals/72/91/a8/7291a8228bc21bcb373db109ce70f3e3.jpg</td><td>/data/vehicles</td><td>vehicles</td></tr><tr><td>5570</td><td>fef5ae17-a38a-4830-9aaf-4c2ba95edb78</td><td>How To Become Debt-Free As Quickly As Possible - Ask Miss Whimsical</td><td>Are you sitting on a pile of debt and wondering how will you be able to repay it? This post contains affiliate links. For more information, see my disclosures here. …</td><td>99</td><td>Ask Miss Whimsical</td><td>Finance Books,Finance Tips,Planning Budget,Financial Planning,Financial Budget,Credit Card Interest,Paying Off Credit Cards,Savings Plan,Savings Challenge</td><td>image</td><td>https://i.pinimg.com/originals/e2/b6/51/e2b651feb0a743199b0b91e529255ff3.jpg</td><td>/data/finance</td><td>finance</td></tr><tr><td>4036</td><td>7ac78454-a821-417d-93c4-fe99c9de0532</td><td>The Unfair Game - The Comprehensible Classroom</td><td>The Unfair Game is a totally unfair twist on Jeopardy that your students will LOVE to hate! Learn how to play and find sample game boards in this post.</td><td>13000</td><td>The Comprehensible Classroom by Martina Bex</td><td>Teaching Strategies,Teaching Resources,Teaching Art,Teaching Ideas,Teaching Class,Vocabulary Strategies,Critical Thinking Activities,Teaching Channel,Teaching Literature</td><td>image</td><td>https://i.pinimg.com/originals/92/0e/4f/920e4f592faec9404652f31c6814590c.jpg</td><td>/data/education</td><td>education</td></tr><tr><td>612</td><td>db55a82c-1fbc-4f29-ba46-f0f55dbc115e</td><td>Hot Glue Canvas Art</td><td>How to make Hot Glue Art - create custom canvas art with a favorite quote using hot glue and acrylic craft paint. #TheCrazyCraftLady #hotgluecraft #hotglueart #diyart</td><td>105000</td><td>The Crazy Craft Lady</td><td>Canvas Art Quotes,Diy Canvas Art,Canvas Crafts,Custom Canvas,Custom Wall,Canvas Ideas,Canvas Canvas,Canvas Art Projects,Framed Canvas</td><td>image</td><td>https://i.pinimg.com/originals/bd/02/7e/bd027e21a7c813c1ac09771982c7d1cf.jpg</td><td>/data/art</td><td>art</td></tr><tr><td>10444</td><td>c8b8a9f8-241c-456a-8a7e-07b291eecd78</td><td>Oshkosh JLTV First Drive Review</td><td>In this special Motor Trend story, we get behind the wheel of the U.S.' new Baja-tuned, GM Duramax-diesel-powered, Humvee replacement.</td><td>65000</td><td>MotorTrend</td><td>Lifted Ford Trucks,Jeep Truck,Big Trucks,Army Vehicles,Armored Vehicles,Oshkosh Jltv,Us Army Rangers,Armored Truck,Armored Fighting Vehicle</td><td>image</td><td>https://i.pinimg.com/originals/2d/7e/3d/2d7e3d75f85094b73cc01761b871f5d2.jpg</td><td>/data/vehicles</td><td>vehicles</td></tr><tr><td>4159</td><td>0c482cf8-b912-4886-83c6-fe57bf9eac00</td><td>Weather Activities For Kids - Teaching Special Thinkers</td><td>March is the perfect time to pull out ALL your rainbow and weather activities! Turn your classroom into a seasonal storm with our Made For Me Literacy Weather Unit! This unit is… </td><td>21000</td><td>Teaching Special Thinkers</td><td>Special Education Classroom,Classroom Community,Special Education Activities,Teaching Math,Preschool Kindergarten,Preschool Education,Science Classroom,Classroom Ideas,Lesson Plan For Kindergarten</td><td>image</td><td>https://i.pinimg.com/originals/53/f0/f8/53f0f80e2048085e7e5a866cfd558ecd.png</td><td>/data/education</td><td>education</td></tr><tr><td>601</td><td>4a038a5a-e430-4a6a-bd4f-63015a2f3632</td><td>End of a season  - Art Print - 7.5 x 10 / Somerset Velvet</td><td>End of a season art print by Jacqueline Bergeron. Our art prints are produced on acid-free papers using archival inks to guarantee that they last a lifetime without fading or lo… </td><td>159</td><td>Jacqueline MB Designs</td><td>Wooden Row Boat,Classic Wooden Boats,Foggy Morning,Framed Prints,Art Prints,Us Images,New England,Fine Art America,Instagram Images</td><td>image</td><td>https://i.pinimg.com/originals/66/f8/0d/66f80d39b93e060f9c9703f01b947ac9.jpg</td><td>/data/art</td><td>art</td></tr><tr><td>2756</td><td>f4502efe-3c29-4642-b146-5140e6f9a46d</td><td>Paper Plate Llamas | Handmade Charlotte</td><td>Turn regular paper plates into these adorable and cuddly llama friends!</td><td>948000</td><td>Handmade Charlotte</td><td>Paper Crafts For Kids,Preschool Crafts,Paper Crafting,Diy For Kids,Diy And Crafts,Arts And Crafts,Craft Ideas For Girls,Crafts At Home,Diy Crafts With Paper</td><td>image</td><td>https://i.pinimg.com/originals/ed/3b/03/ed3b0350a3255847200f16b60dc928ab.jpg</td><td>/data/diy-and-crafts</td><td>diy-and-crafts</td></tr><tr><td>7260</td><td>172ad7a1-386b-4952-af99-db832ba27822</td><td>Het perfecte T-shirt is nóg iets perfecter geworden</td><td>Met een verbetering waar je nooit aan gedacht had. Lees meer.</td><td>130000</td><td>Esquire Magazine</td><td>Trendy Mens Fashion,Stylish Mens Outfits,Casual Wear For Men,Formal Men Outfit,Men Summer Fashion,Casual Man,Fashion Men,Outfit Hombre Casual,Mode Masculine Fashion</td><td>image</td><td>https://i.pinimg.com/originals/c9/ce/3c/c9ce3cc0fcfbb2917d48609c041ddb7f.jpg</td><td>/data/mens-fashion</td><td>mens-fashion</td></tr><tr><td>6675</td><td>76917c24-3fc0-4fe0-8ad7-4b3f49ca0d1b</td><td>How to style a bar cart</td><td>Sharing bar cart styling, from picking out the perfect cart to adding the final decor touches</td><td>2000</td><td>Anoushka Probyn</td><td>Home Bar Decor,Bar Cart Decor,First Apartment,Apartment Bar,College House,Bar Cart Styling,Minimalist Room,House Rooms,Home Decor Inspiration</td><td>image</td><td>https://i.pinimg.com/originals/83/ae/e1/83aee132f1c44877f6cb78452ee1e1aa.jpg</td><td>/data/home-decor</td><td>home-decor</td></tr><tr><td>6122</td><td>2f0ee315-dca0-4d21-9f00-ba5c3cd0e254</td><td>NSW Central Coast Tree Change</td><td>modern chic home decor #style #interiors</td><td>247000</td><td>Homes To Love AU</td><td>Home Organisation,Kitchen Organization,Kitchen Storage,Organization Ideas,Storage Ideas,Pantry Storage,Storage Jars,Small Storage,Kitchen Shelves</td><td>image</td><td>https://i.pinimg.com/originals/10/76/12/107612b7f70eca3d389c32992946489b.jpg</td><td>/data/home-decor</td><td>home-decor</td></tr><tr><td>4164</td><td>c4a595b0-539a-4836-8541-7d1d27c42f46</td><td>Place Value Math Centers</td><td>Place Value Math Center activities to teach students how to write, model and draw 2-digit numbers using tens and ones.</td><td>25000</td><td>A Kinderteacher Life</td><td>Kindergarten Math Activities,Fun Math,Teaching Math,Math Games,Math Math,Numbers Kindergarten,Guided Math,Educational Activities,Math Place Value</td><td>image</td><td>https://i.pinimg.com/originals/4f/75/74/4f75749269861a7ff64be51ff1e224d9.jpg</td><td>/data/education</td><td>education</td></tr><tr><td>1757</td><td>5085377d-c6bf-4a29-8f35-9570599db2d7</td><td>Christmas Gift Wrapping Ideas.</td><td>Just in time for Christmas, I'm so excited to share my 6 easy DIY Christmas Gift Wrapping Ideas. All using items you have on hand at home, or that can be easily picked up. Have… </td><td>912000</td><td>Half Baked Harvest</td><td>Diy Gifts For Christmas,Christmas Mood,Noel Christmas,Christmas Gift Wrapping,Christmas Bedroom,Elegant Christmas,Christmas Skirt,Magical Christmas,Homemade Christmas</td><td>image</td><td>https://i.pinimg.com/originals/88/08/a2/8808a2b67a2f5df571502cb8e7087974.jpg</td><td>/data/christmas</td><td>christmas</td></tr><tr><td>9602</td><td>cac6d26e-225d-40ad-adc3-b48f8a7b6433</td><td>United States Travel Bucket List: 50 Places to See Before You Die</td><td>To help you with your US travel bucket list, we've rounded up 50 places to see befe you die, from national parks to historic attractions.</td><td>27000</td><td>Oyster.com | Hotel Reviews and Travel Tips</td><td>Us Travel Destinations,Bucket List Destinations,Places To Travel,Places To See,Amazing Destinations,Vacation Places In Usa,Family Vacation Destinations,Travel Things,Voyage Usa</td><td>image</td><td>https://i.pinimg.com/originals/11/c6/94/11c694eea4f07ff0ac949b7e7a767c9c.png</td><td>/data/travel</td><td>travel</td></tr><tr><td>10068</td><td>edda202c-4b5b-4d9b-af73-88fbac11bd0c</td><td>The top 20 hotels where influencers stay</td><td>The 20 top hotels favoured by Instagrammers | Husskie | Elsa's Wholesome Life Ellie Bullen</td><td>20000</td><td>Husskie</td><td>Time Travel,Places To Travel,Places To Visit,Travel Sights,Travel Europe,Travel Usa,Travel Movies,Nightlife Travel,Spain Travel</td><td>image</td><td>https://i.pinimg.com/originals/80/a4/a9/80a4a98b7aeeef39af432efb710f1d98.jpg</td><td>/data/travel</td><td>travel</td></tr><tr><td>891</td><td>62023514-9425-4b92-a801-4bfd1ff050b9</td><td>\"Belly Dancer\" Small Archival Print of a Belly Dancing Dinosaur</td><td>Love what you surround yourself with, and collect that which brings you joy! Check out more images like this in the Artifact Fine Art shop, - you deserve a few extra minutes of… </td><td>12</td><td>Artifact Fine Art</td><td>Dinosaur Cards,Thing 1,Dance Art,Belly Dancers,Limited Edition Prints,T Rex,Large Prints,Giclee Print,Drawings</td><td>image</td><td>https://i.pinimg.com/originals/77/df/ec/77dfec84878430d783d8914f1e66b311.jpg</td><td>/data/art</td><td>art</td></tr><tr><td>2665</td><td>dee85d4a-5c81-4a49-bfbd-62405c31e894</td><td>DIY PINEAPPLE EARPHONE HOLDER</td><td>null</td><td>60000</td><td>Girl Crafts</td><td>Fun Easy Crafts,Diy Crafts For Girls,Diy Crafts To Do,Fun Arts And Crafts,Diy Crafts Hacks,Cute Crafts,Diy Craft Projects,Creative Crafts,Pinterest Diy Crafts</td><td>multi-video(story page format)</td><td>https://i.pinimg.com/videos/thumbnails/originals/97/3a/1b/973a1be7fe0db2be0dd4a664f68ab643.0000001.jpg</td><td>/data/diy-and-crafts</td><td>diy-and-crafts</td></tr><tr><td>8501</td><td>592a7c54-60b0-45da-be7d-089e3fb29b52</td><td>Tattoo design |Wonderful Butterfly tattoo design-A symbol of happiness and love! - Mycozylive.com</td><td>Many female tattoo lovers are the most irresistible tattoo designs with beautiful designs, such as bianhua, dandelion of hipster, four-leaf clover, etc. The Butterfly Tattoo is… </td><td>23000</td><td>fashionchaser | nails,hairstyle,tattoo</td><td>Cute Tattoos For Women,Cute Tiny Tattoos,Dainty Tattoos,Little Tattoos,Small Tattoos,Pretty Tattoos,Red Ink Tattoos,Dope Tattoos,Mini Tattoos</td><td>image</td><td>https://i.pinimg.com/originals/70/ef/ad/70efad7ee0e4f6afe8846b11d1308aa7.jpg</td><td>/data/tattoos</td><td>tattoos</td></tr><tr><td>8627</td><td>e4996938-c871-4883-9f8b-ff848e30b8bd</td><td>Moon Tattoos: Black Crescent Moon With a Mermaid</td><td>Moon Tattoos: Black Crescent Moon With a Mermaid. A black moon tattoo with an intricate mermaid illustration. Click through for 53 moon tattoo ideas. #moontattoo #tattoos #tatto… </td><td>538000</td><td>Byrdie</td><td>Time Tattoos,Leg Tattoos,Body Art Tattoos,Cool Tattoos,Sleeve Tattoos,Tattoo Art,Octopus Tattoos,Mermaid Tattoo Designs,Moon Tattoo Designs</td><td>image</td><td>https://i.pinimg.com/originals/dc/95/06/dc9506b612c8472afab82942f7189a88.jpg</td><td>/data/tattoos</td><td>tattoos</td></tr><tr><td>2183</td><td>c9af552f-a693-4975-8df8-5c314b422e37</td><td>How to Make Stuffed Fabric Christmas Trees for Your Holiday Decor</td><td>Learn how to make these easy and fun fabric Christmas trees for a sweet country farmhouse look anywhere in your home this season.</td><td>88000</td><td>Hearth and Vine</td><td>Fabric Christmas Trees,Christmas Tree Crafts,Christmas Sewing,Christmas Makes,Christmas Projects,Holiday Crafts,Christmas Fun,Xmas Trees,Xmas Crafts To Sell</td><td>image</td><td>https://i.pinimg.com/originals/3e/c5/a8/3ec5a824ab29245371fb0ed20d81ff21.jpg</td><td>/data/christmas</td><td>christmas</td></tr><tr><td>5357</td><td>a402b531-eb6e-4f48-b447-e8aed916fb67</td><td>Useful Budgeting tips for beginner</td><td>null</td><td>760</td><td>Kenya. Finances 101</td><td>Ways To Save Money,Money Tips,Money Saving Tips,Money Budget,Budgeting Finances,Budgeting Tips,Financial Tips,Financial Planning,Goal Planning</td><td>multi-video(story page format)</td><td>https://i.pinimg.com/videos/thumbnails/originals/5b/d0/9e/5bd09e26bc69c212cf5057ecbe2b6417.0000001.jpg</td><td>/data/finance</td><td>finance</td></tr><tr><td>5252</td><td>fd14e4ad-e99a-457c-bd72-e2cbec16b4f6</td><td>The First Thing You Must Do Every Pay Day</td><td>What is the first thing you should do when you get paid? This is the number one thing you need to know when learning how to make a budget and pay your bills on time. If you do t… </td><td>113000</td><td>Penny Pinchin Mom |  Budget, Get out of Debt, Save Money & More!</td><td>Best Money Saving Tips,Ways To Save Money,Money Tips,Saving Money,Money Budget,Budgeting Finances,Budgeting Tips,Making A Budget,Making Ideas</td><td>image</td><td>https://i.pinimg.com/originals/1c/a7/d4/1ca7d4a3ea379bc731da8c5ee600bf52.png</td><td>/data/finance</td><td>finance</td></tr><tr><td>271</td><td>050eaef6-1b7e-49e7-9044-00d2e759300b</td><td>Artist Draws Terrifying Monsters On Sticky Notes</td><td>Danish artist John Kenn Mortensen (who goes by Don Kenn on Tumblr and other sites) taps into the terror of our childhood nightmares with brilliant and terrifying monster drawing… </td><td>2000000</td><td>Bored Panda</td><td>Creepy Drawings,Dark Art Drawings,Monster Drawing,Monster Art,Art And Illustration,Art Illustrations,Arte Horror,Horror Art,Don Kenn</td><td>image</td><td>https://i.pinimg.com/originals/e4/cb/f4/e4cbf4057cfdb61961b667361d28fda3.jpg</td><td>/data/art</td><td>art</td></tr><tr><td>4463</td><td>31010c51-1288-499a-9142-439628a7f68f</td><td>Interview: How to Become a Stronger Event Planner - Learn About Event Planning</td><td>We recently spoke with Kim Sullivan, SVP, CMO of the Event Planners Association. Kim founded the Event Planners Association in 2005 as a way to help event planners and independe… </td><td>4000</td><td>EventPlanning.com | Learn How To Become An Event Planner</td><td>Event Planning Tips,Event Planning Business,Event Ideas,Business Ideas,Party Planning,Wedding Event Planner,Wedding Events,Weddings,Wedding Ideas</td><td>image</td><td>https://i.pinimg.com/originals/c8/4e/f6/c84ef667b2408c3807e7b84082479f2b.jpg</td><td>/data/event-planning</td><td>event-planning</td></tr><tr><td>10300</td><td>d3296ebc-4b95-47eb-b179-745f7c0ef66e</td><td>21 Real Life Fairytale Destinations you must see next in Europe!</td><td>Check out this Europe bucket list that will introduce you to some of the most fairytale destinations in Europe. Places you'll love and want to see next!</td><td>4000</td><td>IngridZenMoments</td><td>Europe Bucket List,Bucket List Destinations,Travel Bucket Lists,Bucketlist Ideas,Europe Destinations,Europe Travel Tips,India Travel,Italy Travel,Travel Around The World</td><td>image</td><td>https://i.pinimg.com/originals/67/1d/60/671d60ab072cd8a6bf4e9d18a95f8720.png</td><td>/data/travel</td><td>travel</td></tr><tr><td>10467</td><td>8eef4534-c22d-4c4f-ac96-e44eaa1c06a2</td><td>Loading...</td><td>50+ best Volkswagen luxury cars de4570cbeb1dd6a849eafc3c493c8c18 #FerrariPink</td><td>18000</td><td>Tequila_Rose 🌹</td><td>Luxury Sports Cars,Top Luxury Cars,Sport Cars,Audi Sport,Motor Sport,Carros Porsche,Carros Bmw,Porsche 550 Spyder,Porsche Macan Turbo</td><td>image</td><td>https://i.pinimg.com/originals/ad/12/e3/ad12e355f8ef7ffd2766f0418a4860a3.jpg</td><td>/data/vehicles</td><td>vehicles</td></tr><tr><td>884</td><td>6624134c-2331-4b52-9fea-607d7d4d7b78</td><td>Taylored Expressions June Release Sneak Peeks: Day 3</td><td>It’s day 3 of Taylored Expressions June Release sneak peeks, and there’s a new round of products being featured today on the TE blog. The design team has put together amazing pr… </td><td>6000</td><td>Nashvegasmama</td><td>Watercolor And Ink,Watercolor Flowers,Watercolor Paintings,Watercolor Art Lessons,Watercolor Artists,Colorful Paintings,Watercolor Portraits,Watercolor Landscape,Watercolours</td><td>image</td><td>https://i.pinimg.com/originals/61/de/4d/61de4d18bf86d6ca95c349cd6d547d13.png</td><td>/data/art</td><td>art</td></tr><tr><td>624</td><td>5c35fc16-7be8-4c39-b0e4-c80545771f02</td><td>Abstrakte goldfolie pailletten luxus wohnzimmer wohnkultur wandkunstbild drucken auf leinwand malerei für caudros dekoration leinwand - HZ220 Kein Rahmen / 40 * 140 cm.</td><td>Produktbeschreibung Material: Wasserdicht 2.70g Polyester / Baumwolle Verwendungszweck: SPace-Dekoration, Heimdekoration, Geschenke Bildanzeige.</td><td>203</td><td>Maloona</td><td>Rooms Home Decor,Home Decor Wall Art,Wall Art Pictures,Print Pictures,Luxury Living,Canvas Prints,Living Room,Frame,Painting</td><td>image</td><td>https://i.pinimg.com/originals/7a/4b/94/7a4b94d7aedf0e08553368b9838a8d19.jpg</td><td>/data/art</td><td>art</td></tr><tr><td>6041</td><td>cc998cfd-ee56-415f-972b-4980c8ccab16</td><td>Dream-catcher Macrame Wall Hanger - D</td><td>This Boho wall hanging tapestry features a unique design that is a must-have in any home with a bohemian theme. Perfect for Home Decoration, Bohemian decoration, Kids Bedroom, S… </td><td>25</td><td>Plex Oasis</td><td>Tapestry Weaving,Tapestry Wall Hanging,Macrame Wall Hangings,Weaving Art,Hand Weaving,Design Scandinavian,Décor Boho,Boho Chic,Bohemian Decor</td><td>image</td><td>https://i.pinimg.com/originals/00/c9/86/00c986a9d23d2c75ff3a342ef8f16f16.jpg</td><td>/data/home-decor</td><td>home-decor</td></tr><tr><td>7952</td><td>11f32392-eb2d-48cf-84e0-c52bbaba4569</td><td>Citations motivantes et inspirantes – Sophie's Way</td><td>Une vraie girlboss ? Retrouvez toutes les autres citations motivantes et inspirantes sur le blog ! #inspiration #quote</td><td>10000</td><td>Sophie's Way</td><td>Motivacional Quotes,Quotes Thoughts,Feel Good Quotes,Cute Quotes,Woman Quotes,Quotes To Live By,Vision Quotes,Girl Boss Quotes,Wall Of Quotes</td><td>image</td><td>https://i.pinimg.com/originals/98/b4/9e/98b49eb98422faa8e24842cb0debc712.png</td><td>/data/quotes</td><td>quotes</td></tr><tr><td>7407</td><td>07816c72-dad3-4287-a751-a4c395873b9f</td><td>Winter Outfits for Men - Layering is KING. - The Indian Gent</td><td>Winter is the season of layering and men elevate their outfits with different articles. So take a load off your mind and look the outfits we found for you.</td><td>42000</td><td>THE INDIAN GENT - Grooming, Style, Fitness</td><td>Best Winter Outfits Men,Winter Clothes For Men,Winter Outfit For Men,Casual Clothes For Men,Summer Outfit,Men's Casual Outfits Winter,Spring Outfits,Costume Anglais,Stylish Men</td><td>image</td><td>https://i.pinimg.com/originals/59/7f/b3/597fb3e8bb9a0b862ca3e683ca69a816.png</td><td>/data/mens-fashion</td><td>mens-fashion</td></tr><tr><td>6509</td><td>3fe432e1-b6b4-4360-bf61-e8268c4b3fb5</td><td>Farmhouse\n",
       "Dining Room</td><td>null</td><td>67000</td><td>Norma Smith</td><td>Family Room Design,Dining Room Design,Kitchen Design,Farm House Dinning Room,Dining Room Rugs,Black Dining Room Table,Dining Room Shelves,Dining Room Curtains,Dining Room Wall Art</td><td>multi-video(story page format)</td><td>null</td><td>/data/home-decor</td><td>home-decor</td></tr><tr><td>1023</td><td>86a31ec3-90e7-4087-b4e2-9860cdd108be</td><td>the TINGE tint</td><td>meet the lightweight, long-lasting body foundation designed for every body, season, and occasion. our formula’s medium, buildable coverage and mattifying finish work in perfect… </td><td>21</td><td>TINGE</td><td>Body Foundation,Body Makeup,Skin Elasticity,Dance The Night Away,Jojoba Oil,Moisturizer,Skin Care,Legs,Beauty</td><td>image</td><td>https://i.pinimg.com/originals/49/98/5f/49985f1be36bc6370aa8ea747449a572.jpg</td><td>/data/beauty</td><td>beauty</td></tr><tr><td>7147</td><td>8047b625-fb42-425c-acc1-b45de02a08b9</td><td>COMO USAR BOTA MASCULINA com ESTILO no Dia a Dia? Guia de Dicas</td><td>Macho Moda: Blog de Moda Masculina - Dicas de Estilo Masculino, Tendências, Produtos para Homens, Serviços e tudo relacionado a esse Universo</td><td>620000</td><td>Macho Moda</td><td>Stylish Mens Outfits,Casual Outfits,Men Casual,Men's Outfits,Casual Styles,Casual Fall,Fashion Outfits,Smart Casual,Best Winter Outfits Men</td><td>image</td><td>https://i.pinimg.com/originals/e5/4e/af/e54eaf7a74b8a26eb2d0a57511721982.png</td><td>/data/mens-fashion</td><td>mens-fashion</td></tr><tr><td>2126</td><td>adc18caf-a7ed-49c8-b328-87a9fc92551f</td><td>JOLLY INSPIRATION TO STYLING TIERED TRAYS FOR HAPPY HOLIDAYS</td><td>Styling tiered trays to help your home say happy holidays is what we have in store for you today. We have a fun little surprise in this round up. Mini Christmas trees, peppermin… </td><td>46000</td><td>Life on Summerhill | Home, Holiday Decor & DIY Website</td><td>Dollar Tree Christmas,Mini Christmas Tree,Christmas Holidays,Christmas Ornaments,Christmas Mugs,Purple Christmas,Magical Christmas,Father Christmas,Christmas Wreaths</td><td>image</td><td>https://i.pinimg.com/originals/58/70/95/5870956a1dc6a43e8091afbeba71a427.jpg</td><td>/data/christmas</td><td>christmas</td></tr><tr><td>3145</td><td>1022ba0b-eae7-4eba-9120-1fe44d093a32</td><td>How to Colour Chickpeas for Play - Inspire My Play</td><td>Learn how to colour chickpeas for sensory play and craft with this easy DIY</td><td>4000</td><td>Laura- Inspire My Play | Play & Learning For Little Kids</td><td>Baby Sensory Play,Sensory Activities Toddlers,Infant Activities,Sensory Bins,Baby Play,Kindergarten Activities,Diy For Kids,Crafts For Kids,Preschool Crafts</td><td>image</td><td>https://i.pinimg.com/originals/35/e0/44/35e0447b94dd9076ed9e51a8d692e489.jpg</td><td>/data/diy-and-crafts</td><td>diy-and-crafts</td></tr><tr><td>8901</td><td>6eb07a7c-9a3f-413f-8c6d-5fdbd9f0ca32</td><td>35 Amazingly Pretty Flower Tattoos That Are Perfect For The Spring & Summer</td><td>Want a new tattoo for the Spring or Summer? Look to these 35 best tattoo ideas to inspire you to get your own version of a pretty flower tattoo or nature tattoo. From watercolor… </td><td>942000</td><td>YourTango</td><td>Hand Tattoos,Tattoos Masculinas,Tatuajes Tattoos,Black Tattoos,Body Art Tattoos,Girl Tattoos,Sternum Tattoos,Mandala Sternum Tattoo,Tattos</td><td>image</td><td>https://i.pinimg.com/originals/8d/b2/1d/8db21d9200143cb02ab760fc45fba0b3.jpg</td><td>/data/tattoos</td><td>tattoos</td></tr><tr><td>7377</td><td>7f492361-9256-4a27-a103-c32bf700e6ee</td><td>Top 30 Man Winter Season Dress Design Ideas | Winter Season Formal And Party Wear Dress |Arbaz Ahmad</td><td>Top 30 Man #WinterSeasonDress Design Ideas | Winter Season #FormalDress And #PartyWearDress | #ArbazAhmadmens casual winter fashion,mens casual winter fashio...</td><td>7000</td><td>Men top fashion</td><td>Best Winter Outfits Men,Winter Fashion Outfits,Cool Outfits,Mens Style Winter,Mens Casual Winter Fashion,Winter Wear Men,Mens Winter Clothes,Men's Outfits,Christmas Outfits For Men</td><td>image</td><td>https://i.pinimg.com/originals/76/20/45/7620450677e9f5db49984371c229b061.jpg</td><td>/data/mens-fashion</td><td>mens-fashion</td></tr><tr><td>7634</td><td>d67a2eec-7f15-4023-8a8c-ebb52ac4a3be</td><td>75 Best Strong Women Quotes About What Makes A Strong Woman</td><td>If you're looking for a little inspiration and are in the mood for some good 'ole feminism, look to these best strong women quotes about strength to remind you what it really ta… </td><td>942000</td><td>YourTango</td><td>Love Failure Quotes,Life Quotes Love,Badass Quotes,Woman Quotes,Great Quotes,Quotes To Live By,Bad Girl Quotes,Believe Me Quotes,So True Quotes</td><td>image</td><td>https://i.pinimg.com/originals/25/33/e5/2533e597003f52b7b20fd8874ff4c801.jpg</td><td>/data/quotes</td><td>quotes</td></tr><tr><td>3232</td><td>9958caec-20ac-477f-9e13-b16192f187b9</td><td>How to Make Adorable Clay Pot Christmas Tree Ornaments</td><td>These clay pot Christmas tree ornaments are so cute and fun for kids to make! They are an easy Christmas ornament craft that kids of all ages will be able to create.</td><td>20000</td><td>Projects with Kids</td><td>Easy Christmas Ornaments,Christmas Gifts For Teen Girls,Christmas Crafts For Gifts,Christmas Fun,Church Christmas Craft,Ornaments For Teachers,Ideas For Christmas Presents,Christmas Gifts For Teachers,Christmas Tree Decorations For Kids</td><td>image</td><td>https://i.pinimg.com/originals/fd/5d/51/fd5d5164125a68b18f7b1186d68d2d4d.jpg</td><td>/data/diy-and-crafts</td><td>diy-and-crafts</td></tr><tr><td>4387</td><td>ae5e7377-f1bd-4ac5-94de-bee317f51a43</td><td>Βάπτιση: H παραμυθένια βάπτιση της Τιτίκας με θέμα το μονόκερο από την e.m. for you</td><td>Το όνομα που επέλεξε η μαμά Ανδριανή για τη γλυκιά Τιτίκα δεν είναι καθόλου τυχαίο. Και φυσικά δεν άφησε τίποτα στην τύχη ούτε την ημέρα της βάπτισης. Ανέθεσε την οργάνωση στην… </td><td>4</td><td>Manosbojana Katsareas</td><td>Diy Flowers,Flower Diy,Baptism Decorations,Christening,Event Planning,Wedding Planner,Baptism Ideas,Birthday,Party</td><td>image</td><td>https://i.pinimg.com/originals/db/aa/d2/dbaad28fa85012a4ea6958540d98a8e5.jpg</td><td>/data/event-planning</td><td>event-planning</td></tr><tr><td>10956</td><td>ce37ad55-b433-4247-9e37-1499f9d5e76e</td><td>Sports Cars: Prices, MPG & Features</td><td>matte black benz</td><td>2000</td><td>Cream City Flow - High End Streetwear - Better Everyday</td><td>Luxury Sports Cars,Top Luxury Cars,Sport Cars,Exotic Sports Cars,Mercedes Auto,Fancy Cars,Cool Cars,Cool Sports Cars,Sexy Autos</td><td>image</td><td>https://i.pinimg.com/originals/7e/aa/3e/7eaa3edf714d98421d61123e780d82c0.jpg</td><td>/data/vehicles</td><td>vehicles</td></tr><tr><td>1862</td><td>79afce18-8660-4651-9ba6-e2ce0fe1abeb</td><td>Trendy Christmas Mantel Decor Ideas From Instagram</td><td>Now that Halloween and Thanksgiving are over it's time to take out those lovely Christmas decorations that you've been itching to put on display. You</td><td>965000</td><td>Homedit.com</td><td>Christmas Room,Christmas Mantels,Christmas Past,Cozy Christmas,Rustic Christmas,All Things Christmas,Christmas Holidays,Christmas Crafts,Christmas Ideas</td><td>image</td><td>https://i.pinimg.com/originals/d2/b4/3c/d2b43cc7ff2b6a3642eacbccbd9db9ec.jpg</td><td>/data/christmas</td><td>christmas</td></tr><tr><td>4085</td><td>48a974ff-6c9a-4fb0-a637-2383b6683162</td><td>Why You Need a Daily Agenda Slide for Your Classroom | Dr. Loftin's Lea...</td><td>Classroom Management: Why you need a daily agenda slide for your classroom-Includes a Free Editable Template. #ClassroomManagement #ClassroomTips #TeachingTip #Teaching</td><td>2000</td><td>Dr. Loftin's Learning Emporium</td><td>Middle School Classroom,English Classroom,Middle School Science,7th Grade Classroom,Elementary Science Classroom,8th Grade Ela,Social Studies Classroom,Middle School Reading,Middle School English</td><td>image</td><td>https://i.pinimg.com/originals/68/de/66/68de66915b0d30b0ca957d52eee34101.jpg</td><td>/data/education</td><td>education</td></tr><tr><td>82</td><td>f62e3bd2-cf77-44c8-ae64-81273f901592</td><td>🍂watercolor autumn leaves 🍂</td><td>null</td><td>150000</td><td>Zezè</td><td>Watercolor Art Lessons,Watercolor Painting Techniques,Painting Tips,Easy Watercolor Paintings,Watercolor Tips,Watercolor Tutorials,Painting Tutorials,Watercolor Flowers,Watercolors</td><td>multi-video(story page format)</td><td>https://i.pinimg.com/videos/thumbnails/originals/c1/3f/d4/c13fd4de97106b98970b81402a4ca9f3.0000001.jpg</td><td>/data/art</td><td>art</td></tr><tr><td>3658</td><td>820b194f-0a1f-40df-b990-cfb7cce3251d</td><td>Free Life Skills File Folder Activities for Special Education</td><td>Free Life Skills File Folder Activities for the independent work station in special education classrooms. Practice life skills for community integration!</td><td>8000</td><td>Adapting for Autism | Resources for Special Education Classrooms</td><td>Life Skills Lessons,Life Skills Activities,Teaching Life Skills,Vocational Activities,Vocational Tasks,Special Education Activities,Special Education Classroom,File Folder Activities,Folder Games</td><td>image</td><td>https://i.pinimg.com/originals/7f/1e/9c/7f1e9cbb64367aa61b1360bdac342f6b.jpg</td><td>/data/education</td><td>education</td></tr><tr><td>1483</td><td>368e2edc-34ba-4d0b-9827-73278424ace7</td><td>3 Ingredient Blackhead Busting Face Mask - Going Zero Waste</td><td>I was recently asked about my skin care routine on instagram. Or rather they were lushing over my perfect skin, dying to know my secrets. Which I immediately divulged; Clarendon… </td><td>328000</td><td>Squarespace</td><td>Homemade Face Masks,Diy Face Mask,Diy Skin Care,Skin Care Tips,Skin Tips,Diy Beauty,Beauty Hacks,Homemade Beauty,Beauty Tips</td><td>image</td><td>https://i.pinimg.com/originals/96/7f/9d/967f9d495971831074ab72a2c9a9cd34.jpg</td><td>/data/beauty</td><td>beauty</td></tr><tr><td>3984</td><td>4f4f692f-4868-4e71-9fdb-b1edb3eca84c</td><td>Sight Words Games - Planning Playtime</td><td>Looking for fun Sight Words Games for Kids? Play hands on sight words games. Use the interactive binders at home, school or on the go.</td><td>322000</td><td>Planning Playtime</td><td>Pre K Sight Words,Preschool Sight Words,Sight Word Games,Sight Word Activities,Reading Activities,Guided Reading,Toddler Activities,Word Games For Kids,Balloon Words</td><td>image</td><td>https://i.pinimg.com/originals/5c/27/1d/5c271d3d495e09fc0a240f6cb8802876.jpg</td><td>/data/education</td><td>education</td></tr><tr><td>4821</td><td>bcc09577-7104-4270-8388-f94bef985211</td><td>Cricut Maker Adaptive QuickSwap Tools - Happily Ever After, Etc.</td><td>This is a sponsored conversation written by me on behalf of Cricut. The opinions and text are all mine. Earlier this year when Cricut released the Scoring Wheel I took a look at… </td><td>53000</td><td>Happily Ever After Etc</td><td>Homemade Wedding Invitations,Affordable Wedding Invitations,Cricut Wedding Invitations,Wedding Stationery,Invitation Paper,Wedding Planner,Making Ideas,Event Planning,Super Easy</td><td>image</td><td>https://i.pinimg.com/originals/1f/3c/7d/1f3c7da004601c12f4747ca6594da832.jpg</td><td>/data/event-planning</td><td>event-planning</td></tr><tr><td>10091</td><td>8708e4de-9e1a-4100-ab11-db9efa87cf0f</td><td>Have Life – Will Travel</td><td>Polignano, Puglia | Italy (Europe)</td><td>4000</td><td>Trip Memos</td><td>Photos Amsterdam,Amsterdam Travel,Places To Travel,Places To Visit,Couple Travel,Voyage Europe,Destination Voyage,Europe Destinations,Travel Aesthetic</td><td>image</td><td>https://i.pinimg.com/originals/54/f4/ef/54f4ef9629866f92d1f23ec77f8f1d5f.jpg</td><td>/data/travel</td><td>travel</td></tr><tr><td>1331</td><td>c2f02323-1058-4794-9bfd-1604838ad1b8</td><td>5 Facial Tips</td><td>null</td><td>60000</td><td>The Skinny Confidential</td><td>Face Makeup Tips,Skin Makeup,Makeup Brushes,Makeup Ideas,Facial Tips,Facial Care,Beauty Tips For Glowing Skin,Clear Skin Tips,Healthy Skin Tips</td><td>multi-video(story page format)</td><td>https://i.pinimg.com/videos/thumbnails/originals/59/5a/e7/595ae72308340b3c1e7d8cec52237c6b.0000001.jpg</td><td>/data/beauty</td><td>beauty</td></tr><tr><td>10073</td><td>617b080b-7477-495b-b0e8-321e6a02416f</td><td>There's a Beach in the Caribbean Where You Can Swim with Flamingos</td><td>Oh for flocks sake! Can you even believe that this is REAL? 😱😭😍💕 ⠀⠀⠀⠀⠀⠀⠀⠀⠀⠀⠀⠀⠀⠀⠀⠀⠀⠀ The famous flamingos in Aruba live on Renaissance… in love</td><td>189000</td><td>Town & Country Magazine</td><td>Vacation Places,Dream Vacations,Dream Vacation Spots,Beautiful Places To Travel,Cool Places To Visit,Aloita Resort,Maldives Resort,Photos Voyages,Travel Aesthetic</td><td>image</td><td>https://i.pinimg.com/originals/2a/26/61/2a26619c18d14b39d35d6eac09e3b0dd.jpg</td><td>/data/travel</td><td>travel</td></tr><tr><td>10274</td><td>0ce50600-2800-4f6f-a602-a1c5efe08122</td><td>10 Cheap European Countries You Can Visit on $50 / Day or Less - Goats On The Road</td><td>Want to know how to travel Europe for cheap? Visit any of these budget travel desintaions! You can be saving money on food, accommodation and things to do in these bucket list d… </td><td>23000</td><td>Goats On The Road </td><td>Europe Train Travel,Europe Travel Tips,European Travel,Budget Travel,Travel Guides,Travel Hacks,Travel Packing,Travel Goals,Travel Essentials</td><td>image</td><td>https://i.pinimg.com/originals/ba/ba/92/baba927fa006557327626a471b083a62.jpg</td><td>/data/travel</td><td>travel</td></tr><tr><td>8836</td><td>d5ebf027-c461-4332-b41e-b71595fcf36a</td><td>160+ Infinity Tattoo With Names, Dates, Symbols And More (For Women)</td><td>Infinity tattoos for women with names, dates, symbols, meanings, you name it! If you're looking for an infinity tat, take a look.</td><td>48000</td><td>Her Way</td><td>Hand And Finger Tattoos,Cute Finger Tattoos,Finger Tattoo For Women,Small Hand Tattoos,Dainty Tattoos,Mini Tattoos,Pretty Tattoos,Tattoo Women,Hand Tats</td><td>image</td><td>https://i.pinimg.com/originals/dc/92/84/dc9284bec08e64c6bcd476cbff2eeb17.jpg</td><td>/data/tattoos</td><td>tattoos</td></tr><tr><td>7619</td><td>0ebd3801-e8e8-4eee-8131-8e4c937231c3</td><td>We Solemnly Swear That You’ll Be Inspired By These 15 Harry Potter Quotes</td><td>Motivation managed!</td><td>166000</td><td>Women.com</td><td>Harry Potter Book Quotes,Hp Quotes,Harry Potter Girl,Harry Potter Artwork,Harry Potter Jokes,Harry Potter Pictures,Harry Potter Wallpaper,True Quotes,Quotes Women</td><td>image</td><td>https://i.pinimg.com/originals/3c/80/72/3c8072e262cec31061d6d56e1d023a59.jpg</td><td>/data/quotes</td><td>quotes</td></tr><tr><td>3360</td><td>3bf0387c-82eb-4744-b147-6ede3aeff992</td><td>DIY - SATISFYING EASY FIDGET TOY IDEA -</td><td>null</td><td>60000</td><td>Girl Crafts</td><td>Easy Crafts For Teens,Diy Crafts To Do,Diy Resin Crafts,Diy Crafts Hacks,Craft Activities For Kids,Diy Arts And Crafts,Hard Crafts,Teen Crafts,Kids Diy</td><td>multi-video(story page format)</td><td>https://i.pinimg.com/videos/thumbnails/originals/e3/e3/57/e3e3576e24b1eb3d77cf53c4569aa3ec.0000001.jpg</td><td>/data/diy-and-crafts</td><td>diy-and-crafts</td></tr><tr><td>7563</td><td>6788418b-ccd3-45a9-9850-ec931f3c4011</td><td>10 Cool Casual Date Outfit Ideas For Men in 2020.</td><td>Want to leave a long lasting impression on your date? Want to look good too? So here are 10 Cool Date Outfits for you to woo your women with your dressing skills</td><td>723000</td><td>TheUnstitchd</td><td>Mens Casual Dress Outfits,Mens Fall Outfits,Stylish Mens Outfits,Casual Summer Outfits,Date Outfit Casual,Winter Fashion Outfits,Winter Outfit For Men,Casual Clothes For Men,Mens Jeans Outfit</td><td>image</td><td>https://i.pinimg.com/originals/62/89/ae/6289ae24b4ee59f0480bbeb67ed72cde.jpg</td><td>/data/mens-fashion</td><td>mens-fashion</td></tr><tr><td>9774</td><td>0da2163a-1f18-4c58-a536-92508763767b</td><td>What to Do in Turks and Caicos: One Week in Providenciales</td><td>The best things to do on a vacation in Turks and Caicos. All you need to a perfect Caribbean trip, including stunning beaches, resorts, and more. Plus, all the best restaurants… </td><td>2000</td><td>Fueled By Wanderlust</td><td>Turks And Caicos Vacation,Beaches Turks And Caicos,Europe Destinations,Beautiful Islands,Beautiful Beaches,Caribbean Vacations,Best Caribbean Destinations,Explorer,France</td><td>image</td><td>https://i.pinimg.com/originals/35/92/90/359290f0bcce11f8ec2b144df5196bd7.jpg</td><td>/data/travel</td><td>travel</td></tr><tr><td>1951</td><td>977fdf8b-4412-4102-8088-dd44ab68e779</td><td>A Vintage Christmas Tablescape to Inspire Your Holiday Decorating</td><td>10 beautiful Christmas tablescapes from some of my favorite bloggers that will 100% inspire your holiday dining room this year! Plus – we’re each</td><td>36000</td><td>Boxwood Avenue</td><td>Christmas Table Centerpieces,Christmas Table Settings,Christmas Tablescapes,Farmhouse Christmas Decor,Christmas Table Decorations,Decoration Table,Centerpiece Ideas,Room Decorations,Winter Decorations</td><td>image</td><td>https://i.pinimg.com/originals/7a/62/f6/7a62f65735a6bc7f2e1e295347c2138c.png</td><td>/data/christmas</td><td>christmas</td></tr><tr><td>9068</td><td>60557faa-6949-49b6-abb3-65cb6167156d</td><td>Minimalist One Line Animals By A French Artist Duo</td><td>I recently discovered these amazing one line animal drawings by artist duo DFT and they never left my head since. I think they would make amazing minimalist tattoos or wall art.… </td><td>2000000</td><td>Bored Panda</td><td>Simbolos Tattoo,Tatoo Henna,Tattoo Style,Symbol Tattoos,Samoan Tattoo,Polynesian Tattoos,Cute Tiny Tattoos,Dainty Tattoos,Little Tattoos</td><td>image</td><td>https://i.pinimg.com/originals/86/13/3f/86133fcafe46daf09d5cf662217b5c52.png</td><td>/data/tattoos</td><td>tattoos</td></tr><tr><td>1649</td><td>e8afafd0-1305-49b6-ab31-158893571d98</td><td>How to Make Candy Cane Reindeer</td><td>Do you remember making these candy cane reindeer when you were a kid?! They're so cute and SO EASY! What a great holiday craft to do with the kids!</td><td>472000</td><td>One Little Project</td><td>Candy Cane Christmas,Christmas Candy Crafts,Candy Cane Reindeer,Candy Cane Crafts,Reindeer Craft,Diy Christmas Gifts,Crafts To Do,Simple Christmas,Holiday Crafts</td><td>image</td><td>https://i.pinimg.com/originals/7f/85/5c/7f855c692dbee177bd3cfc370ea0a788.jpg</td><td>/data/christmas</td><td>christmas</td></tr><tr><td>5268</td><td>e50667bc-cb2b-4385-bbb4-2ed75023bf5a</td><td>The 5 Worst Financial Mistakes Young Adults Make (And How to Correct Them)</td><td>5 Dangerous Financial Mistakes | Financial mistakes young adults make | how to fix financial mistakes | debt payoff | budget set up | budgeting for beginners #moneytips #persona… </td><td>11000</td><td>Budget with Rachel</td><td>Financial Tips,Financial Literacy,Financial Planning,Budgeting Finances,Budgeting Tips,Ways To Save Money,How To Raise Money,Budget Planer,Budgeting Worksheets</td><td>image</td><td>https://i.pinimg.com/originals/64/83/6f/64836f3115e4303300cb81c12cb0c586.jpg</td><td>/data/finance</td><td>finance</td></tr><tr><td>365</td><td>ee28bec4-ac3b-4584-9c58-b490eb01b24c</td><td>THE BEYOND T-Shirt : Eyeball - 2XL</td><td>Lucio Fulci's horror classic THE BEYOND is back with this exclusive design from Grindhouse Releasing. Professionally screen printed T-shirts. 100% Combed ring-spun cotton. artwo… </td><td>53</td><td>Grindhouse Releasing web store</td><td>Creepy,Scary,Terror In Resonance,Lowbrow Art,Weird And Wonderful,Horror Art,Macabre,Cool Drawings,Screen Printing</td><td>image</td><td>https://i.pinimg.com/originals/79/18/5b/79185b61f6dc39fc75e99e0bc4062b6b.jpg</td><td>/data/art</td><td>art</td></tr><tr><td>9135</td><td>f9c2693f-a8b2-4ea7-9eb2-03bcccf09013</td><td>20 Fierce Dragon Tattoo Designs for Women</td><td>Get inspired for your next inking session with these fierce dragon tattoo designs for women.</td><td>211000</td><td>TheTrendSpotter</td><td>Small Dragon Tattoos,Dragon Tattoo For Women,Chinese Dragon Tattoos,Dragon Tattoo Designs,Tattoo Designs For Women,Tattoos For Women Small,Cute Dragon Tattoo,Celtic Dragon Tattoos,Small Cool Tattoos</td><td>image</td><td>https://i.pinimg.com/originals/9c/90/e2/9c90e209865dcd6f9ebcc9adab7d9d46.jpg</td><td>/data/tattoos</td><td>tattoos</td></tr><tr><td>3450</td><td>899fd2d9-87a0-4591-9e51-4b497cacb597</td><td>Masking Tape Mummy Craft | Somewhat Simple</td><td>Making a mummy doesn’t have to be scary! With some masking tape, googly eyes, and our free printables, you can create a fun and simple mummy craft for Halloween.</td><td>214000</td><td>Stephanie - Somewhat Simple</td><td>Halloween Arts And Crafts,Easy Halloween Crafts,Theme Halloween,Halloween Projects For Toddlers,Haloween Craft,Halloween Things To Do,Halloween Crafts For Kids To Make,Creepy Halloween,Daycare Crafts</td><td>image</td><td>https://i.pinimg.com/originals/eb/45/40/eb4540989b3633b2ebfa2b4d3316df68.png</td><td>/data/diy-and-crafts</td><td>diy-and-crafts</td></tr><tr><td>358</td><td>d04fa77f-ea56-4735-8b95-0c0933a632ad</td><td>How to Make Your Acrylics Look Like Oils — Amira Rahim</td><td>Hey guys! I wanted to take some time out of the studio to share a bit about my process and some tips that I've learned along the way that help me create vibrant, colorful abstra… </td><td>11000</td><td>Amira Rahim | Art & Painting</td><td>Colorful Abstract Art,Abstract Canvas Art,Colorful Paintings,Acrylic Art,Modern Paintings,Acrylic Paintings,Kunst Inspo,Art Techniques,Painting Techniques Canvas</td><td>image</td><td>https://i.pinimg.com/originals/18/21/46/182146959c24b58964b083df84cb81c2.jpg</td><td>/data/art</td><td>art</td></tr><tr><td>3766</td><td>a71e7454-afe0-481e-89d2-d79d9a74ef91</td><td>The Best 3rd Grade Anchor Charts for Your Classroom</td><td>Looking for 3rd grade anchor charts? We put together some of our favorites to use in your third grade classroom this year!</td><td>500000</td><td>WeAreTeachers</td><td>4th Grade Ela,3rd Grade Writing,4th Grade Classroom,4th Grade Reading,Grade 3,Guided Reading,Third Grade Books,Third Grade Art,4th Grade Science</td><td>image</td><td>https://i.pinimg.com/originals/0b/49/63/0b4963e80dcf0ffd6d71bba0c1356800.png</td><td>/data/education</td><td>education</td></tr><tr><td>6624</td><td>968e1955-56e0-4dad-a2b6-4f43dde47121</td><td>Creative Ways to Use Rope in Your Home's Decor</td><td>Unique hanging rope shelving</td><td>323000</td><td>Kris - Driven by Decor</td><td>Beach House Decor,Diy Home Decor,Home Decoration,Home Decor Shops,Decor Room,Beach Houses,Unique Home Decor,Driven By Decor,Home And Deco</td><td>image</td><td>https://i.pinimg.com/originals/a0/f7/78/a0f77856c76528a532def4ef43ac3fb0.jpg</td><td>/data/home-decor</td><td>home-decor</td></tr><tr><td>2022</td><td>6be337e6-53ee-4c56-b52b-b9acd37fb532</td><td>The Best DIY Christmas Decorations</td><td>Are you looking for some fun and quirky ways to decorate your home this Christmas? Here we look at 32 awesome ways to put the magic into Christmas.</td><td>228</td><td>Nicole Aubin</td><td>Diy Christmas Lights,Beautiful Christmas Decorations,Decoration Christmas,Christmas Diy,Christmas Trees,Outdoor Wooden Christmas Decorations,Christmas Cactus,Homemade Christmas,Christmas Cookies</td><td>image</td><td>https://i.pinimg.com/originals/71/ee/af/71eeaf618560c011eb4bf4a206fa7624.jpg</td><td>/data/christmas</td><td>christmas</td></tr><tr><td>1698</td><td>2564a9cf-0511-45fe-9832-ed08d1c5885f</td><td>Holiday Bucket List 🎄</td><td>null</td><td>1000</td><td>Libby  | Premed Wears Pearls Blog</td><td>Merry Little Christmas,Cozy Christmas,Family Christmas,Christmas Holidays,Christmas Crafts,Christmas Things,Christmas Ideas,Christmas Checklist,Christmas Planning</td><td>multi-video(story page format)</td><td>null</td><td>/data/christmas</td><td>christmas</td></tr><tr><td>4141</td><td>14382e79-9a82-4b7e-a5b5-c59e23f0fc79</td><td>26 Simple Ways to Integrate Social-Emotional Learning Throughout the Day</td><td>It's all about connection.</td><td>500000</td><td>WeAreTeachers</td><td>Classroom Posters,School Classroom,Classroom Ideas,Classroom Contract,Class Contract,Classroom Norms,Classroom Expectations,Future Classroom,Art Classroom</td><td>image</td><td>https://i.pinimg.com/originals/0c/e1/0e/0ce10e75bc5c9cdb7ababb5cd09e46af.jpg</td><td>/data/education</td><td>education</td></tr><tr><td>4514</td><td>38cb0b66-a456-4f7f-a9c4-f404bd0f6f42</td><td>How to become a wedding planner from home - The Wedding Club</td><td>This page includes affiliate links, meaning at no extra cost to you, I might make a small commission if you decide to buy something. You can read my full disclosure here. Most o… </td><td>5000</td><td>The Wedding Club | Wedding tips for brides and wedding planners</td><td>How Do I Get,How To Become,Business Mission,Wedding Stationery Sets,Promote Your Business,Business Branding,Event Planning,Wedding Planner,Social Media</td><td>image</td><td>https://i.pinimg.com/originals/ff/11/c4/ff11c4d4b947dd9a4f38f1da86672624.jpg</td><td>/data/event-planning</td><td>event-planning</td></tr><tr><td>2424</td><td>c1e1a65b-20f6-4fe1-a89c-f5207486754f</td><td>Dollar Tree Christmas Village Hack - The Latina Next Door</td><td>With this Dollar Tree Christmas Village Hack you can create your own high end Christmas Village without the huge expense, and it's so easy!</td><td>24000</td><td>Yami @ The Latina Next Door | Blogger | DIY | Budget Friendly Home Decor | Recipes |  Latina</td><td>Christmas Tree Village,Dollar Tree Christmas,Christmas Hacks,Diy Christmas Ornaments,Christmas Projects,Diy Christmas Gifts,Christmas Decorations Dollar Tree,Christmas Villages,Homemade Christmas</td><td>image</td><td>https://i.pinimg.com/originals/fb/37/55/fb375515aaebda118ab9c8c518fbcfc4.png</td><td>/data/christmas</td><td>christmas</td></tr><tr><td>10631</td><td>b62f3c61-62e6-47fe-9842-af27e0213263</td><td>Diagnosed with Nostalgia</td><td>Nostalgia is denial. Denial of the painful present. The name for this denial is Golden Age thinking - the erroneous notion that a different time period is better than the one on… </td><td>27</td><td>Wgka</td><td>Aston Martin Db5,Cars Vintage,Retro Cars,Bugatti,Lamborghini,Ferrari,Maserati,Carros Retro,Off Road Racing</td><td>image</td><td>https://i.pinimg.com/originals/82/b7/3d/82b73d406ba4abee49cde21f7fe96978.jpg</td><td>/data/vehicles</td><td>vehicles</td></tr><tr><td>4801</td><td>3bb087d9-6261-4368-84bc-f5531b6f3d8e</td><td>Things in my office that just makes ✨sense✨</td><td>null</td><td>5000</td><td>MILLI LONDON</td><td>Home Business Organization,Business Storage,Organization Hacks,Small Boutique Ideas,Packing Station,Best Small Business Ideas,Successful Business Tips,Beauty Salon Decor,Business Inspiration</td><td>multi-video(story page format)</td><td>https://i.pinimg.com/videos/thumbnails/originals/b0/f5/1d/b0f51dce5657c43a0cbe58b6deb8bf07.0000001.jpg</td><td>/data/event-planning</td><td>event-planning</td></tr><tr><td>1874</td><td>ad07bde2-d93f-4079-bbc5-e096d22cf5ce</td><td>How to make mini twig Christmas tree decorations</td><td>These scene-stealing flowers will brighten up any home. Featuring carnations in shades of red and burgundy alongside delicate white Gypsophila and gold Ruscus, they are the perf… </td><td>875000</td><td>House Beautiful</td><td>Mini Christmas Tree Decorations,Twig Christmas Tree,Noel Christmas,Rustic Christmas,Christmas 2019,Flocked Christmas Trees Decorated,Christmas Stairs,Hygge Christmas,Christmas Tables</td><td>image</td><td>https://i.pinimg.com/originals/71/c2/43/71c243656e9dcfb313759d32b5fd07bf.jpg</td><td>/data/christmas</td><td>christmas</td></tr><tr><td>7035</td><td>58360581-9768-4148-a127-7dc5f53d927b</td><td>imgur.com</td><td>3624 views on Imgur: The magic of the Internet</td><td>4000000</td><td>imgur</td><td>Mens Casual Dress Outfits,Formal Men Outfit,Summer Outfits Men,Stylish Mens Outfits,Casual Wear For Men,Men's Formal Wear,Semi Formal Outfits,Formal Dresses For Men,Guy Outfits</td><td>image</td><td>https://i.pinimg.com/originals/40/b8/4a/40b84ac7bbbf974fceb039a958a9216d.jpg</td><td>/data/mens-fashion</td><td>mens-fashion</td></tr><tr><td>5244</td><td>1ec9b225-801a-47cf-b71d-38d22531b02b</td><td>Stop Living Paycheck to Paycheck: Utilities</td><td>Are you living paycheck to paycheck? Stop! Take back control of your finances by reducing your utilities! Simple, practical ideas to become debt free ASAP! :: DontWastetheCrumbs… </td><td>119000</td><td>Don't Waste the Crumbs</td><td>Money Tips,Money Saving Tips,Mo Money,Money Magic,Debt Free Living,Financial Tips,Financial Peace,Budgeting Money,Money Matters</td><td>image</td><td>https://i.pinimg.com/originals/9b/31/5a/9b315ac0bf1f0f0f111a139021f4f19c.jpg</td><td>/data/finance</td><td>finance</td></tr><tr><td>217</td><td>bb2d06ff-addc-4765-b543-07507c1c6bae</td><td>Artist Amy Wright's Exhibition Narrative is now on Exhibit</td><td>Textural abstract landscapes from the Ceres-based painter, currently exhibiting at The Coach House Gallery in Geelong.</td><td>389000</td><td>The Design Files</td><td>Texture Painting,Painting & Drawing,Painting Inspiration,Art Inspo,Collage Art,Collages,Blue Abstract Painting,How To Abstract Paint,Contemporary Paintings</td><td>image</td><td>https://i.pinimg.com/originals/91/1e/94/911e947c5b1f0ebaaf4ef638fe8a18c6.jpg</td><td>/data/art</td><td>art</td></tr><tr><td>10506</td><td>7b10c2d7-0c0c-43c7-a642-daa0ce6032f3</td><td>Instagram</td><td>Create an account or log in to Instagram - A simple, fun & creative way to capture, edit & share photos, videos & messages with friends & family.</td><td>1000</td><td>Kathleen</td><td>Exotic Sports Cars,Cool Sports Cars,Exotic Cars,Koenigsegg,Sexy Cars,Hot Cars,Supercars,Porsche 918 Spyder,Porsche 911</td><td>image</td><td>https://i.pinimg.com/originals/07/21/67/0721672c77aa0797ed663357f18adbe3.jpg</td><td>/data/vehicles</td><td>vehicles</td></tr><tr><td>8462</td><td>0dbb7cfb-d3fe-4864-b362-8a7783f19270</td><td>35 Getting Over A Breakup Quotes To Help You Move On For Good</td><td>Heartbreak is the worst and everyone knows it. Get over your ex with the best getting over a breakup quotes.</td><td>942000</td><td>YourTango</td><td>Ex Quotes,Quotes Thoughts,Crush Quotes,Mood Quotes,Wisdom Quotes,Life Quotes,Ex Best Friend Quotes,Quotes About Breakups,Just Friends Quotes</td><td>image</td><td>https://i.pinimg.com/originals/ad/fe/d2/adfed2b8be99819f5af08e18ba55e2e0.jpg</td><td>/data/quotes</td><td>quotes</td></tr><tr><td>5422</td><td>fa5092c3-34bf-44aa-8167-556ea6542619</td><td>How to Budget: A Monthly Budget Guide That Actually Works</td><td>Learn how to budget your money in a way that actually works. Use our step-by-step guide and create your first monthly budget today!</td><td>27000</td><td>Holly Johnson (Club Thrifty)</td><td>Financial Peace,Financial Tips,Financial Planning,Ways To Save Money,Money Tips,Money Saving Tips,Saving Ideas,Budgeting Finances,Budgeting Tips</td><td>image</td><td>https://i.pinimg.com/originals/49/6c/ab/496cab0a145beb2b7cec6fc342fd0fcf.jpg</td><td>/data/finance</td><td>finance</td></tr><tr><td>7476</td><td>f255a602-afbb-4f99-87c1-3c7e2fee2555</td><td>My 5 Favourite Outfits From This Celeb's Instagram Account</td><td>Latest clothing trends for men 2020</td><td>73000</td><td>THE HUST</td><td>Best Smart Casual Outfits,Stylish Mens Outfits,Casual Summer Outfits,Simple Outfits,Smart Casual Man,Business Casual Outfits Men,Smart Men,Casual Wedding Outfits For Men,Formal Men Outfit</td><td>image</td><td>https://i.pinimg.com/originals/15/d5/3a/15d53a0b549a84d8f4f0cbf83406e74c.jpg</td><td>/data/mens-fashion</td><td>mens-fashion</td></tr><tr><td>2129</td><td>8bb549dc-d8f4-4085-b255-e45d4099cb01</td><td>Traditional Christmas Family Room</td><td>A traditional red and green Christmas family room with classic metallic accents, decorated in an elegant and cozy way. I usually decorate our home for the holidays with red acce… </td><td>126000</td><td>Kristen Whitby | Ella Claire & Co.</td><td>Christmas Fireplace,Christmas Mantels,Noel Christmas,Green Christmas,Family Christmas,Christmas Decorations,Diy Christmas Mantel Garland,Christmas Living Room Decor,Christmas Decorating Ideas</td><td>image</td><td>https://i.pinimg.com/originals/d4/fc/f3/d4fcf3cf0427af7bc09f21eb876e5c0a.png</td><td>/data/christmas</td><td>christmas</td></tr><tr><td>4365</td><td>b0a96f69-81c3-4b7c-90ca-3567c1066382</td><td>A la Carte Menu - Wedding R.S.V.P. Tracking</td><td>A la Carte Menu Arenlace Events Ala Carte menu is designed for that bride on a budget. Our basic package starts at $700.00 and it allows you to custom fit the package that is ri… </td><td>4000</td><td>Arenlace Bride Boutique | Etsy + Shopify Online Wedding Apparel Shop for Brides, Wedding Party & Bachlorette Party</td><td>Budget Wedding,Wedding Planner,Destination Wedding,Wedding Ideas,Luxury Wedding,Wedding Inspiration,Planners,Event Planning Tips,Event Guide</td><td>image</td><td>https://i.pinimg.com/originals/bc/37/ae/bc37ae75a985b1a6c006497772ed121c.png</td><td>/data/event-planning</td><td>event-planning</td></tr><tr><td>2538</td><td>d7f596f6-cbac-45b6-a9f7-01e3c96ed033</td><td>Spiral Colorful Sequin Tinsel Artificial Pencil Christmas Tree With Collapsible for Christmas Decorations - Silver A</td><td>Features:1.Easy to assemble and storage--no tools needed, just take 2 minutes to assemble. features a pull-up design for effortless christmas preparations.Collapsible & Reusable… </td><td>5000</td><td>Wear24-7</td><td>Pencil Christmas Tree,Spruce Christmas Tree,Frosted Christmas Tree,Silver Christmas Tree,Beautiful Christmas,Christmas Diy,Coastal Christmas,Spiral Christmas Tree,Unusual Christmas Trees</td><td>image</td><td>https://i.pinimg.com/originals/e8/55/37/e8553798d417fc25999797fe5491e771.jpg</td><td>/data/christmas</td><td>christmas</td></tr><tr><td>5930</td><td>8ef4003f-f5df-4f3a-a955-49296aa584d3</td><td>Black Loving Couple Shower Curtain</td><td>20 Afrocentric Bathroom Shower Curtains / Home Decor These beautiful afrocentric shower curtains are approximately 59x70 inches and fits most typical bathroom showers. If you lo… </td><td>14000</td><td>Ethnic Earring</td><td>Black Shower Curtains,Bathroom Shower Curtains,Bathroom Showers,Bathroom Ideas,Bathrooms,Minimalist Bathroom Design,Modern Minimalist,African Shower Curtain,Couple Shower</td><td>image</td><td>https://i.pinimg.com/originals/a7/bb/bf/a7bbbf2aa9eb3df4d34625280e695faa.png</td><td>/data/home-decor</td><td>home-decor</td></tr><tr><td>5332</td><td>87062b8f-381b-4e9e-9e2e-c3d785d96bfe</td><td>How to Use the Debt Snowball Method to Pay Off Debt | GirlTalkwithFo.com</td><td>Learn how to use the debt snowball to pay off debt. Dave Ramsey debt snowball method for paying off debt. Debt payoff calculator.</td><td>8000</td><td>GirlTalkwithFo | Debt Payoff | Budgeting & Make Money Tips</td><td>Debt Snowball Spreadsheet,Debt Snowball Calculator,Debt Snowball Worksheet,Financial Peace,Financial Tips,Financial Planning,Dave Ramsey Debt Snowball,Money Makeover,Best Money Saving Tips</td><td>image</td><td>https://i.pinimg.com/originals/c9/56/58/c956584f4d342c77e3e406e25710eb9a.png</td><td>/data/finance</td><td>finance</td></tr><tr><td>4916</td><td>e166fed3-74ca-4578-8149-a7ae88d1daa6</td><td>Cinderella Castle and Carriage Invitations | Etsy</td><td>50 cts/ Cinderella theme castle and carriage lasercut Invitations for quinceañera or any other occasion. Minimum quantity of 50 units for this listing. The bow and writing color… </td><td>12</td><td>Liz Hinojosa</td><td>Invitations Quinceanera,Cinderella Quinceanera Themes,Cinderella Invitations,Cinderella Theme,Cinderella Birthday,Cinderella Castle,Quinceanera Party,Sweet 15 Invitations,Quince Invitations</td><td>image</td><td>https://i.pinimg.com/originals/96/40/2b/96402bc8fddb35f909fa4c35796c6083.jpg</td><td>/data/event-planning</td><td>event-planning</td></tr><tr><td>1819</td><td>e20ac887-9f16-4848-9620-8798d8dce270</td><td>DIY YARN CHRISTMAS TREES (EASY & LAST MINUTE DECORATION IDEA) - Francine's Place Blog</td><td>Discover how to make DIY yarn Christmas trees, easy and last minute tutorial for a beautiful home decoration idea!</td><td>436</td><td>Francine's Place Blog | DIY, lifestyle, creativity</td><td>Diy Christmas Crafts To Sell,Christmas On A Budget,Christmas Ornament Crafts,Simple Christmas Tree Decorations,How To Make Christmas Tree,Flocked Christmas Trees Decorated,White Christmas Trees,Diy Crafts With Yarn,Ideas For Christmas</td><td>image</td><td>https://i.pinimg.com/originals/2e/fc/51/2efc51831d8fc04f31496358cee4e3ef.jpg</td><td>/data/christmas</td><td>christmas</td></tr><tr><td>5488</td><td>e095613c-b051-4cc9-9673-38bedbe8f5d0</td><td>How to Budget Monthly Finances Wisely - Real Advice Gal</td><td>Want to save money, pay debts and live a good life? Learn How to Budget Monthly finances and thrive on less than $30,000.</td><td>79000</td><td>Amee</td><td>Ways To Save Money,Money Tips,Money Saving Tips,Saving Ideas,Living On A Budget,Frugal Living,Family Budget,Wordpress,Tax Refund</td><td>image</td><td>https://i.pinimg.com/originals/b2/89/d2/b289d2d06ec7a337dae46713ba989eec.jpg</td><td>/data/finance</td><td>finance</td></tr></tbody></table></div>"
      ]
     },
     "metadata": {
      "application/vnd.databricks.v1+output": {
       "addedWidgets": {},
       "aggData": [],
       "aggError": "",
       "aggOverflow": false,
       "aggSchema": [],
       "aggSeriesLimitReached": false,
       "aggType": "",
       "arguments": {},
       "columnCustomDisplayInfos": {},
       "data": [
        [
         7683,
         "d01db019-c7c4-4888-8ee8-86ae3724438c",
         "Dear Me, F*ck You - A Raw and Real Open Letter to Myself",
         "When was the last time you wrote yourself a letter and poured out every emotion deep inside of you. Here's my open letter to myself.",
         228000,
         "Iva A. Ursano Amazing Me Movement",
         "Motivacional Quotes,Woman Quotes,Great Quotes,Inspirational Quotes,Sassy Quotes,Badass Quotes Women,Quotes For Me,Life Love Quotes,True To Yourself Quotes",
         "image",
         "https://i.pinimg.com/originals/c3/73/3a/c3733a5c87625096142d0bfbb0693a95.jpg",
         "/data/quotes",
         "quotes"
        ],
        [
         809,
         "9af9959d-6b6e-4646-a053-46161409ea84",
         "Serie: Tarot – Naipe de Ouros – Dinheiro, Materialidade, Realizações",
         "O dinheiro e os bens materiais são reflexos da nossa postura interior e da nossa capacidade de conservar e promover avanços. O perigo dessa energia é o apego, a procrastinação,… ",
         39,
         "Nina Gooden",
         "Black Love Art,Black Girl Art,Art Girl,Art Beauté,Tarot,Black Art Painting,Black Art Pictures,Goddess Art,Black Goddess",
         "image",
         "https://i.pinimg.com/originals/98/c6/f5/98c6f5b879e9c454b7d972381214c812.jpg",
         "/data/art",
         "art"
        ],
        [
         8477,
         "438c3aa2-b40b-450c-af3e-ec098178d56d",
         "48 Mother Daughter Quotes To Make You Laugh & Cry",
         "Whether you are searching for inspiration to pull you through or looking to hear some sweet sentiments, you will love these mother daughter quotes!",
         19000,
         "Rookie Moms",
         "Citations Top,The Words,Love Quotes For Her,Quotes To Live By,Love Quotes For Kids,Quotes About Little Boys,Family Quotes And Sayings,Mom Sayings,Thoughts",
         "image",
         "https://i.pinimg.com/originals/34/8c/0e/348c0e258a227dbd86ec1e2f53cb3d9a.jpg",
         "/data/quotes",
         "quotes"
        ],
        [
         4724,
         "4b247514-3c7b-4dd5-a58e-29eb4246bbfa",
         "25 Ways To Use Balloons in Your Wedding Décor",
         "Using balloons in your wedding décor is a fresh and fun way to celebrate. Here, we've rounded up fun ideas you'll love.",
         371000,
         "BRIDES",
         "Corporate Event Design,Floating Lanterns,Balloon Arrangements,Love Balloon,Diy Backdrop,Elegant Wedding,Wedding Reception,Party Wedding,Gold Party",
         "image",
         "https://i.pinimg.com/originals/de/dc/38/dedc38e36d4a4ed0282d5a2e854af7ae.png",
         "/data/event-planning",
         "event-planning"
        ],
        [
         1735,
         "4a0a5961-2b56-4e28-a991-8b260a07ecdb",
         "Pinecone Christmas Trees",
         "Pinecone Christmas Tree Craft - a festive DIY your kids will enjoy! Make adorable Christmas trees with pinecones, paint and colorful pom poms!",
         85000,
         "Made to be a Momma",
         "Christmas Tree Crafts,Colorful Christmas Tree,Pinecone Crafts Kids,Pine Cone Christmas Tree,Preschool Christmas Crafts,Christmas Trees For Kids,Christmas Tree Painting,Christmas Activities,Painted Christmas Ornaments",
         "image",
         "https://i.pinimg.com/originals/a3/f4/ad/a3f4ade8016b2e1663e5fa341c17fd18.jpg",
         "/data/christmas",
         "christmas"
        ],
        [
         1919,
         "30b08615-11a5-415e-99c9-4bac9a3596fd",
         "Modern Farmhouse Christmas Decor  Inspiration",
         "Christmas is fast approaching and if you are anything like me, decorating your home for the holidays can be stressful and I love modern farmhouse Christmas decor. I look at Pint… ",
         45000,
         "Hudson Farmhouse",
         "Elegant Christmas Centerpieces,Decoration Christmas,Farmhouse Christmas Decor,Christmas Kitchen,Noel Christmas,Country Christmas,White Christmas,Christmas Ideas,Christmas Design",
         "image",
         "https://i.pinimg.com/originals/dd/11/69/dd1169d62a5d87b840bd77f722e419e8.jpg",
         "/data/christmas",
         "christmas"
        ],
        [
         2633,
         "894cb59e-b00c-4dad-89a1-9060ba46b287",
         "Cozy Rustic Farmhouse Christmas Living Room",
         "Rustic Christmas Trees in Old Crocks for that Farmhouse, Country, Primitive Decorating Style.",
         30000,
         "Rocky Hedge Farm - Simple Life | Simple Home",
         "Country Christmas Decorations,Christmas Porch,Farmhouse Christmas Decor,Winter Christmas,Outdoor Decorations,Christmas Cactus,Primitive Christmas Tree,Christmas 2019,Christmas Lights",
         "image",
         "https://i.pinimg.com/originals/65/ae/dd/65aeddeff07ce74a863d333e5463bb9e.jpg",
         "/data/christmas",
         "christmas"
        ],
        [
         9333,
         "4ba47c18-6725-44d2-9b02-cbb4f649429b",
         "Top 79 Filler Tattoo Design Ideas - [2021 Inspiration Guide]",
         "Discover smaller sized ink inspiration with the top 79 best filler tattoos. Explore cool empty gap design ideas from traditional to contemporary",
         800000,
         "Next Luxury",
         "Neotraditionelles Tattoo,Tatto Old,Body Art Tattoos,Small Tattoos,Sleeve Tattoos,Cool Tattoos,Traditional Heart Tattoos,Traditional Tattoo Filler,Traditional Tattoo Design",
         "image",
         "https://i.pinimg.com/originals/bc/71/39/bc71394b672391d792945a6627ad817b.jpg",
         "/data/tattoos",
         "tattoos"
        ],
        [
         2529,
         "01199c1e-3f4a-4958-9abb-ebc52ea2a5d3",
         "55+ Christmas Gifts for Mom | What to get mom for Christmas | Giftideascorner",
         "Holiday Activities List for the Month of December Leading up to Christmas",
         8000,
         "Gift Ideas Corner",
         "25 Days Of Christmas,Noel Christmas,Christmas Vacation,Christmas Countdown,Winter Christmas,Christmas To Do List,Christmas Island,Christmas Ideas For Mom,Christmas Presents",
         "image",
         "https://i.pinimg.com/originals/ee/51/fa/ee51fa8237e93594e66af111f56304e5.jpg",
         "/data/christmas",
         "christmas"
        ],
        [
         8552,
         "0c996198-f6c7-478e-9bd9-491c5fa4362f",
         "35 Amazingly Pretty Flower Tattoos That Are Perfect For The Spring & Summer",
         "Want a new tattoo for the Spring or Summer? Look to these 35 best tattoo ideas to inspire you to get your own version of a pretty flower tattoo or nature tattoo. From watercolor… ",
         942000,
         "YourTango",
         "Dainty Tattoos,Unique Tattoos,Small Tattoos,Cool Tattoos,Floral Tattoos,Tatoos,Cute Hand Tattoos,Inspiring Tattoos,Elegant Tattoos",
         "image",
         "https://i.pinimg.com/originals/8b/d1/5d/8bd15d66d96308e157ea359ed7c135e5.jpg",
         "/data/tattoos",
         "tattoos"
        ],
        [
         443,
         "a0fd8d86-7530-47f1-a354-8860b7decea4",
         "Book Art Is Awesome: Drawn Edition",
         "I am so sorry. The pieces in the previous book art posts were largely unattainable. We were talking large-scale sculptures or art gallery pieces. These weren't things you could… ",
         154000,
         "Book Riot",
         "Sketch Painting,Drawing Sketches,Art Drawings,Sketch Ink,Drawing Ideas,Shadow Painting,Collage Drawing,Book Drawing,Shadow Art",
         "image",
         "https://i.pinimg.com/originals/99/6c/cb/996ccbf53f699adfada0e3a8263dbe14.jpg",
         "/data/art",
         "art"
        ],
        [
         3723,
         "46c3331d-50ff-46fa-a8de-b0b7b0b9344d",
         "Special Education Classroom Setup",
         "One of the most challenging tasks as a special education teacher is setting up a safe, organized classroom environment for a class with multiple disabilities. Learn more about t… ",
         16000,
         "Simply Special Ed | Resources for Special Education Teachers",
         "Special Education Organization,Kindergarten Special Education,Special Education Activities,Teaching Schools,Special Education Teacher,Classroom Organization,Life Skills Classroom,Classroom Layout,Autism Classroom",
         "image",
         "https://i.pinimg.com/originals/22/0e/0f/220e0f3de0e6fd04536979563cd91b2e.jpg",
         "/data/education",
         "education"
        ],
        [
         9582,
         "b05016ee-4e8a-4dc2-be11-8287a61fc2a6",
         "The Ultimate London-Scotland-Ireland Itinerary",
         "The ultimate London Scotland Ireland Itinerary including advice on when to go, things to do and the best places to stay!",
         5000,
         "The World Was Here First",
         "Scotland Vacation,Ireland Vacation,Scotland Travel,Ireland Travel,Scotland Trip,Galway Ireland,Traveling To Ireland,Honeymoon Ireland,Cork Ireland",
         "image",
         "https://i.pinimg.com/originals/b6/bd/47/b6bd4780098893ecd020ea246f21d074.jpg",
         "/data/travel",
         "travel"
        ],
        [
         414,
         "ce1129a8-9e51-4474-958a-394b4dc8b0bf",
         "Creative Rock Painting for Kids",
         "Rock painting for kids is always a fun activity! Click to find awesome rock painting ideas kids of all ages will love to make!",
         20000,
         "Projects with Kids",
         "Rock Painting Patterns,Rock Painting Ideas Easy,Rock Painting Designs,Rock Painting Ideas For Kids,Painting Crafts For Kids,Rock Painting Supplies,Art And Craft,Stone Art Painting,Pebble Painting",
         "image",
         "https://i.pinimg.com/originals/88/3b/9e/883b9e12bbffc6fb217c27280708a060.jpg",
         "/data/art",
         "art"
        ],
        [
         4224,
         "ebd8f520-f733-4a52-bafd-93c517784f60",
         "Executive Functioning Skills Explained",
         "Executive functioning skills are getting a lot of attention right now in education. Honestly, it's not even the amount of attention that they deserve, though. Executive function… ",
         56000,
         "Pathway 2 Success",
         "Study Skills,Coping Skills,Skills List,Learning Tips,Kids Learning,Planning School,Working Memory,Working Hard,School Social Work",
         "image",
         "https://i.pinimg.com/originals/39/cc/20/39cc2047538f098b707255c29072d4b7.png",
         "/data/education",
         "education"
        ],
        [
         8808,
         "a7732aa5-dbc2-4b86-9218-600e364f19cb",
         "21 Best Tiny Tattoos For Girls",
         "Tiny tattoos are the most delicate way to add to your ink collection, not to mention, the prettiest. Whether it's a tiny heart hidden on your wrist, a single needle etching on t… ",
         54000,
         "Beautyholo | Latest Hairstyles, Nail Design Ideas, Home Décor DIY, Women Fashion Ideas",
         "Dainty Tattoos,Baby Tattoos,Mini Tattoos,Tatoos,Blue Flower Tattoos,Flower Tattoo On Ribs,Tiny Tattoos For Girls,Cute Tattoos For Women,Forget Me Not Tattoo",
         "image",
         "https://i.pinimg.com/originals/26/9e/b7/269eb77620d54a04ee9c6edfcc6518ca.jpg",
         "/data/tattoos",
         "tattoos"
        ],
        [
         3683,
         "3798659e-2dd1-4f30-ba89-b5a553f1dc8a",
         "Complete Sentences and Beyond! - Teaching with a Mountain View",
         "Here is a super fun and easy group activity you can try to teach your students complete sentences and beyond.",
         76000,
         "Teaching With a Mountain View",
         "Writing Complete Sentences,Mentor Sentences,Paragraph Writing,Writing Rubrics,Narrative Writing,Opinion Writing,Persuasive Writing,Making Sentences,Writing Sentences",
         "image",
         "https://i.pinimg.com/originals/69/67/78/69677814f0ce97e0cbd549b352e46ece.jpg",
         "/data/education",
         "education"
        ],
        [
         3937,
         "a4c64947-0752-43bf-8d35-ee66f485f95c",
         "No Prep Telling Time Games: Roll & Cover - This Reading Mama",
         "No Prep Telling Time Games: Roll & Cover - This Reading Mama",
         175000,
         "This Reading Mama",
         "Telling Time Games,Telling Time Activities,Teaching Time,Teaching Math,Telling Time For Kids,Telling Time In Spanish,Math Activities,Math For Kids,Fun Math",
         "image",
         "https://i.pinimg.com/originals/1f/09/19/1f0919652da1bdb09483e35df7dc77ba.jpg",
         "/data/education",
         "education"
        ],
        [
         5283,
         "30ddcbd4-d0db-488f-897e-ed4db3b94289",
         "20+ MOST Creative Ways to Make Money - A CENTSational Life",
         "Take Control Of Your Finances & Make More Money In 2020! Get Out Of Debt With Multiple Streams Of Income. #makemoney #debtfree #financialfreedom #sidehustle #extraincome #2020",
         7000,
         "A CENTSational Life | Make Money, Save Money, Live Your Best Life",
         "Ways To Save Money,Make More Money,Money Tips,Money Saving Tips,Managing Money,Money Budget,Money Plan,Extra Money,Budgeting Finances",
         "image",
         "https://i.pinimg.com/originals/c4/79/05/c47905587030bcab266d60905e8285dd.png",
         "/data/finance",
         "finance"
        ],
        [
         10505,
         "56df04d6-0a39-4dd0-a23f-106b641dee09",
         "J-truck photos - Page 19",
         "Page 19-J-truck photos General FSJ Discussion",
         6000,
         "TATEMS",
         "Jeep Pickup,Jeep Truck,Lifted Trucks,Cool Trucks,Pickup Trucks,Truck Drivers,Dodge Trucks,Lifted Ford,Chevrolet Trucks",
         "image",
         "https://i.pinimg.com/originals/2c/f7/1b/2cf71b178cbd69f749738c8334a6de9b.jpg",
         "/data/vehicles",
         "vehicles"
        ],
        [
         10158,
         "ce5e5666-f9f0-43d4-ba2b-476ed9170a69",
         "Prettiest Cities in Italy",
         "Looking for the prettiest cities in Italy to visit during your trip? This comprehensive article includes big cities, coastal towns and hidden gems - all breathtakingly beautiful… ",
         28000,
         "Nicki ",
         "Italy Travel Tips,Europe Travel Guide,Europe Destinations,Traveling To Italy Tips,Bucket List Destinations,Travel List,Travel Guides,Visit Italy,Italy Places To Visit",
         "image",
         "https://i.pinimg.com/originals/f5/92/2e/f5922ef29414b5533e3b7855d3107bf9.jpg",
         "/data/travel",
         "travel"
        ],
        [
         10711,
         "f6eb2e66-f845-416c-9162-13e2be234e52",
         "Armortruck Futuristic Armored SUV Concept | Cool Material",
         "We’ve seen plenty of futuristic, apocalypse-ready vehicles over the years. Few of them compare to the share absurdity of the Armortruck Futuristic Armored SUV Concept from Bulga… ",
         36000,
         "Cool Material",
         "Dreamworks,Off Road Tires,Armored Truck,Futuristic Cars,Futuristic Vehicles,Futuristic Design,Armored Vehicles,Suv Vehicles,Army Vehicles",
         "image",
         "https://i.pinimg.com/originals/57/c0/7b/57c07bd860bdec0d7e0dc50ade4ae90b.png",
         "/data/vehicles",
         "vehicles"
        ],
        [
         9020,
         "eb428d2b-0167-49e3-8a11-2ba8bde3bc55",
         "43 Beautiful Penoy Flower Tattoo Design Ideas For Fashion Woman",
         "Peony tattoos are beautiful and these have become one of the most popular pieces of body art. The flowers symbolize many things including good fortune, romance, compassion and m… ",
         771,
         "Fashionsum | Nails, Tattoos, Hair, Makeup",
         "Sexy Tattoos,Cute Tattoos,Beautiful Tattoos,Girl Tattoos,Small Tattoos,Sleeve Tattoos,Tatoos,Faith Tattoos,Music Tattoos",
         "image",
         "https://i.pinimg.com/originals/67/d6/da/67d6daef5df258e8851eed3df8a152b2.png",
         "/data/tattoos",
         "tattoos"
        ],
        [
         10675,
         "ff6eb7bd-0d32-47a5-9b4b-af672f5478eb",
         "The Brubaker Box is back, almost",
         "The ‘60s surf wagon is poised for a comeback.",
         63,
         "Billy Lintzenich",
         "Weird Cars,Cool Cars,Vw Modelle,Vw Lt,Rc Autos,Car Design Sketch,Monospace,Futuristic Cars,Custom Vans",
         "image",
         "https://i.pinimg.com/originals/43/0f/d3/430fd3fa5b88d0c6f817412299b8094b.jpg",
         "/data/vehicles",
         "vehicles"
        ],
        [
         2861,
         "95483c0e-e7b6-4f56-a9c0-0880fef04405",
         "DIY Pom Pom Letters for MOM!",
         "Marla Meridith - DIY Pom Pom Letters for MOM!",
         671000,
         "Marla Meridith",
         "Toddler Crafts,Diy Crafts For Kids,Projects For Kids,Fun Crafts,Craft Projects,Arts And Crafts,Kids Diy,Craft Ideas For Girls,Back To School Crafts For Kids",
         "image",
         "https://i.pinimg.com/originals/a8/87/fc/a887fc1757a08dfeb6e14b774d4a3a80.jpg",
         "/data/diy-and-crafts",
         "diy-and-crafts"
        ],
        [
         9106,
         "a4c5a298-f07f-4a76-bece-45219ef9ecac",
         "13 Inspiring Shakespeare Tattoos",
         "If you're a romantic bookworm looking to truly express your love for the Bard and his works, check out these Shakespeare tattoos and get inspired.",
         4000,
         "Books and Bao | Travel, Culture, Books",
         "Feminine Tattoo Sleeves,Feminine Tattoos,Unique Tattoos,Cute Tattoos,Leg Tattoos,Beautiful Tattoos,Body Art Tattoos,Small Tattoos,Sleeve Tattoos",
         "image",
         "https://i.pinimg.com/originals/01/63/eb/0163eb6fee8859189645e4d6d7432e70.jpg",
         "/data/tattoos",
         "tattoos"
        ],
        [
         2237,
         "81186814-b77a-4cda-b660-bd107f87b7bb",
         "30 Cheap Christmas Decorations for any Budget - Happily Ever After, Etc.",
         "I am ready to decorate for Christmas… but with all the things filling the store my pocketbook is feeling a little unprepared. Which is why I’ve gathered an entire list of 30 che… ",
         53000,
         "Happily Ever After Etc",
         "Winter Wedding Centerpieces,Simple Centerpieces,Flower Centerpieces,Centerpiece Ideas,Diy Christmas Wedding Centerpieces,Christmas Wedding Flowers,Graduation Centerpiece,Quinceanera Centerpieces,Diy Candles Christmas",
         "image",
         "https://i.pinimg.com/originals/17/43/b0/1743b0f9c21df48678b2b1058af284fb.jpg",
         "/data/christmas",
         "christmas"
        ],
        [
         5083,
         "5ae54ea8-1e83-4bde-82a0-81c420d1d406",
         "How to Start Investing Without Knowing Anything About the Stock Market",
         "Investing tips for beginners. Learn how to invest in stock market even if you don't know anything about it.",
         15000,
         "DollarSanity",
         "Stocks For Beginners,Stock Market For Beginners,Dividend Investing,Investing Money,Saving Money,Saving Tips,Silver Investing,Stock Market Investing,Finance Stock Market",
         "image",
         "https://i.pinimg.com/originals/47/8d/62/478d62d14e39d51753f19b9ab23afb50.jpg",
         "/data/finance",
         "finance"
        ],
        [
         10278,
         "dd018bba-02a2-4591-99d8-ce9eeb3e6c96",
         "Travel Guide To Copenhagen - Places To Stay, Where To Eat & More",
         "In this travel guide to Copenhagen, I share where to stay, best things to see, where to eat, things to know, and day-by-day itinerary.",
         22000,
         "RD's Obsessions",
         "Travel Photography Tumblr,Photography Beach,Animal Photography,Wedding Photography,Copenhagen Travel,Copenhagen Denmark,Places To Travel,Travel Destinations,Places To Visit",
         "image",
         "https://i.pinimg.com/originals/66/3e/78/663e783e20c7fd1b176970e242b26ba8.jpg",
         "/data/travel",
         "travel"
        ],
        [
         3757,
         "59706e74-631f-4326-bb36-779a34bc8c1f",
         "67 Best Classroom Setup Ideas for Back to School - Chaylor & Mads",
         "67 Best Classroom Setup Ideas for Back to School - Chaylor & Mads",
         92000,
         "Kristen | Lifestyle, Mom Tips & Teacher Stuff Blog",
         "Kindergarten Classroom Decor,Modern Classroom,3rd Grade Classroom,New Classroom,Classroom Design,Toddler Classroom Decorations,Classroom Decor Themes,Primary Classroom Displays,Elementary Classroom Themes",
         "image",
         "https://i.pinimg.com/originals/b4/88/d0/b488d05cdc2a419ea8f9542c55711e8e.jpg",
         "/data/education",
         "education"
        ],
        [
         2316,
         "fcb8b5c5-5cfb-40fe-8441-3ca154843e90",
         "Nordic Gnomes Needle Felting Kit",
         "Needle felt this cheeky pair of Nordic Gnomes, and create the perfect Scandi Christmas scene! This needle felting kit contains everything you need to make your own cute needle f… ",
         50,
         "Rosemary Wild Fabrics",
         "Felt Christmas Ornaments,Christmas Crafts,Christmas Stocking,Needle Felting Kits,Wool Felting,Christmas Needle Felting,Needle Felting Tutorials,Needle Felted Ornaments,Felted Scarf",
         "image",
         "https://i.pinimg.com/originals/b0/21/7e/b0217e468b48d20d26f9864096a447ef.jpg",
         "/data/christmas",
         "christmas"
        ],
        [
         7886,
         "7130273e-32e5-4f76-8e93-1bee300d3fee",
         "125 Cute Captions For Pictures Of Your Girlfriend On Instagram",
         "When writing Instagram captions for girlfriends, especially on couples' selfies, using love quotes, sweet lines from songs or romantic sayings will make her smile.",
         942000,
         "YourTango",
         "Cute Love Quotes,Soulmate Love Quotes,Inspirational Quotes About Love,Love Quotes For Her,Romantic Love Quotes,Quotes To Live By,Happy Quotes About Love,Love Couple Quotes,You Make Me Happy Quotes",
         "image",
         "https://i.pinimg.com/originals/3c/e4/b0/3ce4b086e8a1852e0e5963df34449bf6.jpg",
         "/data/quotes",
         "quotes"
        ],
        [
         1969,
         "37ebe443-3b5a-4b42-acf6-3236f24db268",
         "Gingerbread House Decorating Party - Darling Darleen | A Lifestyle Design Blog",
         "Gingerbread House Decorating Party + FREE Printables for the perfect holiday birthday party idea or Christmas party for children || Darling Darleen",
         15000,
         "Darling Darleen",
         "Adult Christmas Party,Christmas Birthday Party,Winter Birthday,Christmas Party Decorations,Holiday Parties,Christmas Holidays,Decoration Party,Gingerbread Birthday Party,Craft Birthday Party",
         "image",
         "https://i.pinimg.com/originals/bf/ae/2e/bfae2e8793a41a8aaae00b86801e9ba7.jpg",
         "/data/christmas",
         "christmas"
        ],
        [
         10582,
         "2d30865b-da84-4024-8b67-ad9c3ef1e536",
         "C. Walker: Photo",
         "The inner rambling of a mad man! Why dont you drop by my website- SUPER AMAZING WEBSITE MACHINE!",
         13000,
         "Michele Noh",
         "Luxury Sports Cars,Classic Sports Cars,Classic Cars,Porsche Classic,Maserati,Bugatti,Ferrari Daytona,Ferrari 328,Datsun 240z",
         "image",
         "https://i.pinimg.com/originals/72/91/a8/7291a8228bc21bcb373db109ce70f3e3.jpg",
         "/data/vehicles",
         "vehicles"
        ],
        [
         5570,
         "fef5ae17-a38a-4830-9aaf-4c2ba95edb78",
         "How To Become Debt-Free As Quickly As Possible - Ask Miss Whimsical",
         "Are you sitting on a pile of debt and wondering how will you be able to repay it? This post contains affiliate links. For more information, see my disclosures here. …",
         99,
         "Ask Miss Whimsical",
         "Finance Books,Finance Tips,Planning Budget,Financial Planning,Financial Budget,Credit Card Interest,Paying Off Credit Cards,Savings Plan,Savings Challenge",
         "image",
         "https://i.pinimg.com/originals/e2/b6/51/e2b651feb0a743199b0b91e529255ff3.jpg",
         "/data/finance",
         "finance"
        ],
        [
         4036,
         "7ac78454-a821-417d-93c4-fe99c9de0532",
         "The Unfair Game - The Comprehensible Classroom",
         "The Unfair Game is a totally unfair twist on Jeopardy that your students will LOVE to hate! Learn how to play and find sample game boards in this post.",
         13000,
         "The Comprehensible Classroom by Martina Bex",
         "Teaching Strategies,Teaching Resources,Teaching Art,Teaching Ideas,Teaching Class,Vocabulary Strategies,Critical Thinking Activities,Teaching Channel,Teaching Literature",
         "image",
         "https://i.pinimg.com/originals/92/0e/4f/920e4f592faec9404652f31c6814590c.jpg",
         "/data/education",
         "education"
        ],
        [
         612,
         "db55a82c-1fbc-4f29-ba46-f0f55dbc115e",
         "Hot Glue Canvas Art",
         "How to make Hot Glue Art - create custom canvas art with a favorite quote using hot glue and acrylic craft paint. #TheCrazyCraftLady #hotgluecraft #hotglueart #diyart",
         105000,
         "The Crazy Craft Lady",
         "Canvas Art Quotes,Diy Canvas Art,Canvas Crafts,Custom Canvas,Custom Wall,Canvas Ideas,Canvas Canvas,Canvas Art Projects,Framed Canvas",
         "image",
         "https://i.pinimg.com/originals/bd/02/7e/bd027e21a7c813c1ac09771982c7d1cf.jpg",
         "/data/art",
         "art"
        ],
        [
         10444,
         "c8b8a9f8-241c-456a-8a7e-07b291eecd78",
         "Oshkosh JLTV First Drive Review",
         "In this special Motor Trend story, we get behind the wheel of the U.S.' new Baja-tuned, GM Duramax-diesel-powered, Humvee replacement.",
         65000,
         "MotorTrend",
         "Lifted Ford Trucks,Jeep Truck,Big Trucks,Army Vehicles,Armored Vehicles,Oshkosh Jltv,Us Army Rangers,Armored Truck,Armored Fighting Vehicle",
         "image",
         "https://i.pinimg.com/originals/2d/7e/3d/2d7e3d75f85094b73cc01761b871f5d2.jpg",
         "/data/vehicles",
         "vehicles"
        ],
        [
         4159,
         "0c482cf8-b912-4886-83c6-fe57bf9eac00",
         "Weather Activities For Kids - Teaching Special Thinkers",
         "March is the perfect time to pull out ALL your rainbow and weather activities! Turn your classroom into a seasonal storm with our Made For Me Literacy Weather Unit! This unit is… ",
         21000,
         "Teaching Special Thinkers",
         "Special Education Classroom,Classroom Community,Special Education Activities,Teaching Math,Preschool Kindergarten,Preschool Education,Science Classroom,Classroom Ideas,Lesson Plan For Kindergarten",
         "image",
         "https://i.pinimg.com/originals/53/f0/f8/53f0f80e2048085e7e5a866cfd558ecd.png",
         "/data/education",
         "education"
        ],
        [
         601,
         "4a038a5a-e430-4a6a-bd4f-63015a2f3632",
         "End of a season  - Art Print - 7.5 x 10 / Somerset Velvet",
         "End of a season art print by Jacqueline Bergeron. Our art prints are produced on acid-free papers using archival inks to guarantee that they last a lifetime without fading or lo… ",
         159,
         "Jacqueline MB Designs",
         "Wooden Row Boat,Classic Wooden Boats,Foggy Morning,Framed Prints,Art Prints,Us Images,New England,Fine Art America,Instagram Images",
         "image",
         "https://i.pinimg.com/originals/66/f8/0d/66f80d39b93e060f9c9703f01b947ac9.jpg",
         "/data/art",
         "art"
        ],
        [
         2756,
         "f4502efe-3c29-4642-b146-5140e6f9a46d",
         "Paper Plate Llamas | Handmade Charlotte",
         "Turn regular paper plates into these adorable and cuddly llama friends!",
         948000,
         "Handmade Charlotte",
         "Paper Crafts For Kids,Preschool Crafts,Paper Crafting,Diy For Kids,Diy And Crafts,Arts And Crafts,Craft Ideas For Girls,Crafts At Home,Diy Crafts With Paper",
         "image",
         "https://i.pinimg.com/originals/ed/3b/03/ed3b0350a3255847200f16b60dc928ab.jpg",
         "/data/diy-and-crafts",
         "diy-and-crafts"
        ],
        [
         7260,
         "172ad7a1-386b-4952-af99-db832ba27822",
         "Het perfecte T-shirt is nóg iets perfecter geworden",
         "Met een verbetering waar je nooit aan gedacht had. Lees meer.",
         130000,
         "Esquire Magazine",
         "Trendy Mens Fashion,Stylish Mens Outfits,Casual Wear For Men,Formal Men Outfit,Men Summer Fashion,Casual Man,Fashion Men,Outfit Hombre Casual,Mode Masculine Fashion",
         "image",
         "https://i.pinimg.com/originals/c9/ce/3c/c9ce3cc0fcfbb2917d48609c041ddb7f.jpg",
         "/data/mens-fashion",
         "mens-fashion"
        ],
        [
         6675,
         "76917c24-3fc0-4fe0-8ad7-4b3f49ca0d1b",
         "How to style a bar cart",
         "Sharing bar cart styling, from picking out the perfect cart to adding the final decor touches",
         2000,
         "Anoushka Probyn",
         "Home Bar Decor,Bar Cart Decor,First Apartment,Apartment Bar,College House,Bar Cart Styling,Minimalist Room,House Rooms,Home Decor Inspiration",
         "image",
         "https://i.pinimg.com/originals/83/ae/e1/83aee132f1c44877f6cb78452ee1e1aa.jpg",
         "/data/home-decor",
         "home-decor"
        ],
        [
         6122,
         "2f0ee315-dca0-4d21-9f00-ba5c3cd0e254",
         "NSW Central Coast Tree Change",
         "modern chic home decor #style #interiors",
         247000,
         "Homes To Love AU",
         "Home Organisation,Kitchen Organization,Kitchen Storage,Organization Ideas,Storage Ideas,Pantry Storage,Storage Jars,Small Storage,Kitchen Shelves",
         "image",
         "https://i.pinimg.com/originals/10/76/12/107612b7f70eca3d389c32992946489b.jpg",
         "/data/home-decor",
         "home-decor"
        ],
        [
         4164,
         "c4a595b0-539a-4836-8541-7d1d27c42f46",
         "Place Value Math Centers",
         "Place Value Math Center activities to teach students how to write, model and draw 2-digit numbers using tens and ones.",
         25000,
         "A Kinderteacher Life",
         "Kindergarten Math Activities,Fun Math,Teaching Math,Math Games,Math Math,Numbers Kindergarten,Guided Math,Educational Activities,Math Place Value",
         "image",
         "https://i.pinimg.com/originals/4f/75/74/4f75749269861a7ff64be51ff1e224d9.jpg",
         "/data/education",
         "education"
        ],
        [
         1757,
         "5085377d-c6bf-4a29-8f35-9570599db2d7",
         "Christmas Gift Wrapping Ideas.",
         "Just in time for Christmas, I'm so excited to share my 6 easy DIY Christmas Gift Wrapping Ideas. All using items you have on hand at home, or that can be easily picked up. Have… ",
         912000,
         "Half Baked Harvest",
         "Diy Gifts For Christmas,Christmas Mood,Noel Christmas,Christmas Gift Wrapping,Christmas Bedroom,Elegant Christmas,Christmas Skirt,Magical Christmas,Homemade Christmas",
         "image",
         "https://i.pinimg.com/originals/88/08/a2/8808a2b67a2f5df571502cb8e7087974.jpg",
         "/data/christmas",
         "christmas"
        ],
        [
         9602,
         "cac6d26e-225d-40ad-adc3-b48f8a7b6433",
         "United States Travel Bucket List: 50 Places to See Before You Die",
         "To help you with your US travel bucket list, we've rounded up 50 places to see befe you die, from national parks to historic attractions.",
         27000,
         "Oyster.com | Hotel Reviews and Travel Tips",
         "Us Travel Destinations,Bucket List Destinations,Places To Travel,Places To See,Amazing Destinations,Vacation Places In Usa,Family Vacation Destinations,Travel Things,Voyage Usa",
         "image",
         "https://i.pinimg.com/originals/11/c6/94/11c694eea4f07ff0ac949b7e7a767c9c.png",
         "/data/travel",
         "travel"
        ],
        [
         10068,
         "edda202c-4b5b-4d9b-af73-88fbac11bd0c",
         "The top 20 hotels where influencers stay",
         "The 20 top hotels favoured by Instagrammers | Husskie | Elsa's Wholesome Life Ellie Bullen",
         20000,
         "Husskie",
         "Time Travel,Places To Travel,Places To Visit,Travel Sights,Travel Europe,Travel Usa,Travel Movies,Nightlife Travel,Spain Travel",
         "image",
         "https://i.pinimg.com/originals/80/a4/a9/80a4a98b7aeeef39af432efb710f1d98.jpg",
         "/data/travel",
         "travel"
        ],
        [
         891,
         "62023514-9425-4b92-a801-4bfd1ff050b9",
         "\"Belly Dancer\" Small Archival Print of a Belly Dancing Dinosaur",
         "Love what you surround yourself with, and collect that which brings you joy! Check out more images like this in the Artifact Fine Art shop, - you deserve a few extra minutes of… ",
         12,
         "Artifact Fine Art",
         "Dinosaur Cards,Thing 1,Dance Art,Belly Dancers,Limited Edition Prints,T Rex,Large Prints,Giclee Print,Drawings",
         "image",
         "https://i.pinimg.com/originals/77/df/ec/77dfec84878430d783d8914f1e66b311.jpg",
         "/data/art",
         "art"
        ],
        [
         2665,
         "dee85d4a-5c81-4a49-bfbd-62405c31e894",
         "DIY PINEAPPLE EARPHONE HOLDER",
         null,
         60000,
         "Girl Crafts",
         "Fun Easy Crafts,Diy Crafts For Girls,Diy Crafts To Do,Fun Arts And Crafts,Diy Crafts Hacks,Cute Crafts,Diy Craft Projects,Creative Crafts,Pinterest Diy Crafts",
         "multi-video(story page format)",
         "https://i.pinimg.com/videos/thumbnails/originals/97/3a/1b/973a1be7fe0db2be0dd4a664f68ab643.0000001.jpg",
         "/data/diy-and-crafts",
         "diy-and-crafts"
        ],
        [
         8501,
         "592a7c54-60b0-45da-be7d-089e3fb29b52",
         "Tattoo design |Wonderful Butterfly tattoo design-A symbol of happiness and love! - Mycozylive.com",
         "Many female tattoo lovers are the most irresistible tattoo designs with beautiful designs, such as bianhua, dandelion of hipster, four-leaf clover, etc. The Butterfly Tattoo is… ",
         23000,
         "fashionchaser | nails,hairstyle,tattoo",
         "Cute Tattoos For Women,Cute Tiny Tattoos,Dainty Tattoos,Little Tattoos,Small Tattoos,Pretty Tattoos,Red Ink Tattoos,Dope Tattoos,Mini Tattoos",
         "image",
         "https://i.pinimg.com/originals/70/ef/ad/70efad7ee0e4f6afe8846b11d1308aa7.jpg",
         "/data/tattoos",
         "tattoos"
        ],
        [
         8627,
         "e4996938-c871-4883-9f8b-ff848e30b8bd",
         "Moon Tattoos: Black Crescent Moon With a Mermaid",
         "Moon Tattoos: Black Crescent Moon With a Mermaid. A black moon tattoo with an intricate mermaid illustration. Click through for 53 moon tattoo ideas. #moontattoo #tattoos #tatto… ",
         538000,
         "Byrdie",
         "Time Tattoos,Leg Tattoos,Body Art Tattoos,Cool Tattoos,Sleeve Tattoos,Tattoo Art,Octopus Tattoos,Mermaid Tattoo Designs,Moon Tattoo Designs",
         "image",
         "https://i.pinimg.com/originals/dc/95/06/dc9506b612c8472afab82942f7189a88.jpg",
         "/data/tattoos",
         "tattoos"
        ],
        [
         2183,
         "c9af552f-a693-4975-8df8-5c314b422e37",
         "How to Make Stuffed Fabric Christmas Trees for Your Holiday Decor",
         "Learn how to make these easy and fun fabric Christmas trees for a sweet country farmhouse look anywhere in your home this season.",
         88000,
         "Hearth and Vine",
         "Fabric Christmas Trees,Christmas Tree Crafts,Christmas Sewing,Christmas Makes,Christmas Projects,Holiday Crafts,Christmas Fun,Xmas Trees,Xmas Crafts To Sell",
         "image",
         "https://i.pinimg.com/originals/3e/c5/a8/3ec5a824ab29245371fb0ed20d81ff21.jpg",
         "/data/christmas",
         "christmas"
        ],
        [
         5357,
         "a402b531-eb6e-4f48-b447-e8aed916fb67",
         "Useful Budgeting tips for beginner",
         null,
         760,
         "Kenya. Finances 101",
         "Ways To Save Money,Money Tips,Money Saving Tips,Money Budget,Budgeting Finances,Budgeting Tips,Financial Tips,Financial Planning,Goal Planning",
         "multi-video(story page format)",
         "https://i.pinimg.com/videos/thumbnails/originals/5b/d0/9e/5bd09e26bc69c212cf5057ecbe2b6417.0000001.jpg",
         "/data/finance",
         "finance"
        ],
        [
         5252,
         "fd14e4ad-e99a-457c-bd72-e2cbec16b4f6",
         "The First Thing You Must Do Every Pay Day",
         "What is the first thing you should do when you get paid? This is the number one thing you need to know when learning how to make a budget and pay your bills on time. If you do t… ",
         113000,
         "Penny Pinchin Mom |  Budget, Get out of Debt, Save Money & More!",
         "Best Money Saving Tips,Ways To Save Money,Money Tips,Saving Money,Money Budget,Budgeting Finances,Budgeting Tips,Making A Budget,Making Ideas",
         "image",
         "https://i.pinimg.com/originals/1c/a7/d4/1ca7d4a3ea379bc731da8c5ee600bf52.png",
         "/data/finance",
         "finance"
        ],
        [
         271,
         "050eaef6-1b7e-49e7-9044-00d2e759300b",
         "Artist Draws Terrifying Monsters On Sticky Notes",
         "Danish artist John Kenn Mortensen (who goes by Don Kenn on Tumblr and other sites) taps into the terror of our childhood nightmares with brilliant and terrifying monster drawing… ",
         2000000,
         "Bored Panda",
         "Creepy Drawings,Dark Art Drawings,Monster Drawing,Monster Art,Art And Illustration,Art Illustrations,Arte Horror,Horror Art,Don Kenn",
         "image",
         "https://i.pinimg.com/originals/e4/cb/f4/e4cbf4057cfdb61961b667361d28fda3.jpg",
         "/data/art",
         "art"
        ],
        [
         4463,
         "31010c51-1288-499a-9142-439628a7f68f",
         "Interview: How to Become a Stronger Event Planner - Learn About Event Planning",
         "We recently spoke with Kim Sullivan, SVP, CMO of the Event Planners Association. Kim founded the Event Planners Association in 2005 as a way to help event planners and independe… ",
         4000,
         "EventPlanning.com | Learn How To Become An Event Planner",
         "Event Planning Tips,Event Planning Business,Event Ideas,Business Ideas,Party Planning,Wedding Event Planner,Wedding Events,Weddings,Wedding Ideas",
         "image",
         "https://i.pinimg.com/originals/c8/4e/f6/c84ef667b2408c3807e7b84082479f2b.jpg",
         "/data/event-planning",
         "event-planning"
        ],
        [
         10300,
         "d3296ebc-4b95-47eb-b179-745f7c0ef66e",
         "21 Real Life Fairytale Destinations you must see next in Europe!",
         "Check out this Europe bucket list that will introduce you to some of the most fairytale destinations in Europe. Places you'll love and want to see next!",
         4000,
         "IngridZenMoments",
         "Europe Bucket List,Bucket List Destinations,Travel Bucket Lists,Bucketlist Ideas,Europe Destinations,Europe Travel Tips,India Travel,Italy Travel,Travel Around The World",
         "image",
         "https://i.pinimg.com/originals/67/1d/60/671d60ab072cd8a6bf4e9d18a95f8720.png",
         "/data/travel",
         "travel"
        ],
        [
         10467,
         "8eef4534-c22d-4c4f-ac96-e44eaa1c06a2",
         "Loading...",
         "50+ best Volkswagen luxury cars de4570cbeb1dd6a849eafc3c493c8c18 #FerrariPink",
         18000,
         "Tequila_Rose 🌹",
         "Luxury Sports Cars,Top Luxury Cars,Sport Cars,Audi Sport,Motor Sport,Carros Porsche,Carros Bmw,Porsche 550 Spyder,Porsche Macan Turbo",
         "image",
         "https://i.pinimg.com/originals/ad/12/e3/ad12e355f8ef7ffd2766f0418a4860a3.jpg",
         "/data/vehicles",
         "vehicles"
        ],
        [
         884,
         "6624134c-2331-4b52-9fea-607d7d4d7b78",
         "Taylored Expressions June Release Sneak Peeks: Day 3",
         "It’s day 3 of Taylored Expressions June Release sneak peeks, and there’s a new round of products being featured today on the TE blog. The design team has put together amazing pr… ",
         6000,
         "Nashvegasmama",
         "Watercolor And Ink,Watercolor Flowers,Watercolor Paintings,Watercolor Art Lessons,Watercolor Artists,Colorful Paintings,Watercolor Portraits,Watercolor Landscape,Watercolours",
         "image",
         "https://i.pinimg.com/originals/61/de/4d/61de4d18bf86d6ca95c349cd6d547d13.png",
         "/data/art",
         "art"
        ],
        [
         624,
         "5c35fc16-7be8-4c39-b0e4-c80545771f02",
         "Abstrakte goldfolie pailletten luxus wohnzimmer wohnkultur wandkunstbild drucken auf leinwand malerei für caudros dekoration leinwand - HZ220 Kein Rahmen / 40 * 140 cm.",
         "Produktbeschreibung Material: Wasserdicht 2.70g Polyester / Baumwolle Verwendungszweck: SPace-Dekoration, Heimdekoration, Geschenke Bildanzeige.",
         203,
         "Maloona",
         "Rooms Home Decor,Home Decor Wall Art,Wall Art Pictures,Print Pictures,Luxury Living,Canvas Prints,Living Room,Frame,Painting",
         "image",
         "https://i.pinimg.com/originals/7a/4b/94/7a4b94d7aedf0e08553368b9838a8d19.jpg",
         "/data/art",
         "art"
        ],
        [
         6041,
         "cc998cfd-ee56-415f-972b-4980c8ccab16",
         "Dream-catcher Macrame Wall Hanger - D",
         "This Boho wall hanging tapestry features a unique design that is a must-have in any home with a bohemian theme. Perfect for Home Decoration, Bohemian decoration, Kids Bedroom, S… ",
         25,
         "Plex Oasis",
         "Tapestry Weaving,Tapestry Wall Hanging,Macrame Wall Hangings,Weaving Art,Hand Weaving,Design Scandinavian,Décor Boho,Boho Chic,Bohemian Decor",
         "image",
         "https://i.pinimg.com/originals/00/c9/86/00c986a9d23d2c75ff3a342ef8f16f16.jpg",
         "/data/home-decor",
         "home-decor"
        ],
        [
         7952,
         "11f32392-eb2d-48cf-84e0-c52bbaba4569",
         "Citations motivantes et inspirantes – Sophie's Way",
         "Une vraie girlboss ? Retrouvez toutes les autres citations motivantes et inspirantes sur le blog ! #inspiration #quote",
         10000,
         "Sophie's Way",
         "Motivacional Quotes,Quotes Thoughts,Feel Good Quotes,Cute Quotes,Woman Quotes,Quotes To Live By,Vision Quotes,Girl Boss Quotes,Wall Of Quotes",
         "image",
         "https://i.pinimg.com/originals/98/b4/9e/98b49eb98422faa8e24842cb0debc712.png",
         "/data/quotes",
         "quotes"
        ],
        [
         7407,
         "07816c72-dad3-4287-a751-a4c395873b9f",
         "Winter Outfits for Men - Layering is KING. - The Indian Gent",
         "Winter is the season of layering and men elevate their outfits with different articles. So take a load off your mind and look the outfits we found for you.",
         42000,
         "THE INDIAN GENT - Grooming, Style, Fitness",
         "Best Winter Outfits Men,Winter Clothes For Men,Winter Outfit For Men,Casual Clothes For Men,Summer Outfit,Men's Casual Outfits Winter,Spring Outfits,Costume Anglais,Stylish Men",
         "image",
         "https://i.pinimg.com/originals/59/7f/b3/597fb3e8bb9a0b862ca3e683ca69a816.png",
         "/data/mens-fashion",
         "mens-fashion"
        ],
        [
         6509,
         "3fe432e1-b6b4-4360-bf61-e8268c4b3fb5",
         "Farmhouse\nDining Room",
         null,
         67000,
         "Norma Smith",
         "Family Room Design,Dining Room Design,Kitchen Design,Farm House Dinning Room,Dining Room Rugs,Black Dining Room Table,Dining Room Shelves,Dining Room Curtains,Dining Room Wall Art",
         "multi-video(story page format)",
         null,
         "/data/home-decor",
         "home-decor"
        ],
        [
         1023,
         "86a31ec3-90e7-4087-b4e2-9860cdd108be",
         "the TINGE tint",
         "meet the lightweight, long-lasting body foundation designed for every body, season, and occasion. our formula’s medium, buildable coverage and mattifying finish work in perfect… ",
         21,
         "TINGE",
         "Body Foundation,Body Makeup,Skin Elasticity,Dance The Night Away,Jojoba Oil,Moisturizer,Skin Care,Legs,Beauty",
         "image",
         "https://i.pinimg.com/originals/49/98/5f/49985f1be36bc6370aa8ea747449a572.jpg",
         "/data/beauty",
         "beauty"
        ],
        [
         7147,
         "8047b625-fb42-425c-acc1-b45de02a08b9",
         "COMO USAR BOTA MASCULINA com ESTILO no Dia a Dia? Guia de Dicas",
         "Macho Moda: Blog de Moda Masculina - Dicas de Estilo Masculino, Tendências, Produtos para Homens, Serviços e tudo relacionado a esse Universo",
         620000,
         "Macho Moda",
         "Stylish Mens Outfits,Casual Outfits,Men Casual,Men's Outfits,Casual Styles,Casual Fall,Fashion Outfits,Smart Casual,Best Winter Outfits Men",
         "image",
         "https://i.pinimg.com/originals/e5/4e/af/e54eaf7a74b8a26eb2d0a57511721982.png",
         "/data/mens-fashion",
         "mens-fashion"
        ],
        [
         2126,
         "adc18caf-a7ed-49c8-b328-87a9fc92551f",
         "JOLLY INSPIRATION TO STYLING TIERED TRAYS FOR HAPPY HOLIDAYS",
         "Styling tiered trays to help your home say happy holidays is what we have in store for you today. We have a fun little surprise in this round up. Mini Christmas trees, peppermin… ",
         46000,
         "Life on Summerhill | Home, Holiday Decor & DIY Website",
         "Dollar Tree Christmas,Mini Christmas Tree,Christmas Holidays,Christmas Ornaments,Christmas Mugs,Purple Christmas,Magical Christmas,Father Christmas,Christmas Wreaths",
         "image",
         "https://i.pinimg.com/originals/58/70/95/5870956a1dc6a43e8091afbeba71a427.jpg",
         "/data/christmas",
         "christmas"
        ],
        [
         3145,
         "1022ba0b-eae7-4eba-9120-1fe44d093a32",
         "How to Colour Chickpeas for Play - Inspire My Play",
         "Learn how to colour chickpeas for sensory play and craft with this easy DIY",
         4000,
         "Laura- Inspire My Play | Play & Learning For Little Kids",
         "Baby Sensory Play,Sensory Activities Toddlers,Infant Activities,Sensory Bins,Baby Play,Kindergarten Activities,Diy For Kids,Crafts For Kids,Preschool Crafts",
         "image",
         "https://i.pinimg.com/originals/35/e0/44/35e0447b94dd9076ed9e51a8d692e489.jpg",
         "/data/diy-and-crafts",
         "diy-and-crafts"
        ],
        [
         8901,
         "6eb07a7c-9a3f-413f-8c6d-5fdbd9f0ca32",
         "35 Amazingly Pretty Flower Tattoos That Are Perfect For The Spring & Summer",
         "Want a new tattoo for the Spring or Summer? Look to these 35 best tattoo ideas to inspire you to get your own version of a pretty flower tattoo or nature tattoo. From watercolor… ",
         942000,
         "YourTango",
         "Hand Tattoos,Tattoos Masculinas,Tatuajes Tattoos,Black Tattoos,Body Art Tattoos,Girl Tattoos,Sternum Tattoos,Mandala Sternum Tattoo,Tattos",
         "image",
         "https://i.pinimg.com/originals/8d/b2/1d/8db21d9200143cb02ab760fc45fba0b3.jpg",
         "/data/tattoos",
         "tattoos"
        ],
        [
         7377,
         "7f492361-9256-4a27-a103-c32bf700e6ee",
         "Top 30 Man Winter Season Dress Design Ideas | Winter Season Formal And Party Wear Dress |Arbaz Ahmad",
         "Top 30 Man #WinterSeasonDress Design Ideas | Winter Season #FormalDress And #PartyWearDress | #ArbazAhmadmens casual winter fashion,mens casual winter fashio...",
         7000,
         "Men top fashion",
         "Best Winter Outfits Men,Winter Fashion Outfits,Cool Outfits,Mens Style Winter,Mens Casual Winter Fashion,Winter Wear Men,Mens Winter Clothes,Men's Outfits,Christmas Outfits For Men",
         "image",
         "https://i.pinimg.com/originals/76/20/45/7620450677e9f5db49984371c229b061.jpg",
         "/data/mens-fashion",
         "mens-fashion"
        ],
        [
         7634,
         "d67a2eec-7f15-4023-8a8c-ebb52ac4a3be",
         "75 Best Strong Women Quotes About What Makes A Strong Woman",
         "If you're looking for a little inspiration and are in the mood for some good 'ole feminism, look to these best strong women quotes about strength to remind you what it really ta… ",
         942000,
         "YourTango",
         "Love Failure Quotes,Life Quotes Love,Badass Quotes,Woman Quotes,Great Quotes,Quotes To Live By,Bad Girl Quotes,Believe Me Quotes,So True Quotes",
         "image",
         "https://i.pinimg.com/originals/25/33/e5/2533e597003f52b7b20fd8874ff4c801.jpg",
         "/data/quotes",
         "quotes"
        ],
        [
         3232,
         "9958caec-20ac-477f-9e13-b16192f187b9",
         "How to Make Adorable Clay Pot Christmas Tree Ornaments",
         "These clay pot Christmas tree ornaments are so cute and fun for kids to make! They are an easy Christmas ornament craft that kids of all ages will be able to create.",
         20000,
         "Projects with Kids",
         "Easy Christmas Ornaments,Christmas Gifts For Teen Girls,Christmas Crafts For Gifts,Christmas Fun,Church Christmas Craft,Ornaments For Teachers,Ideas For Christmas Presents,Christmas Gifts For Teachers,Christmas Tree Decorations For Kids",
         "image",
         "https://i.pinimg.com/originals/fd/5d/51/fd5d5164125a68b18f7b1186d68d2d4d.jpg",
         "/data/diy-and-crafts",
         "diy-and-crafts"
        ],
        [
         4387,
         "ae5e7377-f1bd-4ac5-94de-bee317f51a43",
         "Βάπτιση: H παραμυθένια βάπτιση της Τιτίκας με θέμα το μονόκερο από την e.m. for you",
         "Το όνομα που επέλεξε η μαμά Ανδριανή για τη γλυκιά Τιτίκα δεν είναι καθόλου τυχαίο. Και φυσικά δεν άφησε τίποτα στην τύχη ούτε την ημέρα της βάπτισης. Ανέθεσε την οργάνωση στην… ",
         4,
         "Manosbojana Katsareas",
         "Diy Flowers,Flower Diy,Baptism Decorations,Christening,Event Planning,Wedding Planner,Baptism Ideas,Birthday,Party",
         "image",
         "https://i.pinimg.com/originals/db/aa/d2/dbaad28fa85012a4ea6958540d98a8e5.jpg",
         "/data/event-planning",
         "event-planning"
        ],
        [
         10956,
         "ce37ad55-b433-4247-9e37-1499f9d5e76e",
         "Sports Cars: Prices, MPG & Features",
         "matte black benz",
         2000,
         "Cream City Flow - High End Streetwear - Better Everyday",
         "Luxury Sports Cars,Top Luxury Cars,Sport Cars,Exotic Sports Cars,Mercedes Auto,Fancy Cars,Cool Cars,Cool Sports Cars,Sexy Autos",
         "image",
         "https://i.pinimg.com/originals/7e/aa/3e/7eaa3edf714d98421d61123e780d82c0.jpg",
         "/data/vehicles",
         "vehicles"
        ],
        [
         1862,
         "79afce18-8660-4651-9ba6-e2ce0fe1abeb",
         "Trendy Christmas Mantel Decor Ideas From Instagram",
         "Now that Halloween and Thanksgiving are over it's time to take out those lovely Christmas decorations that you've been itching to put on display. You",
         965000,
         "Homedit.com",
         "Christmas Room,Christmas Mantels,Christmas Past,Cozy Christmas,Rustic Christmas,All Things Christmas,Christmas Holidays,Christmas Crafts,Christmas Ideas",
         "image",
         "https://i.pinimg.com/originals/d2/b4/3c/d2b43cc7ff2b6a3642eacbccbd9db9ec.jpg",
         "/data/christmas",
         "christmas"
        ],
        [
         4085,
         "48a974ff-6c9a-4fb0-a637-2383b6683162",
         "Why You Need a Daily Agenda Slide for Your Classroom | Dr. Loftin's Lea...",
         "Classroom Management: Why you need a daily agenda slide for your classroom-Includes a Free Editable Template. #ClassroomManagement #ClassroomTips #TeachingTip #Teaching",
         2000,
         "Dr. Loftin's Learning Emporium",
         "Middle School Classroom,English Classroom,Middle School Science,7th Grade Classroom,Elementary Science Classroom,8th Grade Ela,Social Studies Classroom,Middle School Reading,Middle School English",
         "image",
         "https://i.pinimg.com/originals/68/de/66/68de66915b0d30b0ca957d52eee34101.jpg",
         "/data/education",
         "education"
        ],
        [
         82,
         "f62e3bd2-cf77-44c8-ae64-81273f901592",
         "🍂watercolor autumn leaves 🍂",
         null,
         150000,
         "Zezè",
         "Watercolor Art Lessons,Watercolor Painting Techniques,Painting Tips,Easy Watercolor Paintings,Watercolor Tips,Watercolor Tutorials,Painting Tutorials,Watercolor Flowers,Watercolors",
         "multi-video(story page format)",
         "https://i.pinimg.com/videos/thumbnails/originals/c1/3f/d4/c13fd4de97106b98970b81402a4ca9f3.0000001.jpg",
         "/data/art",
         "art"
        ],
        [
         3658,
         "820b194f-0a1f-40df-b990-cfb7cce3251d",
         "Free Life Skills File Folder Activities for Special Education",
         "Free Life Skills File Folder Activities for the independent work station in special education classrooms. Practice life skills for community integration!",
         8000,
         "Adapting for Autism | Resources for Special Education Classrooms",
         "Life Skills Lessons,Life Skills Activities,Teaching Life Skills,Vocational Activities,Vocational Tasks,Special Education Activities,Special Education Classroom,File Folder Activities,Folder Games",
         "image",
         "https://i.pinimg.com/originals/7f/1e/9c/7f1e9cbb64367aa61b1360bdac342f6b.jpg",
         "/data/education",
         "education"
        ],
        [
         1483,
         "368e2edc-34ba-4d0b-9827-73278424ace7",
         "3 Ingredient Blackhead Busting Face Mask - Going Zero Waste",
         "I was recently asked about my skin care routine on instagram. Or rather they were lushing over my perfect skin, dying to know my secrets. Which I immediately divulged; Clarendon… ",
         328000,
         "Squarespace",
         "Homemade Face Masks,Diy Face Mask,Diy Skin Care,Skin Care Tips,Skin Tips,Diy Beauty,Beauty Hacks,Homemade Beauty,Beauty Tips",
         "image",
         "https://i.pinimg.com/originals/96/7f/9d/967f9d495971831074ab72a2c9a9cd34.jpg",
         "/data/beauty",
         "beauty"
        ],
        [
         3984,
         "4f4f692f-4868-4e71-9fdb-b1edb3eca84c",
         "Sight Words Games - Planning Playtime",
         "Looking for fun Sight Words Games for Kids? Play hands on sight words games. Use the interactive binders at home, school or on the go.",
         322000,
         "Planning Playtime",
         "Pre K Sight Words,Preschool Sight Words,Sight Word Games,Sight Word Activities,Reading Activities,Guided Reading,Toddler Activities,Word Games For Kids,Balloon Words",
         "image",
         "https://i.pinimg.com/originals/5c/27/1d/5c271d3d495e09fc0a240f6cb8802876.jpg",
         "/data/education",
         "education"
        ],
        [
         4821,
         "bcc09577-7104-4270-8388-f94bef985211",
         "Cricut Maker Adaptive QuickSwap Tools - Happily Ever After, Etc.",
         "This is a sponsored conversation written by me on behalf of Cricut. The opinions and text are all mine. Earlier this year when Cricut released the Scoring Wheel I took a look at… ",
         53000,
         "Happily Ever After Etc",
         "Homemade Wedding Invitations,Affordable Wedding Invitations,Cricut Wedding Invitations,Wedding Stationery,Invitation Paper,Wedding Planner,Making Ideas,Event Planning,Super Easy",
         "image",
         "https://i.pinimg.com/originals/1f/3c/7d/1f3c7da004601c12f4747ca6594da832.jpg",
         "/data/event-planning",
         "event-planning"
        ],
        [
         10091,
         "8708e4de-9e1a-4100-ab11-db9efa87cf0f",
         "Have Life – Will Travel",
         "Polignano, Puglia | Italy (Europe)",
         4000,
         "Trip Memos",
         "Photos Amsterdam,Amsterdam Travel,Places To Travel,Places To Visit,Couple Travel,Voyage Europe,Destination Voyage,Europe Destinations,Travel Aesthetic",
         "image",
         "https://i.pinimg.com/originals/54/f4/ef/54f4ef9629866f92d1f23ec77f8f1d5f.jpg",
         "/data/travel",
         "travel"
        ],
        [
         1331,
         "c2f02323-1058-4794-9bfd-1604838ad1b8",
         "5 Facial Tips",
         null,
         60000,
         "The Skinny Confidential",
         "Face Makeup Tips,Skin Makeup,Makeup Brushes,Makeup Ideas,Facial Tips,Facial Care,Beauty Tips For Glowing Skin,Clear Skin Tips,Healthy Skin Tips",
         "multi-video(story page format)",
         "https://i.pinimg.com/videos/thumbnails/originals/59/5a/e7/595ae72308340b3c1e7d8cec52237c6b.0000001.jpg",
         "/data/beauty",
         "beauty"
        ],
        [
         10073,
         "617b080b-7477-495b-b0e8-321e6a02416f",
         "There's a Beach in the Caribbean Where You Can Swim with Flamingos",
         "Oh for flocks sake! Can you even believe that this is REAL? 😱😭😍💕 ⠀⠀⠀⠀⠀⠀⠀⠀⠀⠀⠀⠀⠀⠀⠀⠀⠀⠀ The famous flamingos in Aruba live on Renaissance… in love",
         189000,
         "Town & Country Magazine",
         "Vacation Places,Dream Vacations,Dream Vacation Spots,Beautiful Places To Travel,Cool Places To Visit,Aloita Resort,Maldives Resort,Photos Voyages,Travel Aesthetic",
         "image",
         "https://i.pinimg.com/originals/2a/26/61/2a26619c18d14b39d35d6eac09e3b0dd.jpg",
         "/data/travel",
         "travel"
        ],
        [
         10274,
         "0ce50600-2800-4f6f-a602-a1c5efe08122",
         "10 Cheap European Countries You Can Visit on $50 / Day or Less - Goats On The Road",
         "Want to know how to travel Europe for cheap? Visit any of these budget travel desintaions! You can be saving money on food, accommodation and things to do in these bucket list d… ",
         23000,
         "Goats On The Road ",
         "Europe Train Travel,Europe Travel Tips,European Travel,Budget Travel,Travel Guides,Travel Hacks,Travel Packing,Travel Goals,Travel Essentials",
         "image",
         "https://i.pinimg.com/originals/ba/ba/92/baba927fa006557327626a471b083a62.jpg",
         "/data/travel",
         "travel"
        ],
        [
         8836,
         "d5ebf027-c461-4332-b41e-b71595fcf36a",
         "160+ Infinity Tattoo With Names, Dates, Symbols And More (For Women)",
         "Infinity tattoos for women with names, dates, symbols, meanings, you name it! If you're looking for an infinity tat, take a look.",
         48000,
         "Her Way",
         "Hand And Finger Tattoos,Cute Finger Tattoos,Finger Tattoo For Women,Small Hand Tattoos,Dainty Tattoos,Mini Tattoos,Pretty Tattoos,Tattoo Women,Hand Tats",
         "image",
         "https://i.pinimg.com/originals/dc/92/84/dc9284bec08e64c6bcd476cbff2eeb17.jpg",
         "/data/tattoos",
         "tattoos"
        ],
        [
         7619,
         "0ebd3801-e8e8-4eee-8131-8e4c937231c3",
         "We Solemnly Swear That You’ll Be Inspired By These 15 Harry Potter Quotes",
         "Motivation managed!",
         166000,
         "Women.com",
         "Harry Potter Book Quotes,Hp Quotes,Harry Potter Girl,Harry Potter Artwork,Harry Potter Jokes,Harry Potter Pictures,Harry Potter Wallpaper,True Quotes,Quotes Women",
         "image",
         "https://i.pinimg.com/originals/3c/80/72/3c8072e262cec31061d6d56e1d023a59.jpg",
         "/data/quotes",
         "quotes"
        ],
        [
         3360,
         "3bf0387c-82eb-4744-b147-6ede3aeff992",
         "DIY - SATISFYING EASY FIDGET TOY IDEA -",
         null,
         60000,
         "Girl Crafts",
         "Easy Crafts For Teens,Diy Crafts To Do,Diy Resin Crafts,Diy Crafts Hacks,Craft Activities For Kids,Diy Arts And Crafts,Hard Crafts,Teen Crafts,Kids Diy",
         "multi-video(story page format)",
         "https://i.pinimg.com/videos/thumbnails/originals/e3/e3/57/e3e3576e24b1eb3d77cf53c4569aa3ec.0000001.jpg",
         "/data/diy-and-crafts",
         "diy-and-crafts"
        ],
        [
         7563,
         "6788418b-ccd3-45a9-9850-ec931f3c4011",
         "10 Cool Casual Date Outfit Ideas For Men in 2020.",
         "Want to leave a long lasting impression on your date? Want to look good too? So here are 10 Cool Date Outfits for you to woo your women with your dressing skills",
         723000,
         "TheUnstitchd",
         "Mens Casual Dress Outfits,Mens Fall Outfits,Stylish Mens Outfits,Casual Summer Outfits,Date Outfit Casual,Winter Fashion Outfits,Winter Outfit For Men,Casual Clothes For Men,Mens Jeans Outfit",
         "image",
         "https://i.pinimg.com/originals/62/89/ae/6289ae24b4ee59f0480bbeb67ed72cde.jpg",
         "/data/mens-fashion",
         "mens-fashion"
        ],
        [
         9774,
         "0da2163a-1f18-4c58-a536-92508763767b",
         "What to Do in Turks and Caicos: One Week in Providenciales",
         "The best things to do on a vacation in Turks and Caicos. All you need to a perfect Caribbean trip, including stunning beaches, resorts, and more. Plus, all the best restaurants… ",
         2000,
         "Fueled By Wanderlust",
         "Turks And Caicos Vacation,Beaches Turks And Caicos,Europe Destinations,Beautiful Islands,Beautiful Beaches,Caribbean Vacations,Best Caribbean Destinations,Explorer,France",
         "image",
         "https://i.pinimg.com/originals/35/92/90/359290f0bcce11f8ec2b144df5196bd7.jpg",
         "/data/travel",
         "travel"
        ],
        [
         1951,
         "977fdf8b-4412-4102-8088-dd44ab68e779",
         "A Vintage Christmas Tablescape to Inspire Your Holiday Decorating",
         "10 beautiful Christmas tablescapes from some of my favorite bloggers that will 100% inspire your holiday dining room this year! Plus – we’re each",
         36000,
         "Boxwood Avenue",
         "Christmas Table Centerpieces,Christmas Table Settings,Christmas Tablescapes,Farmhouse Christmas Decor,Christmas Table Decorations,Decoration Table,Centerpiece Ideas,Room Decorations,Winter Decorations",
         "image",
         "https://i.pinimg.com/originals/7a/62/f6/7a62f65735a6bc7f2e1e295347c2138c.png",
         "/data/christmas",
         "christmas"
        ],
        [
         9068,
         "60557faa-6949-49b6-abb3-65cb6167156d",
         "Minimalist One Line Animals By A French Artist Duo",
         "I recently discovered these amazing one line animal drawings by artist duo DFT and they never left my head since. I think they would make amazing minimalist tattoos or wall art.… ",
         2000000,
         "Bored Panda",
         "Simbolos Tattoo,Tatoo Henna,Tattoo Style,Symbol Tattoos,Samoan Tattoo,Polynesian Tattoos,Cute Tiny Tattoos,Dainty Tattoos,Little Tattoos",
         "image",
         "https://i.pinimg.com/originals/86/13/3f/86133fcafe46daf09d5cf662217b5c52.png",
         "/data/tattoos",
         "tattoos"
        ],
        [
         1649,
         "e8afafd0-1305-49b6-ab31-158893571d98",
         "How to Make Candy Cane Reindeer",
         "Do you remember making these candy cane reindeer when you were a kid?! They're so cute and SO EASY! What a great holiday craft to do with the kids!",
         472000,
         "One Little Project",
         "Candy Cane Christmas,Christmas Candy Crafts,Candy Cane Reindeer,Candy Cane Crafts,Reindeer Craft,Diy Christmas Gifts,Crafts To Do,Simple Christmas,Holiday Crafts",
         "image",
         "https://i.pinimg.com/originals/7f/85/5c/7f855c692dbee177bd3cfc370ea0a788.jpg",
         "/data/christmas",
         "christmas"
        ],
        [
         5268,
         "e50667bc-cb2b-4385-bbb4-2ed75023bf5a",
         "The 5 Worst Financial Mistakes Young Adults Make (And How to Correct Them)",
         "5 Dangerous Financial Mistakes | Financial mistakes young adults make | how to fix financial mistakes | debt payoff | budget set up | budgeting for beginners #moneytips #persona… ",
         11000,
         "Budget with Rachel",
         "Financial Tips,Financial Literacy,Financial Planning,Budgeting Finances,Budgeting Tips,Ways To Save Money,How To Raise Money,Budget Planer,Budgeting Worksheets",
         "image",
         "https://i.pinimg.com/originals/64/83/6f/64836f3115e4303300cb81c12cb0c586.jpg",
         "/data/finance",
         "finance"
        ],
        [
         365,
         "ee28bec4-ac3b-4584-9c58-b490eb01b24c",
         "THE BEYOND T-Shirt : Eyeball - 2XL",
         "Lucio Fulci's horror classic THE BEYOND is back with this exclusive design from Grindhouse Releasing. Professionally screen printed T-shirts. 100% Combed ring-spun cotton. artwo… ",
         53,
         "Grindhouse Releasing web store",
         "Creepy,Scary,Terror In Resonance,Lowbrow Art,Weird And Wonderful,Horror Art,Macabre,Cool Drawings,Screen Printing",
         "image",
         "https://i.pinimg.com/originals/79/18/5b/79185b61f6dc39fc75e99e0bc4062b6b.jpg",
         "/data/art",
         "art"
        ],
        [
         9135,
         "f9c2693f-a8b2-4ea7-9eb2-03bcccf09013",
         "20 Fierce Dragon Tattoo Designs for Women",
         "Get inspired for your next inking session with these fierce dragon tattoo designs for women.",
         211000,
         "TheTrendSpotter",
         "Small Dragon Tattoos,Dragon Tattoo For Women,Chinese Dragon Tattoos,Dragon Tattoo Designs,Tattoo Designs For Women,Tattoos For Women Small,Cute Dragon Tattoo,Celtic Dragon Tattoos,Small Cool Tattoos",
         "image",
         "https://i.pinimg.com/originals/9c/90/e2/9c90e209865dcd6f9ebcc9adab7d9d46.jpg",
         "/data/tattoos",
         "tattoos"
        ],
        [
         3450,
         "899fd2d9-87a0-4591-9e51-4b497cacb597",
         "Masking Tape Mummy Craft | Somewhat Simple",
         "Making a mummy doesn’t have to be scary! With some masking tape, googly eyes, and our free printables, you can create a fun and simple mummy craft for Halloween.",
         214000,
         "Stephanie - Somewhat Simple",
         "Halloween Arts And Crafts,Easy Halloween Crafts,Theme Halloween,Halloween Projects For Toddlers,Haloween Craft,Halloween Things To Do,Halloween Crafts For Kids To Make,Creepy Halloween,Daycare Crafts",
         "image",
         "https://i.pinimg.com/originals/eb/45/40/eb4540989b3633b2ebfa2b4d3316df68.png",
         "/data/diy-and-crafts",
         "diy-and-crafts"
        ],
        [
         358,
         "d04fa77f-ea56-4735-8b95-0c0933a632ad",
         "How to Make Your Acrylics Look Like Oils — Amira Rahim",
         "Hey guys! I wanted to take some time out of the studio to share a bit about my process and some tips that I've learned along the way that help me create vibrant, colorful abstra… ",
         11000,
         "Amira Rahim | Art & Painting",
         "Colorful Abstract Art,Abstract Canvas Art,Colorful Paintings,Acrylic Art,Modern Paintings,Acrylic Paintings,Kunst Inspo,Art Techniques,Painting Techniques Canvas",
         "image",
         "https://i.pinimg.com/originals/18/21/46/182146959c24b58964b083df84cb81c2.jpg",
         "/data/art",
         "art"
        ],
        [
         3766,
         "a71e7454-afe0-481e-89d2-d79d9a74ef91",
         "The Best 3rd Grade Anchor Charts for Your Classroom",
         "Looking for 3rd grade anchor charts? We put together some of our favorites to use in your third grade classroom this year!",
         500000,
         "WeAreTeachers",
         "4th Grade Ela,3rd Grade Writing,4th Grade Classroom,4th Grade Reading,Grade 3,Guided Reading,Third Grade Books,Third Grade Art,4th Grade Science",
         "image",
         "https://i.pinimg.com/originals/0b/49/63/0b4963e80dcf0ffd6d71bba0c1356800.png",
         "/data/education",
         "education"
        ],
        [
         6624,
         "968e1955-56e0-4dad-a2b6-4f43dde47121",
         "Creative Ways to Use Rope in Your Home's Decor",
         "Unique hanging rope shelving",
         323000,
         "Kris - Driven by Decor",
         "Beach House Decor,Diy Home Decor,Home Decoration,Home Decor Shops,Decor Room,Beach Houses,Unique Home Decor,Driven By Decor,Home And Deco",
         "image",
         "https://i.pinimg.com/originals/a0/f7/78/a0f77856c76528a532def4ef43ac3fb0.jpg",
         "/data/home-decor",
         "home-decor"
        ],
        [
         2022,
         "6be337e6-53ee-4c56-b52b-b9acd37fb532",
         "The Best DIY Christmas Decorations",
         "Are you looking for some fun and quirky ways to decorate your home this Christmas? Here we look at 32 awesome ways to put the magic into Christmas.",
         228,
         "Nicole Aubin",
         "Diy Christmas Lights,Beautiful Christmas Decorations,Decoration Christmas,Christmas Diy,Christmas Trees,Outdoor Wooden Christmas Decorations,Christmas Cactus,Homemade Christmas,Christmas Cookies",
         "image",
         "https://i.pinimg.com/originals/71/ee/af/71eeaf618560c011eb4bf4a206fa7624.jpg",
         "/data/christmas",
         "christmas"
        ],
        [
         1698,
         "2564a9cf-0511-45fe-9832-ed08d1c5885f",
         "Holiday Bucket List 🎄",
         null,
         1000,
         "Libby  | Premed Wears Pearls Blog",
         "Merry Little Christmas,Cozy Christmas,Family Christmas,Christmas Holidays,Christmas Crafts,Christmas Things,Christmas Ideas,Christmas Checklist,Christmas Planning",
         "multi-video(story page format)",
         null,
         "/data/christmas",
         "christmas"
        ],
        [
         4141,
         "14382e79-9a82-4b7e-a5b5-c59e23f0fc79",
         "26 Simple Ways to Integrate Social-Emotional Learning Throughout the Day",
         "It's all about connection.",
         500000,
         "WeAreTeachers",
         "Classroom Posters,School Classroom,Classroom Ideas,Classroom Contract,Class Contract,Classroom Norms,Classroom Expectations,Future Classroom,Art Classroom",
         "image",
         "https://i.pinimg.com/originals/0c/e1/0e/0ce10e75bc5c9cdb7ababb5cd09e46af.jpg",
         "/data/education",
         "education"
        ],
        [
         4514,
         "38cb0b66-a456-4f7f-a9c4-f404bd0f6f42",
         "How to become a wedding planner from home - The Wedding Club",
         "This page includes affiliate links, meaning at no extra cost to you, I might make a small commission if you decide to buy something. You can read my full disclosure here. Most o… ",
         5000,
         "The Wedding Club | Wedding tips for brides and wedding planners",
         "How Do I Get,How To Become,Business Mission,Wedding Stationery Sets,Promote Your Business,Business Branding,Event Planning,Wedding Planner,Social Media",
         "image",
         "https://i.pinimg.com/originals/ff/11/c4/ff11c4d4b947dd9a4f38f1da86672624.jpg",
         "/data/event-planning",
         "event-planning"
        ],
        [
         2424,
         "c1e1a65b-20f6-4fe1-a89c-f5207486754f",
         "Dollar Tree Christmas Village Hack - The Latina Next Door",
         "With this Dollar Tree Christmas Village Hack you can create your own high end Christmas Village without the huge expense, and it's so easy!",
         24000,
         "Yami @ The Latina Next Door | Blogger | DIY | Budget Friendly Home Decor | Recipes |  Latina",
         "Christmas Tree Village,Dollar Tree Christmas,Christmas Hacks,Diy Christmas Ornaments,Christmas Projects,Diy Christmas Gifts,Christmas Decorations Dollar Tree,Christmas Villages,Homemade Christmas",
         "image",
         "https://i.pinimg.com/originals/fb/37/55/fb375515aaebda118ab9c8c518fbcfc4.png",
         "/data/christmas",
         "christmas"
        ],
        [
         10631,
         "b62f3c61-62e6-47fe-9842-af27e0213263",
         "Diagnosed with Nostalgia",
         "Nostalgia is denial. Denial of the painful present. The name for this denial is Golden Age thinking - the erroneous notion that a different time period is better than the one on… ",
         27,
         "Wgka",
         "Aston Martin Db5,Cars Vintage,Retro Cars,Bugatti,Lamborghini,Ferrari,Maserati,Carros Retro,Off Road Racing",
         "image",
         "https://i.pinimg.com/originals/82/b7/3d/82b73d406ba4abee49cde21f7fe96978.jpg",
         "/data/vehicles",
         "vehicles"
        ],
        [
         4801,
         "3bb087d9-6261-4368-84bc-f5531b6f3d8e",
         "Things in my office that just makes ✨sense✨",
         null,
         5000,
         "MILLI LONDON",
         "Home Business Organization,Business Storage,Organization Hacks,Small Boutique Ideas,Packing Station,Best Small Business Ideas,Successful Business Tips,Beauty Salon Decor,Business Inspiration",
         "multi-video(story page format)",
         "https://i.pinimg.com/videos/thumbnails/originals/b0/f5/1d/b0f51dce5657c43a0cbe58b6deb8bf07.0000001.jpg",
         "/data/event-planning",
         "event-planning"
        ],
        [
         1874,
         "ad07bde2-d93f-4079-bbc5-e096d22cf5ce",
         "How to make mini twig Christmas tree decorations",
         "These scene-stealing flowers will brighten up any home. Featuring carnations in shades of red and burgundy alongside delicate white Gypsophila and gold Ruscus, they are the perf… ",
         875000,
         "House Beautiful",
         "Mini Christmas Tree Decorations,Twig Christmas Tree,Noel Christmas,Rustic Christmas,Christmas 2019,Flocked Christmas Trees Decorated,Christmas Stairs,Hygge Christmas,Christmas Tables",
         "image",
         "https://i.pinimg.com/originals/71/c2/43/71c243656e9dcfb313759d32b5fd07bf.jpg",
         "/data/christmas",
         "christmas"
        ],
        [
         7035,
         "58360581-9768-4148-a127-7dc5f53d927b",
         "imgur.com",
         "3624 views on Imgur: The magic of the Internet",
         4000000,
         "imgur",
         "Mens Casual Dress Outfits,Formal Men Outfit,Summer Outfits Men,Stylish Mens Outfits,Casual Wear For Men,Men's Formal Wear,Semi Formal Outfits,Formal Dresses For Men,Guy Outfits",
         "image",
         "https://i.pinimg.com/originals/40/b8/4a/40b84ac7bbbf974fceb039a958a9216d.jpg",
         "/data/mens-fashion",
         "mens-fashion"
        ],
        [
         5244,
         "1ec9b225-801a-47cf-b71d-38d22531b02b",
         "Stop Living Paycheck to Paycheck: Utilities",
         "Are you living paycheck to paycheck? Stop! Take back control of your finances by reducing your utilities! Simple, practical ideas to become debt free ASAP! :: DontWastetheCrumbs… ",
         119000,
         "Don't Waste the Crumbs",
         "Money Tips,Money Saving Tips,Mo Money,Money Magic,Debt Free Living,Financial Tips,Financial Peace,Budgeting Money,Money Matters",
         "image",
         "https://i.pinimg.com/originals/9b/31/5a/9b315ac0bf1f0f0f111a139021f4f19c.jpg",
         "/data/finance",
         "finance"
        ],
        [
         217,
         "bb2d06ff-addc-4765-b543-07507c1c6bae",
         "Artist Amy Wright's Exhibition Narrative is now on Exhibit",
         "Textural abstract landscapes from the Ceres-based painter, currently exhibiting at The Coach House Gallery in Geelong.",
         389000,
         "The Design Files",
         "Texture Painting,Painting & Drawing,Painting Inspiration,Art Inspo,Collage Art,Collages,Blue Abstract Painting,How To Abstract Paint,Contemporary Paintings",
         "image",
         "https://i.pinimg.com/originals/91/1e/94/911e947c5b1f0ebaaf4ef638fe8a18c6.jpg",
         "/data/art",
         "art"
        ],
        [
         10506,
         "7b10c2d7-0c0c-43c7-a642-daa0ce6032f3",
         "Instagram",
         "Create an account or log in to Instagram - A simple, fun & creative way to capture, edit & share photos, videos & messages with friends & family.",
         1000,
         "Kathleen",
         "Exotic Sports Cars,Cool Sports Cars,Exotic Cars,Koenigsegg,Sexy Cars,Hot Cars,Supercars,Porsche 918 Spyder,Porsche 911",
         "image",
         "https://i.pinimg.com/originals/07/21/67/0721672c77aa0797ed663357f18adbe3.jpg",
         "/data/vehicles",
         "vehicles"
        ],
        [
         8462,
         "0dbb7cfb-d3fe-4864-b362-8a7783f19270",
         "35 Getting Over A Breakup Quotes To Help You Move On For Good",
         "Heartbreak is the worst and everyone knows it. Get over your ex with the best getting over a breakup quotes.",
         942000,
         "YourTango",
         "Ex Quotes,Quotes Thoughts,Crush Quotes,Mood Quotes,Wisdom Quotes,Life Quotes,Ex Best Friend Quotes,Quotes About Breakups,Just Friends Quotes",
         "image",
         "https://i.pinimg.com/originals/ad/fe/d2/adfed2b8be99819f5af08e18ba55e2e0.jpg",
         "/data/quotes",
         "quotes"
        ],
        [
         5422,
         "fa5092c3-34bf-44aa-8167-556ea6542619",
         "How to Budget: A Monthly Budget Guide That Actually Works",
         "Learn how to budget your money in a way that actually works. Use our step-by-step guide and create your first monthly budget today!",
         27000,
         "Holly Johnson (Club Thrifty)",
         "Financial Peace,Financial Tips,Financial Planning,Ways To Save Money,Money Tips,Money Saving Tips,Saving Ideas,Budgeting Finances,Budgeting Tips",
         "image",
         "https://i.pinimg.com/originals/49/6c/ab/496cab0a145beb2b7cec6fc342fd0fcf.jpg",
         "/data/finance",
         "finance"
        ],
        [
         7476,
         "f255a602-afbb-4f99-87c1-3c7e2fee2555",
         "My 5 Favourite Outfits From This Celeb's Instagram Account",
         "Latest clothing trends for men 2020",
         73000,
         "THE HUST",
         "Best Smart Casual Outfits,Stylish Mens Outfits,Casual Summer Outfits,Simple Outfits,Smart Casual Man,Business Casual Outfits Men,Smart Men,Casual Wedding Outfits For Men,Formal Men Outfit",
         "image",
         "https://i.pinimg.com/originals/15/d5/3a/15d53a0b549a84d8f4f0cbf83406e74c.jpg",
         "/data/mens-fashion",
         "mens-fashion"
        ],
        [
         2129,
         "8bb549dc-d8f4-4085-b255-e45d4099cb01",
         "Traditional Christmas Family Room",
         "A traditional red and green Christmas family room with classic metallic accents, decorated in an elegant and cozy way. I usually decorate our home for the holidays with red acce… ",
         126000,
         "Kristen Whitby | Ella Claire & Co.",
         "Christmas Fireplace,Christmas Mantels,Noel Christmas,Green Christmas,Family Christmas,Christmas Decorations,Diy Christmas Mantel Garland,Christmas Living Room Decor,Christmas Decorating Ideas",
         "image",
         "https://i.pinimg.com/originals/d4/fc/f3/d4fcf3cf0427af7bc09f21eb876e5c0a.png",
         "/data/christmas",
         "christmas"
        ],
        [
         4365,
         "b0a96f69-81c3-4b7c-90ca-3567c1066382",
         "A la Carte Menu - Wedding R.S.V.P. Tracking",
         "A la Carte Menu Arenlace Events Ala Carte menu is designed for that bride on a budget. Our basic package starts at $700.00 and it allows you to custom fit the package that is ri… ",
         4000,
         "Arenlace Bride Boutique | Etsy + Shopify Online Wedding Apparel Shop for Brides, Wedding Party & Bachlorette Party",
         "Budget Wedding,Wedding Planner,Destination Wedding,Wedding Ideas,Luxury Wedding,Wedding Inspiration,Planners,Event Planning Tips,Event Guide",
         "image",
         "https://i.pinimg.com/originals/bc/37/ae/bc37ae75a985b1a6c006497772ed121c.png",
         "/data/event-planning",
         "event-planning"
        ],
        [
         2538,
         "d7f596f6-cbac-45b6-a9f7-01e3c96ed033",
         "Spiral Colorful Sequin Tinsel Artificial Pencil Christmas Tree With Collapsible for Christmas Decorations - Silver A",
         "Features:1.Easy to assemble and storage--no tools needed, just take 2 minutes to assemble. features a pull-up design for effortless christmas preparations.Collapsible & Reusable… ",
         5000,
         "Wear24-7",
         "Pencil Christmas Tree,Spruce Christmas Tree,Frosted Christmas Tree,Silver Christmas Tree,Beautiful Christmas,Christmas Diy,Coastal Christmas,Spiral Christmas Tree,Unusual Christmas Trees",
         "image",
         "https://i.pinimg.com/originals/e8/55/37/e8553798d417fc25999797fe5491e771.jpg",
         "/data/christmas",
         "christmas"
        ],
        [
         5930,
         "8ef4003f-f5df-4f3a-a955-49296aa584d3",
         "Black Loving Couple Shower Curtain",
         "20 Afrocentric Bathroom Shower Curtains / Home Decor These beautiful afrocentric shower curtains are approximately 59x70 inches and fits most typical bathroom showers. If you lo… ",
         14000,
         "Ethnic Earring",
         "Black Shower Curtains,Bathroom Shower Curtains,Bathroom Showers,Bathroom Ideas,Bathrooms,Minimalist Bathroom Design,Modern Minimalist,African Shower Curtain,Couple Shower",
         "image",
         "https://i.pinimg.com/originals/a7/bb/bf/a7bbbf2aa9eb3df4d34625280e695faa.png",
         "/data/home-decor",
         "home-decor"
        ],
        [
         5332,
         "87062b8f-381b-4e9e-9e2e-c3d785d96bfe",
         "How to Use the Debt Snowball Method to Pay Off Debt | GirlTalkwithFo.com",
         "Learn how to use the debt snowball to pay off debt. Dave Ramsey debt snowball method for paying off debt. Debt payoff calculator.",
         8000,
         "GirlTalkwithFo | Debt Payoff | Budgeting & Make Money Tips",
         "Debt Snowball Spreadsheet,Debt Snowball Calculator,Debt Snowball Worksheet,Financial Peace,Financial Tips,Financial Planning,Dave Ramsey Debt Snowball,Money Makeover,Best Money Saving Tips",
         "image",
         "https://i.pinimg.com/originals/c9/56/58/c956584f4d342c77e3e406e25710eb9a.png",
         "/data/finance",
         "finance"
        ],
        [
         4916,
         "e166fed3-74ca-4578-8149-a7ae88d1daa6",
         "Cinderella Castle and Carriage Invitations | Etsy",
         "50 cts/ Cinderella theme castle and carriage lasercut Invitations for quinceañera or any other occasion. Minimum quantity of 50 units for this listing. The bow and writing color… ",
         12,
         "Liz Hinojosa",
         "Invitations Quinceanera,Cinderella Quinceanera Themes,Cinderella Invitations,Cinderella Theme,Cinderella Birthday,Cinderella Castle,Quinceanera Party,Sweet 15 Invitations,Quince Invitations",
         "image",
         "https://i.pinimg.com/originals/96/40/2b/96402bc8fddb35f909fa4c35796c6083.jpg",
         "/data/event-planning",
         "event-planning"
        ],
        [
         1819,
         "e20ac887-9f16-4848-9620-8798d8dce270",
         "DIY YARN CHRISTMAS TREES (EASY & LAST MINUTE DECORATION IDEA) - Francine's Place Blog",
         "Discover how to make DIY yarn Christmas trees, easy and last minute tutorial for a beautiful home decoration idea!",
         436,
         "Francine's Place Blog | DIY, lifestyle, creativity",
         "Diy Christmas Crafts To Sell,Christmas On A Budget,Christmas Ornament Crafts,Simple Christmas Tree Decorations,How To Make Christmas Tree,Flocked Christmas Trees Decorated,White Christmas Trees,Diy Crafts With Yarn,Ideas For Christmas",
         "image",
         "https://i.pinimg.com/originals/2e/fc/51/2efc51831d8fc04f31496358cee4e3ef.jpg",
         "/data/christmas",
         "christmas"
        ],
        [
         5488,
         "e095613c-b051-4cc9-9673-38bedbe8f5d0",
         "How to Budget Monthly Finances Wisely - Real Advice Gal",
         "Want to save money, pay debts and live a good life? Learn How to Budget Monthly finances and thrive on less than $30,000.",
         79000,
         "Amee",
         "Ways To Save Money,Money Tips,Money Saving Tips,Saving Ideas,Living On A Budget,Frugal Living,Family Budget,Wordpress,Tax Refund",
         "image",
         "https://i.pinimg.com/originals/b2/89/d2/b289d2d06ec7a337dae46713ba989eec.jpg",
         "/data/finance",
         "finance"
        ]
       ],
       "datasetInfos": [],
       "dbfsResultPath": null,
       "isJsonSchema": true,
       "metadata": {},
       "overflow": false,
       "plotOptions": {
        "customPlotOptions": {},
        "displayType": "table",
        "pivotAggregation": null,
        "pivotColumns": null,
        "xColumns": null,
        "yColumns": null
       },
       "removedWidgets": [],
       "schema": [
        {
         "metadata": "{}",
         "name": "ind",
         "type": "\"integer\""
        },
        {
         "metadata": "{}",
         "name": "unique_id",
         "type": "\"string\""
        },
        {
         "metadata": "{}",
         "name": "title",
         "type": "\"string\""
        },
        {
         "metadata": "{}",
         "name": "description",
         "type": "\"string\""
        },
        {
         "metadata": "{}",
         "name": "follower_count",
         "type": "\"integer\""
        },
        {
         "metadata": "{}",
         "name": "poster_name",
         "type": "\"string\""
        },
        {
         "metadata": "{}",
         "name": "tag_list",
         "type": "\"string\""
        },
        {
         "metadata": "{}",
         "name": "is_image_or_video",
         "type": "\"string\""
        },
        {
         "metadata": "{}",
         "name": "image_src",
         "type": "\"string\""
        },
        {
         "metadata": "{}",
         "name": "save_location",
         "type": "\"string\""
        },
        {
         "metadata": "{}",
         "name": "category",
         "type": "\"string\""
        }
       ],
       "type": "table"
      }
     },
     "output_type": "display_data"
    }
   ],
   "source": [
    "display(cleaned_df)"
   ]
  },
  {
   "cell_type": "code",
   "execution_count": 0,
   "metadata": {
    "application/vnd.databricks.v1+cell": {
     "cellMetadata": {
      "byteLimit": 2048000,
      "rowLimit": 10000
     },
     "inputWidgets": {},
     "nuid": "6d105a80-f605-41f0-804a-4c5730cf9062",
     "showTitle": false,
     "title": ""
    }
   },
   "outputs": [
    {
     "output_type": "display_data",
     "data": {
      "text/html": [
       "<style scoped>\n",
       "  .ansiout {\n",
       "    display: block;\n",
       "    unicode-bidi: embed;\n",
       "    white-space: pre-wrap;\n",
       "    word-wrap: break-word;\n",
       "    word-break: break-all;\n",
       "    font-family: \"Menlo\", \"Monaco\", \"Consolas\", \"Ubuntu Mono\", \"Source Code Pro\", monospace;\n",
       "    font-size: 13px;\n",
       "    color: #555;\n",
       "    margin-left: 4px;\n",
       "    line-height: 19px;\n",
       "  }\n",
       "</style>\n",
       "<div class=\"ansiout\"></div>"
      ]
     },
     "metadata": {
      "application/vnd.databricks.v1+output": {
       "addedWidgets": {},
       "arguments": {},
       "data": "<div class=\"ansiout\"></div>",
       "datasetInfos": [],
       "metadata": {},
       "removedWidgets": [],
       "type": "html"
      }
     },
     "output_type": "display_data"
    }
   ],
   "source": [
    "output_post_df = cleaned_df"
   ]
  },
  {
   "cell_type": "code",
   "execution_count": 0,
   "metadata": {
    "application/vnd.databricks.v1+cell": {
     "cellMetadata": {
      "byteLimit": 2048000,
      "rowLimit": 10000
     },
     "inputWidgets": {},
     "nuid": "ae9429c9-4c72-41cc-8e8f-f926723acd53",
     "showTitle": false,
     "title": ""
    }
   },
   "outputs": [
    {
     "output_type": "display_data",
     "data": {
      "text/html": [
       "<style scoped>\n",
       "  .ansiout {\n",
       "    display: block;\n",
       "    unicode-bidi: embed;\n",
       "    white-space: pre-wrap;\n",
       "    word-wrap: break-word;\n",
       "    word-break: break-all;\n",
       "    font-family: \"Menlo\", \"Monaco\", \"Consolas\", \"Ubuntu Mono\", \"Source Code Pro\", monospace;\n",
       "    font-size: 13px;\n",
       "    color: #555;\n",
       "    margin-left: 4px;\n",
       "    line-height: 19px;\n",
       "  }\n",
       "</style>\n",
       "<div class=\"ansiout\"></div>"
      ]
     },
     "metadata": {
      "application/vnd.databricks.v1+output": {
       "addedWidgets": {},
       "arguments": {},
       "data": "<div class=\"ansiout\"></div>",
       "datasetInfos": [],
       "metadata": {},
       "removedWidgets": [],
       "type": "html"
      }
     },
     "output_type": "display_data"
    }
   ],
   "source": [
    "pin_output = output_post_df.writeStream \\\n",
    "  .format(\"delta\") \\\n",
    "  .queryName(\"0affea73130b_post_query\") \\\n",
    "  .outputMode(\"append\") \\\n",
    "  .option(\"checkpointLocation\", \"/tmp/kinesis/_checkpoints/0affea73130b_post_query\") \\\n",
    "  .table(\"0affea73130b_pin_table\")"
   ]
  },
  {
   "cell_type": "code",
   "execution_count": 0,
   "metadata": {
    "application/vnd.databricks.v1+cell": {
     "cellMetadata": {
      "byteLimit": 2048000,
      "rowLimit": 10000
     },
     "inputWidgets": {},
     "nuid": "0bd3ffa9-d389-4282-9805-b0bb2eca6e25",
     "showTitle": false,
     "title": ""
    }
   },
   "outputs": [
    {
     "output_type": "display_data",
     "data": {
      "text/html": [
       "<style scoped>\n",
       "  .ansiout {\n",
       "    display: block;\n",
       "    unicode-bidi: embed;\n",
       "    white-space: pre-wrap;\n",
       "    word-wrap: break-word;\n",
       "    word-break: break-all;\n",
       "    font-family: \"Menlo\", \"Monaco\", \"Consolas\", \"Ubuntu Mono\", \"Source Code Pro\", monospace;\n",
       "    font-size: 13px;\n",
       "    color: #555;\n",
       "    margin-left: 4px;\n",
       "    line-height: 19px;\n",
       "  }\n",
       "</style>\n",
       "<div class=\"ansiout\"></div>"
      ]
     },
     "metadata": {
      "application/vnd.databricks.v1+output": {
       "addedWidgets": {},
       "arguments": {},
       "data": "<div class=\"ansiout\"></div>",
       "datasetInfos": [],
       "metadata": {},
       "removedWidgets": [],
       "type": "html"
      }
     },
     "output_type": "display_data"
    }
   ],
   "source": [
    "# dbutils.fs.rm(\"/tmp/kinesis/_checkpoints/0affea73130b_post_query\", True)"
   ]
  }
 ],
 "metadata": {
  "application/vnd.databricks.v1+notebook": {
   "dashboards": [],
   "environmentMetadata": null,
   "language": "python",
   "notebookMetadata": {
    "mostRecentlyExecutedCommandWithImplicitDF": {
     "commandId": 1445726648212114,
     "dataframes": [
      "_sqldf"
     ]
    },
    "pythonIndentUnit": 4
   },
   "notebookName": "Pinterest Post Stream Clean",
   "widgets": {}
  }
 },
 "nbformat": 4,
 "nbformat_minor": 0
}
