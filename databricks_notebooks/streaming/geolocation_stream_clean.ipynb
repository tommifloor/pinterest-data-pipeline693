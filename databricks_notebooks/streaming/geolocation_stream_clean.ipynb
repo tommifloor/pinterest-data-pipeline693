{
 "cells": [
  {
   "cell_type": "code",
   "execution_count": null,
   "metadata": {
    "application/vnd.databricks.v1+cell": {
     "cellMetadata": {
      "byteLimit": 2048000,
      "rowLimit": 10000
     },
     "inputWidgets": {},
     "nuid": "006e75d2-797b-4b3c-b3a0-1abf85c429a0",
     "showTitle": false,
     "title": ""
    }
   },
   "outputs": [
    {
     "data": {
      "text/html": [
       "<style scoped>\n",
       "  .ansiout {\n",
       "    display: block;\n",
       "    unicode-bidi: embed;\n",
       "    white-space: pre-wrap;\n",
       "    word-wrap: break-word;\n",
       "    word-break: break-all;\n",
       "    font-family: \"Menlo\", \"Monaco\", \"Consolas\", \"Ubuntu Mono\", \"Source Code Pro\", monospace;\n",
       "    font-size: 13px;\n",
       "    color: #555;\n",
       "    margin-left: 4px;\n",
       "    line-height: 19px;\n",
       "  }\n",
       "</style>\n",
       "<div class=\"ansiout\"></div>"
      ]
     },
     "metadata": {
      "application/vnd.databricks.v1+output": {
       "addedWidgets": {},
       "arguments": {},
       "data": "<div class=\"ansiout\"></div>",
       "datasetInfos": [],
       "metadata": {},
       "removedWidgets": [],
       "type": "html"
      }
     },
     "output_type": "display_data"
    }
   ],
   "source": [
    "from pyspark.sql.types import StructType, StructField, StringType, TimestampType"
   ]
  },
  {
   "cell_type": "code",
   "execution_count": null,
   "metadata": {
    "application/vnd.databricks.v1+cell": {
     "cellMetadata": {
      "byteLimit": 2048000,
      "implicitDf": true,
      "rowLimit": 10000
     },
     "inputWidgets": {},
     "nuid": "85d2da4f-f904-4d0b-9901-daaa8a131090",
     "showTitle": false,
     "title": ""
    }
   },
   "outputs": [
    {
     "data": {
      "text/html": [
       "<style scoped>\n",
       "  .ansiout {\n",
       "    display: block;\n",
       "    unicode-bidi: embed;\n",
       "    white-space: pre-wrap;\n",
       "    word-wrap: break-word;\n",
       "    word-break: break-all;\n",
       "    font-family: \"Menlo\", \"Monaco\", \"Consolas\", \"Ubuntu Mono\", \"Source Code Pro\", monospace;\n",
       "    font-size: 13px;\n",
       "    color: #555;\n",
       "    margin-left: 4px;\n",
       "    line-height: 19px;\n",
       "  }\n",
       "</style>\n",
       "<div class=\"ansiout\"></div>"
      ]
     },
     "metadata": {
      "application/vnd.databricks.v1+output": {
       "addedWidgets": {},
       "arguments": {},
       "data": "<div class=\"ansiout\"></div>",
       "datasetInfos": [],
       "metadata": {},
       "removedWidgets": [],
       "type": "html"
      }
     },
     "output_type": "display_data"
    },
    {
     "data": {
      "text/html": [
       "<style scoped>\n",
       "  .ansiout {\n",
       "    display: block;\n",
       "    unicode-bidi: embed;\n",
       "    white-space: pre-wrap;\n",
       "    word-wrap: break-word;\n",
       "    word-break: break-all;\n",
       "    font-family: \"Menlo\", \"Monaco\", \"Consolas\", \"Ubuntu Mono\", \"Source Code Pro\", monospace;\n",
       "    font-size: 13px;\n",
       "    color: #555;\n",
       "    margin-left: 4px;\n",
       "    line-height: 19px;\n",
       "  }\n",
       "</style>\n",
       "<div class=\"ansiout\"></div>"
      ]
     },
     "metadata": {
      "application/vnd.databricks.v1+output": {
       "addedWidgets": {},
       "arguments": {},
       "data": "<div class=\"ansiout\"></div>",
       "datasetInfos": [],
       "metadata": {},
       "removedWidgets": [],
       "type": "html"
      }
     },
     "output_type": "display_data"
    },
    {
     "data": {
      "text/html": [
       "<style scoped>\n",
       "  .table-result-container {\n",
       "    max-height: 300px;\n",
       "    overflow: auto;\n",
       "  }\n",
       "  table, th, td {\n",
       "    border: 1px solid black;\n",
       "    border-collapse: collapse;\n",
       "  }\n",
       "  th, td {\n",
       "    padding: 5px;\n",
       "  }\n",
       "  th {\n",
       "    text-align: left;\n",
       "  }\n",
       "</style><div class='table-result-container'><table class='table-result'><thead style='background-color: white'><tr><th>key</th><th>value</th></tr></thead><tbody><tr><td>spark.databricks.delta.formatCheck.enabled</td><td>false</td></tr></tbody></table></div>"
      ]
     },
     "metadata": {
      "application/vnd.databricks.v1+output": {
       "addedWidgets": {},
       "aggData": [],
       "aggError": "",
       "aggOverflow": false,
       "aggSchema": [],
       "aggSeriesLimitReached": false,
       "aggType": "",
       "arguments": {},
       "columnCustomDisplayInfos": {},
       "data": [
        [
         "spark.databricks.delta.formatCheck.enabled",
         "false"
        ]
       ],
       "datasetInfos": [],
       "dbfsResultPath": null,
       "isJsonSchema": true,
       "metadata": {},
       "overflow": false,
       "plotOptions": {
        "customPlotOptions": {},
        "displayType": "table",
        "pivotAggregation": null,
        "pivotColumns": null,
        "xColumns": null,
        "yColumns": null
       },
       "removedWidgets": [],
       "schema": [
        {
         "metadata": "{}",
         "name": "key",
         "type": "\"string\""
        },
        {
         "metadata": "{}",
         "name": "value",
         "type": "\"string\""
        }
       ],
       "type": "table"
      }
     },
     "output_type": "display_data"
    },
    {
     "data": {
      "text/html": [
       "<style scoped>\n",
       "  .ansiout {\n",
       "    display: block;\n",
       "    unicode-bidi: embed;\n",
       "    white-space: pre-wrap;\n",
       "    word-wrap: break-word;\n",
       "    word-break: break-all;\n",
       "    font-family: \"Menlo\", \"Monaco\", \"Consolas\", \"Ubuntu Mono\", \"Source Code Pro\", monospace;\n",
       "    font-size: 13px;\n",
       "    color: #555;\n",
       "    margin-left: 4px;\n",
       "    line-height: 19px;\n",
       "  }\n",
       "</style>\n",
       "<div class=\"ansiout\"></div>"
      ]
     },
     "metadata": {
      "application/vnd.databricks.v1+output": {
       "addedWidgets": {},
       "arguments": {},
       "data": "<div class=\"ansiout\"></div>",
       "datasetInfos": [],
       "metadata": {},
       "removedWidgets": [],
       "type": "html"
      }
     },
     "output_type": "display_data"
    },
    {
     "data": {
      "text/html": [
       "<style scoped>\n",
       "  .ansiout {\n",
       "    display: block;\n",
       "    unicode-bidi: embed;\n",
       "    white-space: pre-wrap;\n",
       "    word-wrap: break-word;\n",
       "    word-break: break-all;\n",
       "    font-family: \"Menlo\", \"Monaco\", \"Consolas\", \"Ubuntu Mono\", \"Source Code Pro\", monospace;\n",
       "    font-size: 13px;\n",
       "    color: #555;\n",
       "    margin-left: 4px;\n",
       "    line-height: 19px;\n",
       "  }\n",
       "</style>\n",
       "<div class=\"ansiout\"></div>"
      ]
     },
     "metadata": {
      "application/vnd.databricks.v1+output": {
       "addedWidgets": {},
       "arguments": {},
       "data": "<div class=\"ansiout\"></div>",
       "datasetInfos": [],
       "metadata": {},
       "removedWidgets": [],
       "type": "html"
      }
     },
     "output_type": "display_data"
    },
    {
     "data": {
      "text/html": [
       "<style scoped>\n",
       "  .ansiout {\n",
       "    display: block;\n",
       "    unicode-bidi: embed;\n",
       "    white-space: pre-wrap;\n",
       "    word-wrap: break-word;\n",
       "    word-break: break-all;\n",
       "    font-family: \"Menlo\", \"Monaco\", \"Consolas\", \"Ubuntu Mono\", \"Source Code Pro\", monospace;\n",
       "    font-size: 13px;\n",
       "    color: #555;\n",
       "    margin-left: 4px;\n",
       "    line-height: 19px;\n",
       "  }\n",
       "</style>\n",
       "<div class=\"ansiout\"></div>"
      ]
     },
     "metadata": {
      "application/vnd.databricks.v1+output": {
       "addedWidgets": {},
       "arguments": {},
       "data": "<div class=\"ansiout\"></div>",
       "datasetInfos": [],
       "metadata": {},
       "removedWidgets": [],
       "type": "html"
      }
     },
     "output_type": "display_data"
    }
   ],
   "source": [
    "%run \"/Workspace/Users/cronies-02gorilla@icloud.com/access\""
   ]
  },
  {
   "cell_type": "code",
   "execution_count": null,
   "metadata": {
    "application/vnd.databricks.v1+cell": {
     "cellMetadata": {
      "byteLimit": 2048000,
      "rowLimit": 10000
     },
     "inputWidgets": {},
     "nuid": "7bcb446a-4006-41ee-ad6c-53625a938d9c",
     "showTitle": false,
     "title": ""
    }
   },
   "outputs": [
    {
     "data": {
      "text/html": [
       "<style scoped>\n",
       "  .ansiout {\n",
       "    display: block;\n",
       "    unicode-bidi: embed;\n",
       "    white-space: pre-wrap;\n",
       "    word-wrap: break-word;\n",
       "    word-break: break-all;\n",
       "    font-family: \"Menlo\", \"Monaco\", \"Consolas\", \"Ubuntu Mono\", \"Source Code Pro\", monospace;\n",
       "    font-size: 13px;\n",
       "    color: #555;\n",
       "    margin-left: 4px;\n",
       "    line-height: 19px;\n",
       "  }\n",
       "</style>\n",
       "<div class=\"ansiout\"></div>"
      ]
     },
     "metadata": {
      "application/vnd.databricks.v1+output": {
       "addedWidgets": {},
       "arguments": {},
       "data": "<div class=\"ansiout\"></div>",
       "datasetInfos": [],
       "metadata": {},
       "removedWidgets": [],
       "type": "html"
      }
     },
     "output_type": "display_data"
    }
   ],
   "source": [
    "stream_df = spark \\\n",
    ".readStream \\\n",
    ".format('kinesis') \\\n",
    ".option('streamName','streaming-0affea73130b-geo') \\\n",
    ".option('initialPosition','latest') \\\n",
    ".option('region','us-east-1') \\\n",
    ".option('awsAccessKey', ACCESS_KEY) \\\n",
    ".option('awsSecretKey', SECRET_KEY) \\\n",
    ".load()"
   ]
  },
  {
   "cell_type": "code",
   "execution_count": null,
   "metadata": {
    "application/vnd.databricks.v1+cell": {
     "cellMetadata": {
      "byteLimit": 2048000,
      "rowLimit": 10000
     },
     "inputWidgets": {},
     "nuid": "7e29d644-7fa9-4212-a243-ef5dd25d7121",
     "showTitle": false,
     "title": ""
    }
   },
   "outputs": [
    {
     "data": {
      "text/html": [
       "<style scoped>\n",
       "  .ansiout {\n",
       "    display: block;\n",
       "    unicode-bidi: embed;\n",
       "    white-space: pre-wrap;\n",
       "    word-wrap: break-word;\n",
       "    word-break: break-all;\n",
       "    font-family: \"Menlo\", \"Monaco\", \"Consolas\", \"Ubuntu Mono\", \"Source Code Pro\", monospace;\n",
       "    font-size: 13px;\n",
       "    color: #555;\n",
       "    margin-left: 4px;\n",
       "    line-height: 19px;\n",
       "  }\n",
       "</style>\n",
       "<div class=\"ansiout\"></div>"
      ]
     },
     "metadata": {
      "application/vnd.databricks.v1+output": {
       "addedWidgets": {},
       "arguments": {},
       "data": "<div class=\"ansiout\"></div>",
       "datasetInfos": [],
       "metadata": {},
       "removedWidgets": [],
       "type": "html"
      }
     },
     "output_type": "display_data"
    }
   ],
   "source": [
    "# Define the schema to speed up processing\n",
    "jsonSchema = StructType([ \n",
    "                         StructField(\"ind\", StringType(), True), \n",
    "                         StructField(\"country\", StringType(), True), \n",
    "                         StructField(\"latitude\", StringType(), True), \n",
    "                         StructField(\"longitude\", StringType(), True), \n",
    "                         StructField(\"timestamp\", StringType(), True), \n",
    "                         ])"
   ]
  },
  {
   "cell_type": "code",
   "execution_count": null,
   "metadata": {
    "application/vnd.databricks.v1+cell": {
     "cellMetadata": {
      "byteLimit": 2048000,
      "rowLimit": 10000
     },
     "inputWidgets": {},
     "nuid": "9527233c-4d2d-490d-a31f-b3a44de86a30",
     "showTitle": false,
     "title": ""
    }
   },
   "outputs": [
    {
     "data": {
      "text/html": [
       "<style scoped>\n",
       "  .ansiout {\n",
       "    display: block;\n",
       "    unicode-bidi: embed;\n",
       "    white-space: pre-wrap;\n",
       "    word-wrap: break-word;\n",
       "    word-break: break-all;\n",
       "    font-family: \"Menlo\", \"Monaco\", \"Consolas\", \"Ubuntu Mono\", \"Source Code Pro\", monospace;\n",
       "    font-size: 13px;\n",
       "    color: #555;\n",
       "    margin-left: 4px;\n",
       "    line-height: 19px;\n",
       "  }\n",
       "</style>\n",
       "<div class=\"ansiout\"></div>"
      ]
     },
     "metadata": {
      "application/vnd.databricks.v1+output": {
       "addedWidgets": {},
       "arguments": {},
       "data": "<div class=\"ansiout\"></div>",
       "datasetInfos": [],
       "metadata": {},
       "removedWidgets": [],
       "type": "html"
      }
     },
     "output_type": "display_data"
    }
   ],
   "source": [
    "string_df = stream_df.selectExpr(\"CAST(data as STRING)\")"
   ]
  },
  {
   "cell_type": "code",
   "execution_count": null,
   "metadata": {
    "application/vnd.databricks.v1+cell": {
     "cellMetadata": {
      "byteLimit": 2048000,
      "rowLimit": 10000
     },
     "inputWidgets": {},
     "nuid": "f2eb11d3-f5f5-4848-ba2f-982b07258f15",
     "showTitle": false,
     "title": ""
    }
   },
   "outputs": [
    {
     "data": {
      "text/html": [
       "<style scoped>\n",
       "  .ansiout {\n",
       "    display: block;\n",
       "    unicode-bidi: embed;\n",
       "    white-space: pre-wrap;\n",
       "    word-wrap: break-word;\n",
       "    word-break: break-all;\n",
       "    font-family: \"Menlo\", \"Monaco\", \"Consolas\", \"Ubuntu Mono\", \"Source Code Pro\", monospace;\n",
       "    font-size: 13px;\n",
       "    color: #555;\n",
       "    margin-left: 4px;\n",
       "    line-height: 19px;\n",
       "  }\n",
       "</style>\n",
       "<div class=\"ansiout\"></div>"
      ]
     },
     "metadata": {
      "application/vnd.databricks.v1+output": {
       "addedWidgets": {},
       "arguments": {},
       "data": "<div class=\"ansiout\"></div>",
       "datasetInfos": [],
       "metadata": {},
       "removedWidgets": [],
       "type": "html"
      }
     },
     "output_type": "display_data"
    }
   ],
   "source": [
    "json_df = string_df.select(from_json(col(\"data\"), jsonSchema))"
   ]
  },
  {
   "cell_type": "code",
   "execution_count": null,
   "metadata": {
    "application/vnd.databricks.v1+cell": {
     "cellMetadata": {
      "byteLimit": 2048000,
      "rowLimit": 10000
     },
     "inputWidgets": {},
     "nuid": "08a1b82d-5bbe-4ee5-95bf-744b69def69b",
     "showTitle": false,
     "title": ""
    }
   },
   "outputs": [
    {
     "data": {
      "text/html": [
       "<style scoped>\n",
       "  .ansiout {\n",
       "    display: block;\n",
       "    unicode-bidi: embed;\n",
       "    white-space: pre-wrap;\n",
       "    word-wrap: break-word;\n",
       "    word-break: break-all;\n",
       "    font-family: \"Menlo\", \"Monaco\", \"Consolas\", \"Ubuntu Mono\", \"Source Code Pro\", monospace;\n",
       "    font-size: 13px;\n",
       "    color: #555;\n",
       "    margin-left: 4px;\n",
       "    line-height: 19px;\n",
       "  }\n",
       "</style>\n",
       "<div class=\"ansiout\"></div>"
      ]
     },
     "metadata": {
      "application/vnd.databricks.v1+output": {
       "addedWidgets": {},
       "arguments": {},
       "data": "<div class=\"ansiout\"></div>",
       "datasetInfos": [],
       "metadata": {},
       "removedWidgets": [],
       "type": "html"
      }
     },
     "output_type": "display_data"
    }
   ],
   "source": [
    "geo_stream_df = json_df.withColumn(\"ind\", col(\"from_json(data)\")[\"ind\"])\\\n",
    ".withColumn(\"country\", col(\"from_json(data)\")[\"country\"])\\\n",
    ".withColumn(\"latitude\", col(\"from_json(data)\")[\"latitude\"])\\\n",
    ".withColumn(\"longitude\", col(\"from_json(data)\")[\"longitude\"])\\\n",
    ".withColumn(\"timestamp\", col(\"from_json(data)\")[\"timestamp\"])\n"
   ]
  },
  {
   "cell_type": "code",
   "execution_count": null,
   "metadata": {
    "application/vnd.databricks.v1+cell": {
     "cellMetadata": {
      "byteLimit": 2048000,
      "rowLimit": 10000
     },
     "inputWidgets": {},
     "nuid": "c7802838-09db-4abf-aa8d-bd278a178495",
     "showTitle": false,
     "title": ""
    }
   },
   "outputs": [
    {
     "data": {
      "text/html": [
       "<style scoped>\n",
       "  .ansiout {\n",
       "    display: block;\n",
       "    unicode-bidi: embed;\n",
       "    white-space: pre-wrap;\n",
       "    word-wrap: break-word;\n",
       "    word-break: break-all;\n",
       "    font-family: \"Menlo\", \"Monaco\", \"Consolas\", \"Ubuntu Mono\", \"Source Code Pro\", monospace;\n",
       "    font-size: 13px;\n",
       "    color: #555;\n",
       "    margin-left: 4px;\n",
       "    line-height: 19px;\n",
       "  }\n",
       "</style>\n",
       "<div class=\"ansiout\"></div>"
      ]
     },
     "metadata": {
      "application/vnd.databricks.v1+output": {
       "addedWidgets": {},
       "arguments": {},
       "data": "<div class=\"ansiout\"></div>",
       "datasetInfos": [],
       "metadata": {},
       "removedWidgets": [],
       "type": "html"
      }
     },
     "output_type": "display_data"
    }
   ],
   "source": [
    "# drop from_json(data) column\n",
    "cleaned_df = geo_stream_df.drop(\"from_json(data)\")\n",
    "\n",
    "# drop duplicates\n",
    "cleaned_df = cleaned_df.dropDuplicates()\n",
    "\n",
    "# Create a new column coordinates that contains an array based on the latitude and longitude columns\n",
    "cleaned_df = cleaned_df.withColumn(\"coordinates\", array(\"latitude\", \"longitude\"))\n",
    "\n",
    "# Drop the latitude and longitude columns from the DataFrame\n",
    "cleaned_df = cleaned_df.drop(\"latitude\", \"longitude\")\n",
    "\n",
    "# cast int datatype to ind\n",
    "cleaned_df = cleaned_df.withColumn(\"ind\", cleaned_df[\"ind\"].cast(\"int\"))\n",
    "\n",
    "# Convert the timestamp column from a string to a timestamp data type\n",
    "cleaned_df = cleaned_df.withColumn(\"timestamp\", to_timestamp(\"timestamp\"))\n",
    "\n",
    "# drop duplicates\n",
    "cleaned_df = cleaned_df.dropDuplicates()\n",
    "\n",
    "# reorder the DataFrame columns\n",
    "cleaned_df = cleaned_df.select(\"ind\", \"country\", \"coordinates\", \"timestamp\")"
   ]
  },
  {
   "cell_type": "code",
   "execution_count": null,
   "metadata": {
    "application/vnd.databricks.v1+cell": {
     "cellMetadata": {
      "byteLimit": 2048000,
      "rowLimit": 10000
     },
     "inputWidgets": {},
     "nuid": "9ffdff0f-3c7b-4366-8690-f7ed5e5d802f",
     "showTitle": false,
     "title": ""
    }
   },
   "outputs": [
    {
     "data": {
      "text/html": [
       "<style scoped>\n",
       "  .ansiout {\n",
       "    display: block;\n",
       "    unicode-bidi: embed;\n",
       "    white-space: pre-wrap;\n",
       "    word-wrap: break-word;\n",
       "    word-break: break-all;\n",
       "    font-family: \"Menlo\", \"Monaco\", \"Consolas\", \"Ubuntu Mono\", \"Source Code Pro\", monospace;\n",
       "    font-size: 13px;\n",
       "    color: #555;\n",
       "    margin-left: 4px;\n",
       "    line-height: 19px;\n",
       "  }\n",
       "</style>\n",
       "<div class=\"ansiout\"></div>"
      ]
     },
     "metadata": {
      "application/vnd.databricks.v1+output": {
       "addedWidgets": {},
       "arguments": {},
       "data": "<div class=\"ansiout\"></div>",
       "datasetInfos": [],
       "metadata": {},
       "removedWidgets": [],
       "type": "html"
      }
     },
     "output_type": "display_data"
    }
   ],
   "source": [
    "output_geo_df = cleaned_df"
   ]
  },
  {
   "cell_type": "code",
   "execution_count": null,
   "metadata": {
    "application/vnd.databricks.v1+cell": {
     "cellMetadata": {
      "byteLimit": 2048000,
      "rowLimit": 10000
     },
     "inputWidgets": {},
     "nuid": "0d5a305e-87a0-409f-8d5d-ad27b517198c",
     "showTitle": false,
     "title": ""
    }
   },
   "outputs": [
    {
     "data": {
      "text/html": [
       "<style scoped>\n",
       "  .table-result-container {\n",
       "    max-height: 300px;\n",
       "    overflow: auto;\n",
       "  }\n",
       "  table, th, td {\n",
       "    border: 1px solid black;\n",
       "    border-collapse: collapse;\n",
       "  }\n",
       "  th, td {\n",
       "    padding: 5px;\n",
       "  }\n",
       "  th {\n",
       "    text-align: left;\n",
       "  }\n",
       "</style><div class='table-result-container'><table class='table-result'><thead style='background-color: white'><tr><th>ind</th><th>country</th><th>coordinates</th><th>timestamp</th></tr></thead><tbody><tr><td>709</td><td>Albania</td><td>List(-88.8298, -170.188)</td><td>2020-12-03T15:25:22.000+0000</td></tr><tr><td>7078</td><td>Fiji</td><td>List(1.43641, 135.772)</td><td>2019-08-25T06:50:19.000+0000</td></tr><tr><td>8083</td><td>Saint Martin</td><td>List(68.4336, -67.038)</td><td>2018-07-03T01:16:02.000+0000</td></tr><tr><td>10868</td><td>Panama</td><td>List(-42.1051, 153.465)</td><td>2019-06-15T06:59:12.000+0000</td></tr><tr><td>7596</td><td>Albania</td><td>List(-87.2, -177.109)</td><td>2022-09-03T15:27:36.000+0000</td></tr><tr><td>9402</td><td>Argentina</td><td>List(-89.4739, -176.154)</td><td>2022-06-15T08:25:16.000+0000</td></tr><tr><td>462</td><td>Argentina</td><td>List(-89.63, -179.022)</td><td>2022-08-19T23:59:15.000+0000</td></tr><tr><td>3647</td><td>American Samoa</td><td>List(-89.3099, -166.033)</td><td>2018-11-27T04:18:51.000+0000</td></tr><tr><td>3480</td><td>American Samoa</td><td>List(-89.3099, -166.033)</td><td>2018-04-10T08:49:49.000+0000</td></tr><tr><td>10920</td><td>Egypt</td><td>List(-58.5064, -149.458)</td><td>2021-05-05T08:08:57.000+0000</td></tr><tr><td>10179</td><td>Algeria</td><td>List(-74.7055, -177.87)</td><td>2019-11-06T05:51:25.000+0000</td></tr><tr><td>2216</td><td>Kiribati</td><td>List(21.423, 14.4097)</td><td>2018-08-21T03:47:41.000+0000</td></tr><tr><td>3556</td><td>Andorra</td><td>List(-88.0812, -166.603)</td><td>2022-02-05T02:03:08.000+0000</td></tr><tr><td>5360</td><td>Argentina</td><td>List(-87.2245, -100.213)</td><td>2017-11-04T17:03:23.000+0000</td></tr><tr><td>8159</td><td>Belgium</td><td>List(-62.2853, -176.497)</td><td>2021-01-02T09:48:03.000+0000</td></tr><tr><td>10119</td><td>Christmas Island</td><td>List(-74.5431, -162.795)</td><td>2020-10-22T01:59:58.000+0000</td></tr><tr><td>7958</td><td>Saint Vincent and the Grenadines</td><td>List(-72.3686, 174.831)</td><td>2021-02-26T21:03:00.000+0000</td></tr><tr><td>8732</td><td>United States of America</td><td>List(85.718, -25.2438)</td><td>2022-03-06T12:41:07.000+0000</td></tr><tr><td>3177</td><td>Belize</td><td>List(-89.6778, -169.798)</td><td>2022-04-30T12:13:28.000+0000</td></tr><tr><td>3485</td><td>Bahamas</td><td>List(-87.0574, -164.826)</td><td>2020-05-07T16:28:18.000+0000</td></tr><tr><td>856</td><td>Albania</td><td>List(-71.6856, -179.126)</td><td>2020-07-22T04:49:08.000+0000</td></tr><tr><td>8361</td><td>Algeria</td><td>List(-88.355, -96.0131)</td><td>2019-01-14T02:17:34.000+0000</td></tr><tr><td>2858</td><td>Argentina</td><td>List(-65.1565, -166.807)</td><td>2018-05-03T13:27:09.000+0000</td></tr><tr><td>4757</td><td>Christmas Island</td><td>List(-79.9806, -112.824)</td><td>2019-12-13T12:56:24.000+0000</td></tr><tr><td>10936</td><td>Andorra</td><td>List(52.2422, 38.9553)</td><td>2020-02-12T06:23:29.000+0000</td></tr><tr><td>8941</td><td>Argentina</td><td>List(-89.4739, -176.154)</td><td>2019-01-11T22:37:24.000+0000</td></tr><tr><td>228</td><td>Bosnia and Herzegovina</td><td>List(-32.3508, -114.656)</td><td>2021-01-15T17:47:34.000+0000</td></tr><tr><td>4271</td><td>Armenia</td><td>List(-44.7118, -74.3034)</td><td>2021-01-02T01:56:52.000+0000</td></tr><tr><td>7529</td><td>Bangladesh</td><td>List(-29.9924, 90.2718)</td><td>2017-12-12T08:44:52.000+0000</td></tr><tr><td>1567</td><td>Angola</td><td>List(-68.0095, -157.227)</td><td>2020-01-03T01:48:25.000+0000</td></tr><tr><td>6018</td><td>Anguilla</td><td>List(-28.9498, -165.807)</td><td>2020-04-07T22:08:44.000+0000</td></tr><tr><td>4889</td><td>Comoros</td><td>List(23.2845, -156.467)</td><td>2020-12-20T07:09:08.000+0000</td></tr><tr><td>2337</td><td>British Virgin Islands</td><td>List(-87.7946, -159.647)</td><td>2019-08-22T16:11:41.000+0000</td></tr><tr><td>9665</td><td>Antigua and Barbuda</td><td>List(-54.2967, -115.789)</td><td>2019-07-02T12:20:26.000+0000</td></tr><tr><td>6498</td><td>Argentina</td><td>List(-65.3952, -175.249)</td><td>2020-04-04T16:25:16.000+0000</td></tr><tr><td>5463</td><td>Chad</td><td>List(-62.3082, 164.589)</td><td>2021-11-05T17:50:36.000+0000</td></tr><tr><td>926</td><td>Anguilla</td><td>List(-84.9417, 156.846)</td><td>2021-01-26T10:36:38.000+0000</td></tr><tr><td>8977</td><td>Bosnia and Herzegovina</td><td>List(-80.2967, -166.23)</td><td>2021-07-05T00:38:13.000+0000</td></tr><tr><td>5106</td><td>Antigua and Barbuda</td><td>List(-41.6096, -17.9408)</td><td>2019-11-05T04:24:06.000+0000</td></tr><tr><td>5561</td><td>Bangladesh</td><td>List(-80.6398, -57.7465)</td><td>2022-06-21T20:46:51.000+0000</td></tr><tr><td>7500</td><td>Albania</td><td>List(56.5828, -165.941)</td><td>2021-08-08T15:30:48.000+0000</td></tr><tr><td>7512</td><td>Japan</td><td>List(-69.4772, 14.3683)</td><td>2020-01-05T02:10:42.000+0000</td></tr><tr><td>8385</td><td>Grenada</td><td>List(-13.7262, -178.706)</td><td>2018-01-08T06:01:02.000+0000</td></tr><tr><td>7642</td><td>Algeria</td><td>List(-89.5173, -179.689)</td><td>2021-08-02T04:15:24.000+0000</td></tr><tr><td>6781</td><td>Norfolk Island</td><td>List(63.0387, -69.2727)</td><td>2021-02-02T21:27:49.000+0000</td></tr><tr><td>5365</td><td>Botswana</td><td>List(-87.476, -163.419)</td><td>2020-10-07T01:28:01.000+0000</td></tr><tr><td>2206</td><td>British Virgin Islands</td><td>List(-72.8879, -131.966)</td><td>2022-08-15T23:33:00.000+0000</td></tr><tr><td>8007</td><td>Austria</td><td>List(-65.3158, -179.734)</td><td>2022-08-15T09:19:01.000+0000</td></tr><tr><td>9896</td><td>Ecuador</td><td>List(-82.0334, -110.476)</td><td>2018-01-12T05:40:05.000+0000</td></tr><tr><td>4361</td><td>Antarctica (the territory South of 60 deg S)</td><td>List(-24.8372, -163.337)</td><td>2022-07-17T10:48:12.000+0000</td></tr><tr><td>8509</td><td>Afghanistan</td><td>List(-12.1295, -29.9199)</td><td>2019-01-16T20:04:11.000+0000</td></tr><tr><td>8204</td><td>Maldives</td><td>List(-18.1973, -126.543)</td><td>2019-05-28T05:38:33.000+0000</td></tr><tr><td>1811</td><td>Burundi</td><td>List(5.98843, -127.249)</td><td>2020-03-01T19:51:40.000+0000</td></tr><tr><td>7031</td><td>Liechtenstein</td><td>List(62.7213, -111.563)</td><td>2018-03-25T09:15:16.000+0000</td></tr><tr><td>7283</td><td>Albania</td><td>List(-89.9787, -173.293)</td><td>2022-08-23T00:58:33.000+0000</td></tr><tr><td>310</td><td>Antigua and Barbuda</td><td>List(-81.0108, -165.206)</td><td>2021-01-25T22:22:37.000+0000</td></tr><tr><td>9700</td><td>Cyprus</td><td>List(25.3879, -177.604)</td><td>2021-02-05T05:06:15.000+0000</td></tr><tr><td>3630</td><td>Australia</td><td>List(34.7482, -114.021)</td><td>2021-06-15T15:10:50.000+0000</td></tr><tr><td>3803</td><td>Angola</td><td>List(-87.3742, -177.647)</td><td>2021-06-19T02:26:08.000+0000</td></tr><tr><td>1205</td><td>Bhutan</td><td>List(-89.4241, -133.328)</td><td>2022-05-18T07:01:16.000+0000</td></tr><tr><td>283</td><td>Aruba</td><td>List(-84.8378, -167.14)</td><td>2021-01-04T02:59:01.000+0000</td></tr><tr><td>10319</td><td>Palestinian Territory</td><td>List(45.3368, -145.879)</td><td>2021-01-04T02:21:08.000+0000</td></tr><tr><td>10932</td><td>Cuba</td><td>List(87.9514, 113.689)</td><td>2022-08-22T08:46:17.000+0000</td></tr><tr><td>8944</td><td>Ireland</td><td>List(54.4385, -0.300596)</td><td>2020-02-29T04:51:18.000+0000</td></tr><tr><td>2430</td><td>Aruba</td><td>List(-71.5025, -179.257)</td><td>2019-06-23T04:33:25.000+0000</td></tr><tr><td>1473</td><td>Cote d'Ivoire</td><td>List(1.54969, 92.6435)</td><td>2021-08-11T20:54:01.000+0000</td></tr><tr><td>9941</td><td>Aruba</td><td>List(-53.7253, -130.413)</td><td>2021-09-22T02:20:21.000+0000</td></tr><tr><td>6636</td><td>Bahamas</td><td>List(-28.1579, 73.2111)</td><td>2018-04-13T08:18:23.000+0000</td></tr><tr><td>8323</td><td>Albania</td><td>List(-89.9787, -173.293)</td><td>2017-11-07T21:37:37.000+0000</td></tr><tr><td>4050</td><td>Aruba</td><td>List(-61.471, -154.912)</td><td>2021-05-06T22:25:37.000+0000</td></tr><tr><td>5692</td><td>Belize</td><td>List(-71.3226, -2.65747)</td><td>2021-12-27T06:24:04.000+0000</td></tr><tr><td>6806</td><td>Fiji</td><td>List(51.4822, -20.238)</td><td>2020-10-11T11:07:40.000+0000</td></tr><tr><td>7487</td><td>Djibouti</td><td>List(-88.9574, 55.5995)</td><td>2019-08-20T08:34:24.000+0000</td></tr><tr><td>3239</td><td>Afghanistan</td><td>List(-78.0893, -57.1052)</td><td>2019-10-22T00:54:29.000+0000</td></tr><tr><td>867</td><td>Lesotho</td><td>List(43.8747, -54.895)</td><td>2020-10-06T15:34:55.000+0000</td></tr><tr><td>4348</td><td>Bouvet Island (Bouvetoya)</td><td>List(-81.2924, -145.407)</td><td>2019-04-06T17:59:09.000+0000</td></tr><tr><td>2267</td><td>Bolivia</td><td>List(-77.4732, -161.087)</td><td>2019-07-15T08:01:36.000+0000</td></tr><tr><td>9173</td><td>Guernsey</td><td>List(-70.6233, -69.455)</td><td>2019-08-22T13:23:51.000+0000</td></tr><tr><td>5297</td><td>Croatia</td><td>List(0.944996, -72.3861)</td><td>2018-04-20T23:50:13.000+0000</td></tr><tr><td>2304</td><td>Bermuda</td><td>List(-85.2344, -94.599)</td><td>2019-03-29T02:30:06.000+0000</td></tr><tr><td>4381</td><td>Papua New Guinea</td><td>List(-73.112, 166.935)</td><td>2018-10-24T00:08:30.000+0000</td></tr><tr><td>4353</td><td>Congo</td><td>List(15.5553, -55.4806)</td><td>2018-02-03T23:18:03.000+0000</td></tr><tr><td>5911</td><td>Dominican Republic</td><td>List(-63.6774, -118.407)</td><td>2020-11-04T03:19:21.000+0000</td></tr><tr><td>3774</td><td>Sudan</td><td>List(-49.1799, 97.2511)</td><td>2019-03-16T04:49:06.000+0000</td></tr><tr><td>2140</td><td>Belgium</td><td>List(-83.4755, -140.735)</td><td>2022-10-05T22:53:51.000+0000</td></tr><tr><td>2639</td><td>Andorra</td><td>List(-87.1113, -159.587)</td><td>2020-01-28T21:57:17.000+0000</td></tr><tr><td>1967</td><td>Australia</td><td>List(32.74, -179.581)</td><td>2021-02-05T10:37:28.000+0000</td></tr><tr><td>9995</td><td>Micronesia</td><td>List(-9.48888, -144.585)</td><td>2020-02-28T13:18:04.000+0000</td></tr><tr><td>6359</td><td>Nicaragua</td><td>List(87.0392, -82.493)</td><td>2022-08-04T08:12:16.000+0000</td></tr><tr><td>3175</td><td>French Polynesia</td><td>List(-84.8365, -122.171)</td><td>2021-12-08T02:58:18.000+0000</td></tr><tr><td>10570</td><td>Bulgaria</td><td>List(-87.6895, -176.801)</td><td>2021-12-29T05:55:33.000+0000</td></tr><tr><td>8212</td><td>Algeria</td><td>List(-74.408, -178.774)</td><td>2022-07-04T03:16:28.000+0000</td></tr><tr><td>791</td><td>Palestinian Territory</td><td>List(-52.9336, -85.6876)</td><td>2018-09-09T22:08:16.000+0000</td></tr><tr><td>2532</td><td>Bahamas</td><td>List(-2.82669, 165.932)</td><td>2022-06-16T07:54:10.000+0000</td></tr><tr><td>6937</td><td>Central African Republic</td><td>List(-56.979, -117.695)</td><td>2018-02-19T01:15:16.000+0000</td></tr><tr><td>4574</td><td>Bouvet Island (Bouvetoya)</td><td>List(-81.2924, -145.407)</td><td>2019-02-22T15:04:43.000+0000</td></tr><tr><td>8452</td><td>Albania</td><td>List(-87.2, -177.109)</td><td>2020-07-13T13:22:54.000+0000</td></tr><tr><td>6797</td><td>Greece</td><td>List(-3.94057, 150.733)</td><td>2022-02-28T10:25:08.000+0000</td></tr><tr><td>3911</td><td>Burundi</td><td>List(-88.6619, -117.835)</td><td>2019-05-17T10:19:20.000+0000</td></tr><tr><td>3428</td><td>Albania</td><td>List(-89.9787, -173.293)</td><td>2022-01-01T23:37:41.000+0000</td></tr><tr><td>8946</td><td>Turks and Caicos Islands</td><td>List(-46.8006, 89.0235)</td><td>2021-04-23T02:37:41.000+0000</td></tr><tr><td>9433</td><td>Cambodia</td><td>List(-39.7916, -157.635)</td><td>2020-08-15T02:44:48.000+0000</td></tr><tr><td>7258</td><td>Saint Pierre and Miquelon</td><td>List(-39.2432, -46.5562)</td><td>2022-08-06T15:17:24.000+0000</td></tr><tr><td>4220</td><td>Gabon</td><td>List(15.3315, -62.6734)</td><td>2020-02-09T13:02:02.000+0000</td></tr><tr><td>9539</td><td>Cameroon</td><td>List(-60.4206, -116.385)</td><td>2018-10-30T04:22:48.000+0000</td></tr><tr><td>4497</td><td>Bulgaria</td><td>List(-22.2878, -125.947)</td><td>2021-06-09T00:26:04.000+0000</td></tr><tr><td>9766</td><td>Austria</td><td>List(-70.0295, -155.428)</td><td>2018-05-10T05:11:03.000+0000</td></tr><tr><td>9496</td><td>Tajikistan</td><td>List(-52.2729, 66.094)</td><td>2022-03-16T10:41:03.000+0000</td></tr><tr><td>63</td><td>Albania</td><td>List(-88.8298, -170.188)</td><td>2021-10-27T10:14:52.000+0000</td></tr><tr><td>4420</td><td>Aruba</td><td>List(-82.0592, -92.7514)</td><td>2017-12-07T13:45:54.000+0000</td></tr><tr><td>3977</td><td>Albania</td><td>List(-89.8908, -179.887)</td><td>2020-09-16T11:54:15.000+0000</td></tr><tr><td>4634</td><td>French Polynesia</td><td>List(-50.8134, -160.465)</td><td>2018-02-21T20:46:48.000+0000</td></tr><tr><td>5526</td><td>Azerbaijan</td><td>List(-78.0948, 136.476)</td><td>2020-10-15T18:40:44.000+0000</td></tr><tr><td>8146</td><td>Bosnia and Herzegovina</td><td>List(43.735, 6.26956)</td><td>2022-08-17T20:56:45.000+0000</td></tr><tr><td>5322</td><td>Central African Republic</td><td>List(79.7391, -99.0832)</td><td>2018-10-04T09:40:58.000+0000</td></tr><tr><td>4157</td><td>Bangladesh</td><td>List(-27.9758, -133.082)</td><td>2019-03-17T07:31:52.000+0000</td></tr><tr><td>372</td><td>Armenia</td><td>List(-38.4062, -154.323)</td><td>2019-01-29T20:46:52.000+0000</td></tr><tr><td>3475</td><td>Afghanistan</td><td>List(-88.5478, -174.971)</td><td>2018-01-20T01:58:54.000+0000</td></tr><tr><td>1550</td><td>Honduras</td><td>List(-77.9348, -85.145)</td><td>2022-09-23T11:22:04.000+0000</td></tr><tr><td>9072</td><td>Belgium</td><td>List(-49.6438, -64.7355)</td><td>2019-07-12T04:37:14.000+0000</td></tr><tr><td>2908</td><td>Azerbaijan</td><td>List(-71.2179, -152.808)</td><td>2018-05-05T02:37:55.000+0000</td></tr><tr><td>8164</td><td>Macao</td><td>List(46.1297, 152.314)</td><td>2019-04-09T15:18:49.000+0000</td></tr><tr><td>497</td><td>Albania</td><td>List(-88.8298, -170.188)</td><td>2021-10-22T12:59:06.000+0000</td></tr><tr><td>3320</td><td>Djibouti</td><td>List(-70.1494, -146.93)</td><td>2020-03-12T10:26:49.000+0000</td></tr><tr><td>2928</td><td>Guatemala</td><td>List(5.83178, 85.7978)</td><td>2018-11-26T23:08:14.000+0000</td></tr><tr><td>6936</td><td>Korea</td><td>List(-73.6628, -67.9815)</td><td>2020-07-01T18:58:26.000+0000</td></tr><tr><td>7790</td><td>Papua New Guinea</td><td>List(-43.692, 64.9839)</td><td>2018-07-31T08:19:15.000+0000</td></tr><tr><td>6521</td><td>Australia</td><td>List(-82.0198, -155.211)</td><td>2020-05-27T11:27:08.000+0000</td></tr><tr><td>3747</td><td>Cape Verde</td><td>List(46.7845, -63.5658)</td><td>2020-07-06T06:40:16.000+0000</td></tr><tr><td>10078</td><td>Korea</td><td>List(-56.8367, -89.6948)</td><td>2018-09-11T16:48:17.000+0000</td></tr><tr><td>10329</td><td>Belgium</td><td>List(63.1332, -101.653)</td><td>2017-12-14T22:54:49.000+0000</td></tr><tr><td>7645</td><td>Algeria</td><td>List(-74.408, -178.774)</td><td>2020-06-19T05:35:30.000+0000</td></tr><tr><td>7914</td><td>Burkina Faso</td><td>List(-45.8257, -8.67928)</td><td>2022-04-07T23:58:08.000+0000</td></tr><tr><td>8887</td><td>Botswana</td><td>List(-28.0137, -160.708)</td><td>2021-09-19T05:27:43.000+0000</td></tr><tr><td>3992</td><td>Turkey</td><td>List(-55.8423, -47.7024)</td><td>2018-04-07T12:40:04.000+0000</td></tr><tr><td>6188</td><td>Bangladesh</td><td>List(82.8384, -54.601)</td><td>2017-12-16T03:31:14.000+0000</td></tr><tr><td>3281</td><td>Georgia</td><td>List(16.8902, -123.373)</td><td>2020-12-06T17:01:25.000+0000</td></tr><tr><td>5457</td><td>Argentina</td><td>List(-80.3487, -178.419)</td><td>2022-06-25T10:29:40.000+0000</td></tr><tr><td>9117</td><td>Antarctica (the territory South of 60 deg S)</td><td>List(-88.4642, -171.061)</td><td>2018-08-02T03:26:24.000+0000</td></tr><tr><td>3287</td><td>Bahamas</td><td>List(-87.0574, -164.826)</td><td>2018-09-21T07:53:56.000+0000</td></tr><tr><td>7182</td><td>Ireland</td><td>List(70.6273, -36.4574)</td><td>2022-09-19T12:22:51.000+0000</td></tr><tr><td>8477</td><td>China</td><td>List(-75.3641, 164.006)</td><td>2018-02-18T08:41:43.000+0000</td></tr><tr><td>2732</td><td>Belize</td><td>List(-89.6778, -169.798)</td><td>2021-11-12T06:01:41.000+0000</td></tr><tr><td>4724</td><td>Martinique</td><td>List(25.6497, -79.8812)</td><td>2021-08-20T10:21:07.000+0000</td></tr><tr><td>117</td><td>Eritrea</td><td>List(-56.3611, -1.11339)</td><td>2022-01-19T02:37:42.000+0000</td></tr><tr><td>2529</td><td>Bangladesh</td><td>List(1.84103, -139.031)</td><td>2020-08-31T08:01:19.000+0000</td></tr><tr><td>1735</td><td>Cameroon</td><td>List(-84.7767, -155.835)</td><td>2018-02-17T03:28:14.000+0000</td></tr><tr><td>809</td><td>Indonesia</td><td>List(35.2848, -157.542)</td><td>2022-03-31T14:09:15.000+0000</td></tr><tr><td>7683</td><td>Algeria</td><td>List(-74.408, -178.774)</td><td>2021-05-21T04:11:31.000+0000</td></tr><tr><td>8552</td><td>Algeria</td><td>List(-89.5173, -179.689)</td><td>2021-09-19T06:48:03.000+0000</td></tr><tr><td>2633</td><td>Bermuda</td><td>List(-85.2344, -94.599)</td><td>2020-10-13T14:49:37.000+0000</td></tr><tr><td>1919</td><td>Qatar</td><td>List(-19.5096, -89.8726)</td><td>2022-10-18T15:43:00.000+0000</td></tr><tr><td>9333</td><td>Argentina</td><td>List(-89.4739, -176.154)</td><td>2017-10-23T19:50:20.000+0000</td></tr><tr><td>4224</td><td>Angola</td><td>List(-87.3742, -177.647)</td><td>2019-06-26T17:37:51.000+0000</td></tr><tr><td>3683</td><td>Afghanistan</td><td>List(-26.686, -174.249)</td><td>2019-04-01T09:33:55.000+0000</td></tr><tr><td>5083</td><td>Ethiopia</td><td>List(9.37365, 111.865)</td><td>2022-07-27T23:49:26.000+0000</td></tr><tr><td>443</td><td>Saint Helena</td><td>List(-53.7383, -86.0636)</td><td>2017-12-28T04:23:13.000+0000</td></tr><tr><td>3937</td><td>Armenia</td><td>List(-70.7194, -158.271)</td><td>2019-01-29T16:42:32.000+0000</td></tr><tr><td>9582</td><td>Cocos (Keeling) Islands</td><td>List(-88.6883, -86.0607)</td><td>2018-05-29T08:25:00.000+0000</td></tr><tr><td>8808</td><td>Austria</td><td>List(-87.7764, -151.645)</td><td>2018-08-06T00:20:51.000+0000</td></tr><tr><td>9020</td><td>Kazakhstan</td><td>List(-75.7504, -120.512)</td><td>2021-08-31T12:43:25.000+0000</td></tr><tr><td>2861</td><td>Pitcairn Islands</td><td>List(34.0532, -68.4946)</td><td>2022-01-05T21:36:25.000+0000</td></tr><tr><td>3723</td><td>Bulgaria</td><td>List(-47.953, -176.463)</td><td>2020-06-15T17:24:20.000+0000</td></tr><tr><td>414</td><td>Albania</td><td>List(-71.6856, -179.126)</td><td>2022-10-17T12:26:12.000+0000</td></tr><tr><td>9106</td><td>Peru</td><td>List(37.2333, 125.404)</td><td>2019-05-31T20:07:11.000+0000</td></tr><tr><td>10505</td><td>Guinea-Bissau</td><td>List(-79.0714, -109.728)</td><td>2021-08-04T07:22:36.000+0000</td></tr><tr><td>10711</td><td>Bulgaria</td><td>List(-87.6895, -176.801)</td><td>2018-12-06T02:51:03.000+0000</td></tr><tr><td>1969</td><td>Bangladesh</td><td>List(-75.942, -74.9383)</td><td>2022-04-21T00:32:37.000+0000</td></tr><tr><td>10675</td><td>Hungary</td><td>List(-73.863, -137.28)</td><td>2018-12-14T21:44:21.000+0000</td></tr><tr><td>5570</td><td>Cocos (Keeling) Islands</td><td>List(-86.2425, -175.734)</td><td>2021-06-18T12:44:59.000+0000</td></tr><tr><td>10158</td><td>Barbados</td><td>List(-74.3382, -110.484)</td><td>2018-10-22T00:56:14.000+0000</td></tr><tr><td>5283</td><td>Indonesia</td><td>List(47.0801, 149.318)</td><td>2018-05-06T16:29:26.000+0000</td></tr><tr><td>10582</td><td>Cyprus</td><td>List(-72.511, 111.466)</td><td>2021-09-11T20:32:31.000+0000</td></tr><tr><td>2237</td><td>Bulgaria</td><td>List(-22.2878, -125.947)</td><td>2018-08-22T22:05:46.000+0000</td></tr><tr><td>7886</td><td>Algeria</td><td>List(-89.5173, -179.689)</td><td>2020-11-09T22:39:30.000+0000</td></tr><tr><td>4159</td><td>Belize</td><td>List(-88.6506, -120.682)</td><td>2022-09-09T12:08:59.000+0000</td></tr><tr><td>10278</td><td>Bahrain</td><td>List(-52.3365, -177.892)</td><td>2019-07-23T13:35:03.000+0000</td></tr><tr><td>10444</td><td>Aruba</td><td>List(-74.3664, -133.937)</td><td>2017-10-25T15:12:44.000+0000</td></tr><tr><td>2316</td><td>Mauritania</td><td>List(74.5185, -35.3238)</td><td>2018-11-06T12:57:58.000+0000</td></tr><tr><td>6675</td><td>Guernsey</td><td>List(39.0398, 35.7667)</td><td>2022-01-22T09:26:46.000+0000</td></tr><tr><td>3757</td><td>Anguilla</td><td>List(-89.1797, -174.015)</td><td>2020-12-14T22:13:28.000+0000</td></tr><tr><td>4036</td><td>Aruba</td><td>List(-44.1155, -136.5)</td><td>2021-02-05T11:02:01.000+0000</td></tr><tr><td>7260</td><td>Bhutan</td><td>List(-68.975, -156.817)</td><td>2018-07-18T19:54:12.000+0000</td></tr><tr><td>891</td><td>Argentina</td><td>List(-36.9507, -4.59275)</td><td>2020-01-31T21:12:36.000+0000</td></tr><tr><td>2756</td><td>Bahamas</td><td>List(-51.5396, -105.634)</td><td>2020-04-11T01:32:48.000+0000</td></tr><tr><td>612</td><td>Central African Republic</td><td>List(-18.2471, -145.687)</td><td>2022-09-05T05:10:23.000+0000</td></tr><tr><td>9602</td><td>Bahamas</td><td>List(27.215, -63.1478)</td><td>2021-08-25T16:53:57.000+0000</td></tr><tr><td>601</td><td>Aruba</td><td>List(-84.8378, -167.14)</td><td>2018-11-09T13:16:19.000+0000</td></tr><tr><td>8501</td><td>Benin</td><td>List(-70.6524, -171.552)</td><td>2018-08-19T01:08:37.000+0000</td></tr><tr><td>2665</td><td>Anguilla</td><td>List(-89.0609, -170.904)</td><td>2020-10-08T00:08:33.000+0000</td></tr><tr><td>1757</td><td>Bulgaria</td><td>List(-64.1231, -164.904)</td><td>2021-10-04T21:34:57.000+0000</td></tr><tr><td>6122</td><td>Netherlands</td><td>List(-72.914, -87.8294)</td><td>2022-07-10T09:28:35.000+0000</td></tr><tr><td>884</td><td>Peru</td><td>List(6.86087, 63.4991)</td><td>2019-08-20T10:26:48.000+0000</td></tr><tr><td>7407</td><td>Chad</td><td>List(-65.5616, -143.054)</td><td>2020-04-25T23:41:24.000+0000</td></tr><tr><td>10068</td><td>New Caledonia</td><td>List(13.8681, 169.303)</td><td>2020-03-21T11:24:52.000+0000</td></tr><tr><td>4164</td><td>Cambodia</td><td>List(-75.3513, -38.9191)</td><td>2019-08-23T09:21:37.000+0000</td></tr><tr><td>624</td><td>Antarctica (the territory South of 60 deg S)</td><td>List(-41.1737, 170.227)</td><td>2019-07-01T14:55:07.000+0000</td></tr><tr><td>5252</td><td>Benin</td><td>List(-84.5812, -82.755)</td><td>2019-05-14T07:23:55.000+0000</td></tr><tr><td>6041</td><td>Egypt</td><td>List(-78.2534, -170.668)</td><td>2018-03-11T15:50:30.000+0000</td></tr><tr><td>4463</td><td>Bahamas</td><td>List(-75.4909, -179.908)</td><td>2020-07-24T16:26:38.000+0000</td></tr><tr><td>2183</td><td>Myanmar</td><td>List(-60.1473, 124.759)</td><td>2022-10-01T05:35:16.000+0000</td></tr><tr><td>5357</td><td>Antigua and Barbuda</td><td>List(56.8317, 90.6551)</td><td>2018-03-01T04:28:29.000+0000</td></tr><tr><td>10300</td><td>Guinea-Bissau</td><td>List(-22.5949, -65.081)</td><td>2021-09-12T08:22:08.000+0000</td></tr><tr><td>2126</td><td>Bermuda</td><td>List(63.4563, -164.709)</td><td>2018-03-13T19:18:54.000+0000</td></tr><tr><td>8901</td><td>Algeria</td><td>List(-89.5173, -179.689)</td><td>2022-01-26T17:29:39.000+0000</td></tr><tr><td>6509</td><td>Ecuador</td><td>List(-76.0527, -179.049)</td><td>2018-04-23T05:32:24.000+0000</td></tr><tr><td>271</td><td>Albania</td><td>List(-88.8298, -170.188)</td><td>2019-07-18T15:33:12.000+0000</td></tr><tr><td>8627</td><td>American Samoa</td><td>List(-81.8896, -153.897)</td><td>2022-02-02T03:06:08.000+0000</td></tr><tr><td>7952</td><td>Liechtenstein</td><td>List(-38.428, -68.0234)</td><td>2020-11-28T08:11:22.000+0000</td></tr><tr><td>10467</td><td>Malawi</td><td>List(11.9353, 1.50055)</td><td>2020-10-23T14:55:33.000+0000</td></tr><tr><td>7634</td><td>Algeria</td><td>List(-89.5173, -179.689)</td><td>2018-06-03T03:00:52.000+0000</td></tr><tr><td>3145</td><td>Kenya</td><td>List(-57.5981, -19.8932)</td><td>2022-06-18T22:46:26.000+0000</td></tr><tr><td>7147</td><td>Burundi</td><td>List(-55.3123, -170.812)</td><td>2018-03-30T14:29:11.000+0000</td></tr><tr><td>4085</td><td>Isle of Man</td><td>List(-74.4319, -144.804)</td><td>2022-03-28T17:12:46.000+0000</td></tr><tr><td>10956</td><td>Cambodia</td><td>List(-54.5642, 43.6274)</td><td>2019-05-13T03:09:56.000+0000</td></tr><tr><td>7377</td><td>Greece</td><td>List(-82.6949, 37.6463)</td><td>2021-04-20T16:02:42.000+0000</td></tr><tr><td>1862</td><td>Guatemala</td><td>List(-75.333, -117.364)</td><td>2019-11-14T01:09:00.000+0000</td></tr><tr><td>1023</td><td>Panama</td><td>List(49.9337, 110.859)</td><td>2018-02-15T07:00:12.000+0000</td></tr><tr><td>3658</td><td>Bosnia and Herzegovina</td><td>List(-9.65064, -164.516)</td><td>2022-06-01T15:07:21.000+0000</td></tr><tr><td>4387</td><td>Uganda</td><td>List(-21.3354, 42.4896)</td><td>2020-08-13T15:44:00.000+0000</td></tr><tr><td>3232</td><td>Albania</td><td>List(-71.6856, -179.126)</td><td>2017-11-23T06:43:49.000+0000</td></tr><tr><td>10073</td><td>Antarctica (the territory South of 60 deg S)</td><td>List(-32.8885, -170.295)</td><td>2021-06-29T19:56:04.000+0000</td></tr><tr><td>10091</td><td>French Southern Territories</td><td>List(-65.9741, -127.752)</td><td>2019-05-06T12:07:03.000+0000</td></tr><tr><td>1331</td><td>Norfolk Island</td><td>List(53.4171, 86.8191)</td><td>2020-09-18T00:29:38.000+0000</td></tr><tr><td>3984</td><td>Azerbaijan</td><td>List(-30.2845, -123.379)</td><td>2019-09-24T14:29:57.000+0000</td></tr><tr><td>82</td><td>India</td><td>List(29.9602, -101.96)</td><td>2022-05-19T07:17:10.000+0000</td></tr><tr><td>3360</td><td>Anguilla</td><td>List(-89.0609, -170.904)</td><td>2019-01-26T07:43:57.000+0000</td></tr><tr><td>4821</td><td>Bulgaria</td><td>List(-22.2878, -125.947)</td><td>2020-07-10T01:48:06.000+0000</td></tr><tr><td>10274</td><td>Heard Island and McDonald Islands</td><td>List(-89.0153, -13.2279)</td><td>2018-11-22T00:03:16.000+0000</td></tr><tr><td>7619</td><td>Afghanistan</td><td>List(-87.8179, -178.525)</td><td>2020-07-04T10:36:23.000+0000</td></tr><tr><td>1483</td><td>Bolivia</td><td>List(-46.4271, -92.5167)</td><td>2018-07-21T14:50:51.000+0000</td></tr><tr><td>8836</td><td>Antarctica (the territory South of 60 deg S)</td><td>List(-75.0203, -108.272)</td><td>2022-09-06T23:57:01.000+0000</td></tr></tbody></table></div>"
      ]
     },
     "metadata": {
      "application/vnd.databricks.v1+output": {
       "addedWidgets": {},
       "aggData": [],
       "aggError": "",
       "aggOverflow": false,
       "aggSchema": [],
       "aggSeriesLimitReached": false,
       "aggType": "",
       "arguments": {},
       "columnCustomDisplayInfos": {},
       "data": [
        [
         709,
         "Albania",
         [
          "-88.8298",
          "-170.188"
         ],
         "2020-12-03T15:25:22.000+0000"
        ],
        [
         7078,
         "Fiji",
         [
          "1.43641",
          "135.772"
         ],
         "2019-08-25T06:50:19.000+0000"
        ],
        [
         8083,
         "Saint Martin",
         [
          "68.4336",
          "-67.038"
         ],
         "2018-07-03T01:16:02.000+0000"
        ],
        [
         10868,
         "Panama",
         [
          "-42.1051",
          "153.465"
         ],
         "2019-06-15T06:59:12.000+0000"
        ],
        [
         7596,
         "Albania",
         [
          "-87.2",
          "-177.109"
         ],
         "2022-09-03T15:27:36.000+0000"
        ],
        [
         9402,
         "Argentina",
         [
          "-89.4739",
          "-176.154"
         ],
         "2022-06-15T08:25:16.000+0000"
        ],
        [
         462,
         "Argentina",
         [
          "-89.63",
          "-179.022"
         ],
         "2022-08-19T23:59:15.000+0000"
        ],
        [
         3647,
         "American Samoa",
         [
          "-89.3099",
          "-166.033"
         ],
         "2018-11-27T04:18:51.000+0000"
        ],
        [
         3480,
         "American Samoa",
         [
          "-89.3099",
          "-166.033"
         ],
         "2018-04-10T08:49:49.000+0000"
        ],
        [
         10920,
         "Egypt",
         [
          "-58.5064",
          "-149.458"
         ],
         "2021-05-05T08:08:57.000+0000"
        ],
        [
         10179,
         "Algeria",
         [
          "-74.7055",
          "-177.87"
         ],
         "2019-11-06T05:51:25.000+0000"
        ],
        [
         2216,
         "Kiribati",
         [
          "21.423",
          "14.4097"
         ],
         "2018-08-21T03:47:41.000+0000"
        ],
        [
         3556,
         "Andorra",
         [
          "-88.0812",
          "-166.603"
         ],
         "2022-02-05T02:03:08.000+0000"
        ],
        [
         5360,
         "Argentina",
         [
          "-87.2245",
          "-100.213"
         ],
         "2017-11-04T17:03:23.000+0000"
        ],
        [
         8159,
         "Belgium",
         [
          "-62.2853",
          "-176.497"
         ],
         "2021-01-02T09:48:03.000+0000"
        ],
        [
         10119,
         "Christmas Island",
         [
          "-74.5431",
          "-162.795"
         ],
         "2020-10-22T01:59:58.000+0000"
        ],
        [
         7958,
         "Saint Vincent and the Grenadines",
         [
          "-72.3686",
          "174.831"
         ],
         "2021-02-26T21:03:00.000+0000"
        ],
        [
         8732,
         "United States of America",
         [
          "85.718",
          "-25.2438"
         ],
         "2022-03-06T12:41:07.000+0000"
        ],
        [
         3177,
         "Belize",
         [
          "-89.6778",
          "-169.798"
         ],
         "2022-04-30T12:13:28.000+0000"
        ],
        [
         3485,
         "Bahamas",
         [
          "-87.0574",
          "-164.826"
         ],
         "2020-05-07T16:28:18.000+0000"
        ],
        [
         856,
         "Albania",
         [
          "-71.6856",
          "-179.126"
         ],
         "2020-07-22T04:49:08.000+0000"
        ],
        [
         8361,
         "Algeria",
         [
          "-88.355",
          "-96.0131"
         ],
         "2019-01-14T02:17:34.000+0000"
        ],
        [
         2858,
         "Argentina",
         [
          "-65.1565",
          "-166.807"
         ],
         "2018-05-03T13:27:09.000+0000"
        ],
        [
         4757,
         "Christmas Island",
         [
          "-79.9806",
          "-112.824"
         ],
         "2019-12-13T12:56:24.000+0000"
        ],
        [
         10936,
         "Andorra",
         [
          "52.2422",
          "38.9553"
         ],
         "2020-02-12T06:23:29.000+0000"
        ],
        [
         8941,
         "Argentina",
         [
          "-89.4739",
          "-176.154"
         ],
         "2019-01-11T22:37:24.000+0000"
        ],
        [
         228,
         "Bosnia and Herzegovina",
         [
          "-32.3508",
          "-114.656"
         ],
         "2021-01-15T17:47:34.000+0000"
        ],
        [
         4271,
         "Armenia",
         [
          "-44.7118",
          "-74.3034"
         ],
         "2021-01-02T01:56:52.000+0000"
        ],
        [
         7529,
         "Bangladesh",
         [
          "-29.9924",
          "90.2718"
         ],
         "2017-12-12T08:44:52.000+0000"
        ],
        [
         1567,
         "Angola",
         [
          "-68.0095",
          "-157.227"
         ],
         "2020-01-03T01:48:25.000+0000"
        ],
        [
         6018,
         "Anguilla",
         [
          "-28.9498",
          "-165.807"
         ],
         "2020-04-07T22:08:44.000+0000"
        ],
        [
         4889,
         "Comoros",
         [
          "23.2845",
          "-156.467"
         ],
         "2020-12-20T07:09:08.000+0000"
        ],
        [
         2337,
         "British Virgin Islands",
         [
          "-87.7946",
          "-159.647"
         ],
         "2019-08-22T16:11:41.000+0000"
        ],
        [
         9665,
         "Antigua and Barbuda",
         [
          "-54.2967",
          "-115.789"
         ],
         "2019-07-02T12:20:26.000+0000"
        ],
        [
         6498,
         "Argentina",
         [
          "-65.3952",
          "-175.249"
         ],
         "2020-04-04T16:25:16.000+0000"
        ],
        [
         5463,
         "Chad",
         [
          "-62.3082",
          "164.589"
         ],
         "2021-11-05T17:50:36.000+0000"
        ],
        [
         926,
         "Anguilla",
         [
          "-84.9417",
          "156.846"
         ],
         "2021-01-26T10:36:38.000+0000"
        ],
        [
         8977,
         "Bosnia and Herzegovina",
         [
          "-80.2967",
          "-166.23"
         ],
         "2021-07-05T00:38:13.000+0000"
        ],
        [
         5106,
         "Antigua and Barbuda",
         [
          "-41.6096",
          "-17.9408"
         ],
         "2019-11-05T04:24:06.000+0000"
        ],
        [
         5561,
         "Bangladesh",
         [
          "-80.6398",
          "-57.7465"
         ],
         "2022-06-21T20:46:51.000+0000"
        ],
        [
         7500,
         "Albania",
         [
          "56.5828",
          "-165.941"
         ],
         "2021-08-08T15:30:48.000+0000"
        ],
        [
         7512,
         "Japan",
         [
          "-69.4772",
          "14.3683"
         ],
         "2020-01-05T02:10:42.000+0000"
        ],
        [
         8385,
         "Grenada",
         [
          "-13.7262",
          "-178.706"
         ],
         "2018-01-08T06:01:02.000+0000"
        ],
        [
         7642,
         "Algeria",
         [
          "-89.5173",
          "-179.689"
         ],
         "2021-08-02T04:15:24.000+0000"
        ],
        [
         6781,
         "Norfolk Island",
         [
          "63.0387",
          "-69.2727"
         ],
         "2021-02-02T21:27:49.000+0000"
        ],
        [
         5365,
         "Botswana",
         [
          "-87.476",
          "-163.419"
         ],
         "2020-10-07T01:28:01.000+0000"
        ],
        [
         2206,
         "British Virgin Islands",
         [
          "-72.8879",
          "-131.966"
         ],
         "2022-08-15T23:33:00.000+0000"
        ],
        [
         8007,
         "Austria",
         [
          "-65.3158",
          "-179.734"
         ],
         "2022-08-15T09:19:01.000+0000"
        ],
        [
         9896,
         "Ecuador",
         [
          "-82.0334",
          "-110.476"
         ],
         "2018-01-12T05:40:05.000+0000"
        ],
        [
         4361,
         "Antarctica (the territory South of 60 deg S)",
         [
          "-24.8372",
          "-163.337"
         ],
         "2022-07-17T10:48:12.000+0000"
        ],
        [
         8509,
         "Afghanistan",
         [
          "-12.1295",
          "-29.9199"
         ],
         "2019-01-16T20:04:11.000+0000"
        ],
        [
         8204,
         "Maldives",
         [
          "-18.1973",
          "-126.543"
         ],
         "2019-05-28T05:38:33.000+0000"
        ],
        [
         1811,
         "Burundi",
         [
          "5.98843",
          "-127.249"
         ],
         "2020-03-01T19:51:40.000+0000"
        ],
        [
         7031,
         "Liechtenstein",
         [
          "62.7213",
          "-111.563"
         ],
         "2018-03-25T09:15:16.000+0000"
        ],
        [
         7283,
         "Albania",
         [
          "-89.9787",
          "-173.293"
         ],
         "2022-08-23T00:58:33.000+0000"
        ],
        [
         310,
         "Antigua and Barbuda",
         [
          "-81.0108",
          "-165.206"
         ],
         "2021-01-25T22:22:37.000+0000"
        ],
        [
         9700,
         "Cyprus",
         [
          "25.3879",
          "-177.604"
         ],
         "2021-02-05T05:06:15.000+0000"
        ],
        [
         3630,
         "Australia",
         [
          "34.7482",
          "-114.021"
         ],
         "2021-06-15T15:10:50.000+0000"
        ],
        [
         3803,
         "Angola",
         [
          "-87.3742",
          "-177.647"
         ],
         "2021-06-19T02:26:08.000+0000"
        ],
        [
         1205,
         "Bhutan",
         [
          "-89.4241",
          "-133.328"
         ],
         "2022-05-18T07:01:16.000+0000"
        ],
        [
         283,
         "Aruba",
         [
          "-84.8378",
          "-167.14"
         ],
         "2021-01-04T02:59:01.000+0000"
        ],
        [
         10319,
         "Palestinian Territory",
         [
          "45.3368",
          "-145.879"
         ],
         "2021-01-04T02:21:08.000+0000"
        ],
        [
         10932,
         "Cuba",
         [
          "87.9514",
          "113.689"
         ],
         "2022-08-22T08:46:17.000+0000"
        ],
        [
         8944,
         "Ireland",
         [
          "54.4385",
          "-0.300596"
         ],
         "2020-02-29T04:51:18.000+0000"
        ],
        [
         2430,
         "Aruba",
         [
          "-71.5025",
          "-179.257"
         ],
         "2019-06-23T04:33:25.000+0000"
        ],
        [
         1473,
         "Cote d'Ivoire",
         [
          "1.54969",
          "92.6435"
         ],
         "2021-08-11T20:54:01.000+0000"
        ],
        [
         9941,
         "Aruba",
         [
          "-53.7253",
          "-130.413"
         ],
         "2021-09-22T02:20:21.000+0000"
        ],
        [
         6636,
         "Bahamas",
         [
          "-28.1579",
          "73.2111"
         ],
         "2018-04-13T08:18:23.000+0000"
        ],
        [
         8323,
         "Albania",
         [
          "-89.9787",
          "-173.293"
         ],
         "2017-11-07T21:37:37.000+0000"
        ],
        [
         4050,
         "Aruba",
         [
          "-61.471",
          "-154.912"
         ],
         "2021-05-06T22:25:37.000+0000"
        ],
        [
         5692,
         "Belize",
         [
          "-71.3226",
          "-2.65747"
         ],
         "2021-12-27T06:24:04.000+0000"
        ],
        [
         6806,
         "Fiji",
         [
          "51.4822",
          "-20.238"
         ],
         "2020-10-11T11:07:40.000+0000"
        ],
        [
         7487,
         "Djibouti",
         [
          "-88.9574",
          "55.5995"
         ],
         "2019-08-20T08:34:24.000+0000"
        ],
        [
         3239,
         "Afghanistan",
         [
          "-78.0893",
          "-57.1052"
         ],
         "2019-10-22T00:54:29.000+0000"
        ],
        [
         867,
         "Lesotho",
         [
          "43.8747",
          "-54.895"
         ],
         "2020-10-06T15:34:55.000+0000"
        ],
        [
         4348,
         "Bouvet Island (Bouvetoya)",
         [
          "-81.2924",
          "-145.407"
         ],
         "2019-04-06T17:59:09.000+0000"
        ],
        [
         2267,
         "Bolivia",
         [
          "-77.4732",
          "-161.087"
         ],
         "2019-07-15T08:01:36.000+0000"
        ],
        [
         9173,
         "Guernsey",
         [
          "-70.6233",
          "-69.455"
         ],
         "2019-08-22T13:23:51.000+0000"
        ],
        [
         5297,
         "Croatia",
         [
          "0.944996",
          "-72.3861"
         ],
         "2018-04-20T23:50:13.000+0000"
        ],
        [
         2304,
         "Bermuda",
         [
          "-85.2344",
          "-94.599"
         ],
         "2019-03-29T02:30:06.000+0000"
        ],
        [
         4381,
         "Papua New Guinea",
         [
          "-73.112",
          "166.935"
         ],
         "2018-10-24T00:08:30.000+0000"
        ],
        [
         4353,
         "Congo",
         [
          "15.5553",
          "-55.4806"
         ],
         "2018-02-03T23:18:03.000+0000"
        ],
        [
         5911,
         "Dominican Republic",
         [
          "-63.6774",
          "-118.407"
         ],
         "2020-11-04T03:19:21.000+0000"
        ],
        [
         3774,
         "Sudan",
         [
          "-49.1799",
          "97.2511"
         ],
         "2019-03-16T04:49:06.000+0000"
        ],
        [
         2140,
         "Belgium",
         [
          "-83.4755",
          "-140.735"
         ],
         "2022-10-05T22:53:51.000+0000"
        ],
        [
         2639,
         "Andorra",
         [
          "-87.1113",
          "-159.587"
         ],
         "2020-01-28T21:57:17.000+0000"
        ],
        [
         1967,
         "Australia",
         [
          "32.74",
          "-179.581"
         ],
         "2021-02-05T10:37:28.000+0000"
        ],
        [
         9995,
         "Micronesia",
         [
          "-9.48888",
          "-144.585"
         ],
         "2020-02-28T13:18:04.000+0000"
        ],
        [
         6359,
         "Nicaragua",
         [
          "87.0392",
          "-82.493"
         ],
         "2022-08-04T08:12:16.000+0000"
        ],
        [
         3175,
         "French Polynesia",
         [
          "-84.8365",
          "-122.171"
         ],
         "2021-12-08T02:58:18.000+0000"
        ],
        [
         10570,
         "Bulgaria",
         [
          "-87.6895",
          "-176.801"
         ],
         "2021-12-29T05:55:33.000+0000"
        ],
        [
         8212,
         "Algeria",
         [
          "-74.408",
          "-178.774"
         ],
         "2022-07-04T03:16:28.000+0000"
        ],
        [
         791,
         "Palestinian Territory",
         [
          "-52.9336",
          "-85.6876"
         ],
         "2018-09-09T22:08:16.000+0000"
        ],
        [
         2532,
         "Bahamas",
         [
          "-2.82669",
          "165.932"
         ],
         "2022-06-16T07:54:10.000+0000"
        ],
        [
         6937,
         "Central African Republic",
         [
          "-56.979",
          "-117.695"
         ],
         "2018-02-19T01:15:16.000+0000"
        ],
        [
         4574,
         "Bouvet Island (Bouvetoya)",
         [
          "-81.2924",
          "-145.407"
         ],
         "2019-02-22T15:04:43.000+0000"
        ],
        [
         8452,
         "Albania",
         [
          "-87.2",
          "-177.109"
         ],
         "2020-07-13T13:22:54.000+0000"
        ],
        [
         6797,
         "Greece",
         [
          "-3.94057",
          "150.733"
         ],
         "2022-02-28T10:25:08.000+0000"
        ],
        [
         3911,
         "Burundi",
         [
          "-88.6619",
          "-117.835"
         ],
         "2019-05-17T10:19:20.000+0000"
        ],
        [
         3428,
         "Albania",
         [
          "-89.9787",
          "-173.293"
         ],
         "2022-01-01T23:37:41.000+0000"
        ],
        [
         8946,
         "Turks and Caicos Islands",
         [
          "-46.8006",
          "89.0235"
         ],
         "2021-04-23T02:37:41.000+0000"
        ],
        [
         9433,
         "Cambodia",
         [
          "-39.7916",
          "-157.635"
         ],
         "2020-08-15T02:44:48.000+0000"
        ],
        [
         7258,
         "Saint Pierre and Miquelon",
         [
          "-39.2432",
          "-46.5562"
         ],
         "2022-08-06T15:17:24.000+0000"
        ],
        [
         4220,
         "Gabon",
         [
          "15.3315",
          "-62.6734"
         ],
         "2020-02-09T13:02:02.000+0000"
        ],
        [
         9539,
         "Cameroon",
         [
          "-60.4206",
          "-116.385"
         ],
         "2018-10-30T04:22:48.000+0000"
        ],
        [
         4497,
         "Bulgaria",
         [
          "-22.2878",
          "-125.947"
         ],
         "2021-06-09T00:26:04.000+0000"
        ],
        [
         9766,
         "Austria",
         [
          "-70.0295",
          "-155.428"
         ],
         "2018-05-10T05:11:03.000+0000"
        ],
        [
         9496,
         "Tajikistan",
         [
          "-52.2729",
          "66.094"
         ],
         "2022-03-16T10:41:03.000+0000"
        ],
        [
         63,
         "Albania",
         [
          "-88.8298",
          "-170.188"
         ],
         "2021-10-27T10:14:52.000+0000"
        ],
        [
         4420,
         "Aruba",
         [
          "-82.0592",
          "-92.7514"
         ],
         "2017-12-07T13:45:54.000+0000"
        ],
        [
         3977,
         "Albania",
         [
          "-89.8908",
          "-179.887"
         ],
         "2020-09-16T11:54:15.000+0000"
        ],
        [
         4634,
         "French Polynesia",
         [
          "-50.8134",
          "-160.465"
         ],
         "2018-02-21T20:46:48.000+0000"
        ],
        [
         5526,
         "Azerbaijan",
         [
          "-78.0948",
          "136.476"
         ],
         "2020-10-15T18:40:44.000+0000"
        ],
        [
         8146,
         "Bosnia and Herzegovina",
         [
          "43.735",
          "6.26956"
         ],
         "2022-08-17T20:56:45.000+0000"
        ],
        [
         5322,
         "Central African Republic",
         [
          "79.7391",
          "-99.0832"
         ],
         "2018-10-04T09:40:58.000+0000"
        ],
        [
         4157,
         "Bangladesh",
         [
          "-27.9758",
          "-133.082"
         ],
         "2019-03-17T07:31:52.000+0000"
        ],
        [
         372,
         "Armenia",
         [
          "-38.4062",
          "-154.323"
         ],
         "2019-01-29T20:46:52.000+0000"
        ],
        [
         3475,
         "Afghanistan",
         [
          "-88.5478",
          "-174.971"
         ],
         "2018-01-20T01:58:54.000+0000"
        ],
        [
         1550,
         "Honduras",
         [
          "-77.9348",
          "-85.145"
         ],
         "2022-09-23T11:22:04.000+0000"
        ],
        [
         9072,
         "Belgium",
         [
          "-49.6438",
          "-64.7355"
         ],
         "2019-07-12T04:37:14.000+0000"
        ],
        [
         2908,
         "Azerbaijan",
         [
          "-71.2179",
          "-152.808"
         ],
         "2018-05-05T02:37:55.000+0000"
        ],
        [
         8164,
         "Macao",
         [
          "46.1297",
          "152.314"
         ],
         "2019-04-09T15:18:49.000+0000"
        ],
        [
         497,
         "Albania",
         [
          "-88.8298",
          "-170.188"
         ],
         "2021-10-22T12:59:06.000+0000"
        ],
        [
         3320,
         "Djibouti",
         [
          "-70.1494",
          "-146.93"
         ],
         "2020-03-12T10:26:49.000+0000"
        ],
        [
         2928,
         "Guatemala",
         [
          "5.83178",
          "85.7978"
         ],
         "2018-11-26T23:08:14.000+0000"
        ],
        [
         6936,
         "Korea",
         [
          "-73.6628",
          "-67.9815"
         ],
         "2020-07-01T18:58:26.000+0000"
        ],
        [
         7790,
         "Papua New Guinea",
         [
          "-43.692",
          "64.9839"
         ],
         "2018-07-31T08:19:15.000+0000"
        ],
        [
         6521,
         "Australia",
         [
          "-82.0198",
          "-155.211"
         ],
         "2020-05-27T11:27:08.000+0000"
        ],
        [
         3747,
         "Cape Verde",
         [
          "46.7845",
          "-63.5658"
         ],
         "2020-07-06T06:40:16.000+0000"
        ],
        [
         10078,
         "Korea",
         [
          "-56.8367",
          "-89.6948"
         ],
         "2018-09-11T16:48:17.000+0000"
        ],
        [
         10329,
         "Belgium",
         [
          "63.1332",
          "-101.653"
         ],
         "2017-12-14T22:54:49.000+0000"
        ],
        [
         7645,
         "Algeria",
         [
          "-74.408",
          "-178.774"
         ],
         "2020-06-19T05:35:30.000+0000"
        ],
        [
         7914,
         "Burkina Faso",
         [
          "-45.8257",
          "-8.67928"
         ],
         "2022-04-07T23:58:08.000+0000"
        ],
        [
         8887,
         "Botswana",
         [
          "-28.0137",
          "-160.708"
         ],
         "2021-09-19T05:27:43.000+0000"
        ],
        [
         3992,
         "Turkey",
         [
          "-55.8423",
          "-47.7024"
         ],
         "2018-04-07T12:40:04.000+0000"
        ],
        [
         6188,
         "Bangladesh",
         [
          "82.8384",
          "-54.601"
         ],
         "2017-12-16T03:31:14.000+0000"
        ],
        [
         3281,
         "Georgia",
         [
          "16.8902",
          "-123.373"
         ],
         "2020-12-06T17:01:25.000+0000"
        ],
        [
         5457,
         "Argentina",
         [
          "-80.3487",
          "-178.419"
         ],
         "2022-06-25T10:29:40.000+0000"
        ],
        [
         9117,
         "Antarctica (the territory South of 60 deg S)",
         [
          "-88.4642",
          "-171.061"
         ],
         "2018-08-02T03:26:24.000+0000"
        ],
        [
         3287,
         "Bahamas",
         [
          "-87.0574",
          "-164.826"
         ],
         "2018-09-21T07:53:56.000+0000"
        ],
        [
         7182,
         "Ireland",
         [
          "70.6273",
          "-36.4574"
         ],
         "2022-09-19T12:22:51.000+0000"
        ],
        [
         8477,
         "China",
         [
          "-75.3641",
          "164.006"
         ],
         "2018-02-18T08:41:43.000+0000"
        ],
        [
         2732,
         "Belize",
         [
          "-89.6778",
          "-169.798"
         ],
         "2021-11-12T06:01:41.000+0000"
        ],
        [
         4724,
         "Martinique",
         [
          "25.6497",
          "-79.8812"
         ],
         "2021-08-20T10:21:07.000+0000"
        ],
        [
         117,
         "Eritrea",
         [
          "-56.3611",
          "-1.11339"
         ],
         "2022-01-19T02:37:42.000+0000"
        ],
        [
         2529,
         "Bangladesh",
         [
          "1.84103",
          "-139.031"
         ],
         "2020-08-31T08:01:19.000+0000"
        ],
        [
         1735,
         "Cameroon",
         [
          "-84.7767",
          "-155.835"
         ],
         "2018-02-17T03:28:14.000+0000"
        ],
        [
         809,
         "Indonesia",
         [
          "35.2848",
          "-157.542"
         ],
         "2022-03-31T14:09:15.000+0000"
        ],
        [
         7683,
         "Algeria",
         [
          "-74.408",
          "-178.774"
         ],
         "2021-05-21T04:11:31.000+0000"
        ],
        [
         8552,
         "Algeria",
         [
          "-89.5173",
          "-179.689"
         ],
         "2021-09-19T06:48:03.000+0000"
        ],
        [
         2633,
         "Bermuda",
         [
          "-85.2344",
          "-94.599"
         ],
         "2020-10-13T14:49:37.000+0000"
        ],
        [
         1919,
         "Qatar",
         [
          "-19.5096",
          "-89.8726"
         ],
         "2022-10-18T15:43:00.000+0000"
        ],
        [
         9333,
         "Argentina",
         [
          "-89.4739",
          "-176.154"
         ],
         "2017-10-23T19:50:20.000+0000"
        ],
        [
         4224,
         "Angola",
         [
          "-87.3742",
          "-177.647"
         ],
         "2019-06-26T17:37:51.000+0000"
        ],
        [
         3683,
         "Afghanistan",
         [
          "-26.686",
          "-174.249"
         ],
         "2019-04-01T09:33:55.000+0000"
        ],
        [
         5083,
         "Ethiopia",
         [
          "9.37365",
          "111.865"
         ],
         "2022-07-27T23:49:26.000+0000"
        ],
        [
         443,
         "Saint Helena",
         [
          "-53.7383",
          "-86.0636"
         ],
         "2017-12-28T04:23:13.000+0000"
        ],
        [
         3937,
         "Armenia",
         [
          "-70.7194",
          "-158.271"
         ],
         "2019-01-29T16:42:32.000+0000"
        ],
        [
         9582,
         "Cocos (Keeling) Islands",
         [
          "-88.6883",
          "-86.0607"
         ],
         "2018-05-29T08:25:00.000+0000"
        ],
        [
         8808,
         "Austria",
         [
          "-87.7764",
          "-151.645"
         ],
         "2018-08-06T00:20:51.000+0000"
        ],
        [
         9020,
         "Kazakhstan",
         [
          "-75.7504",
          "-120.512"
         ],
         "2021-08-31T12:43:25.000+0000"
        ],
        [
         2861,
         "Pitcairn Islands",
         [
          "34.0532",
          "-68.4946"
         ],
         "2022-01-05T21:36:25.000+0000"
        ],
        [
         3723,
         "Bulgaria",
         [
          "-47.953",
          "-176.463"
         ],
         "2020-06-15T17:24:20.000+0000"
        ],
        [
         414,
         "Albania",
         [
          "-71.6856",
          "-179.126"
         ],
         "2022-10-17T12:26:12.000+0000"
        ],
        [
         9106,
         "Peru",
         [
          "37.2333",
          "125.404"
         ],
         "2019-05-31T20:07:11.000+0000"
        ],
        [
         10505,
         "Guinea-Bissau",
         [
          "-79.0714",
          "-109.728"
         ],
         "2021-08-04T07:22:36.000+0000"
        ],
        [
         10711,
         "Bulgaria",
         [
          "-87.6895",
          "-176.801"
         ],
         "2018-12-06T02:51:03.000+0000"
        ],
        [
         1969,
         "Bangladesh",
         [
          "-75.942",
          "-74.9383"
         ],
         "2022-04-21T00:32:37.000+0000"
        ],
        [
         10675,
         "Hungary",
         [
          "-73.863",
          "-137.28"
         ],
         "2018-12-14T21:44:21.000+0000"
        ],
        [
         5570,
         "Cocos (Keeling) Islands",
         [
          "-86.2425",
          "-175.734"
         ],
         "2021-06-18T12:44:59.000+0000"
        ],
        [
         10158,
         "Barbados",
         [
          "-74.3382",
          "-110.484"
         ],
         "2018-10-22T00:56:14.000+0000"
        ],
        [
         5283,
         "Indonesia",
         [
          "47.0801",
          "149.318"
         ],
         "2018-05-06T16:29:26.000+0000"
        ],
        [
         10582,
         "Cyprus",
         [
          "-72.511",
          "111.466"
         ],
         "2021-09-11T20:32:31.000+0000"
        ],
        [
         2237,
         "Bulgaria",
         [
          "-22.2878",
          "-125.947"
         ],
         "2018-08-22T22:05:46.000+0000"
        ],
        [
         7886,
         "Algeria",
         [
          "-89.5173",
          "-179.689"
         ],
         "2020-11-09T22:39:30.000+0000"
        ],
        [
         4159,
         "Belize",
         [
          "-88.6506",
          "-120.682"
         ],
         "2022-09-09T12:08:59.000+0000"
        ],
        [
         10278,
         "Bahrain",
         [
          "-52.3365",
          "-177.892"
         ],
         "2019-07-23T13:35:03.000+0000"
        ],
        [
         10444,
         "Aruba",
         [
          "-74.3664",
          "-133.937"
         ],
         "2017-10-25T15:12:44.000+0000"
        ],
        [
         2316,
         "Mauritania",
         [
          "74.5185",
          "-35.3238"
         ],
         "2018-11-06T12:57:58.000+0000"
        ],
        [
         6675,
         "Guernsey",
         [
          "39.0398",
          "35.7667"
         ],
         "2022-01-22T09:26:46.000+0000"
        ],
        [
         3757,
         "Anguilla",
         [
          "-89.1797",
          "-174.015"
         ],
         "2020-12-14T22:13:28.000+0000"
        ],
        [
         4036,
         "Aruba",
         [
          "-44.1155",
          "-136.5"
         ],
         "2021-02-05T11:02:01.000+0000"
        ],
        [
         7260,
         "Bhutan",
         [
          "-68.975",
          "-156.817"
         ],
         "2018-07-18T19:54:12.000+0000"
        ],
        [
         891,
         "Argentina",
         [
          "-36.9507",
          "-4.59275"
         ],
         "2020-01-31T21:12:36.000+0000"
        ],
        [
         2756,
         "Bahamas",
         [
          "-51.5396",
          "-105.634"
         ],
         "2020-04-11T01:32:48.000+0000"
        ],
        [
         612,
         "Central African Republic",
         [
          "-18.2471",
          "-145.687"
         ],
         "2022-09-05T05:10:23.000+0000"
        ],
        [
         9602,
         "Bahamas",
         [
          "27.215",
          "-63.1478"
         ],
         "2021-08-25T16:53:57.000+0000"
        ],
        [
         601,
         "Aruba",
         [
          "-84.8378",
          "-167.14"
         ],
         "2018-11-09T13:16:19.000+0000"
        ],
        [
         8501,
         "Benin",
         [
          "-70.6524",
          "-171.552"
         ],
         "2018-08-19T01:08:37.000+0000"
        ],
        [
         2665,
         "Anguilla",
         [
          "-89.0609",
          "-170.904"
         ],
         "2020-10-08T00:08:33.000+0000"
        ],
        [
         1757,
         "Bulgaria",
         [
          "-64.1231",
          "-164.904"
         ],
         "2021-10-04T21:34:57.000+0000"
        ],
        [
         6122,
         "Netherlands",
         [
          "-72.914",
          "-87.8294"
         ],
         "2022-07-10T09:28:35.000+0000"
        ],
        [
         884,
         "Peru",
         [
          "6.86087",
          "63.4991"
         ],
         "2019-08-20T10:26:48.000+0000"
        ],
        [
         7407,
         "Chad",
         [
          "-65.5616",
          "-143.054"
         ],
         "2020-04-25T23:41:24.000+0000"
        ],
        [
         10068,
         "New Caledonia",
         [
          "13.8681",
          "169.303"
         ],
         "2020-03-21T11:24:52.000+0000"
        ],
        [
         4164,
         "Cambodia",
         [
          "-75.3513",
          "-38.9191"
         ],
         "2019-08-23T09:21:37.000+0000"
        ],
        [
         624,
         "Antarctica (the territory South of 60 deg S)",
         [
          "-41.1737",
          "170.227"
         ],
         "2019-07-01T14:55:07.000+0000"
        ],
        [
         5252,
         "Benin",
         [
          "-84.5812",
          "-82.755"
         ],
         "2019-05-14T07:23:55.000+0000"
        ],
        [
         6041,
         "Egypt",
         [
          "-78.2534",
          "-170.668"
         ],
         "2018-03-11T15:50:30.000+0000"
        ],
        [
         4463,
         "Bahamas",
         [
          "-75.4909",
          "-179.908"
         ],
         "2020-07-24T16:26:38.000+0000"
        ],
        [
         2183,
         "Myanmar",
         [
          "-60.1473",
          "124.759"
         ],
         "2022-10-01T05:35:16.000+0000"
        ],
        [
         5357,
         "Antigua and Barbuda",
         [
          "56.8317",
          "90.6551"
         ],
         "2018-03-01T04:28:29.000+0000"
        ],
        [
         10300,
         "Guinea-Bissau",
         [
          "-22.5949",
          "-65.081"
         ],
         "2021-09-12T08:22:08.000+0000"
        ],
        [
         2126,
         "Bermuda",
         [
          "63.4563",
          "-164.709"
         ],
         "2018-03-13T19:18:54.000+0000"
        ],
        [
         8901,
         "Algeria",
         [
          "-89.5173",
          "-179.689"
         ],
         "2022-01-26T17:29:39.000+0000"
        ],
        [
         6509,
         "Ecuador",
         [
          "-76.0527",
          "-179.049"
         ],
         "2018-04-23T05:32:24.000+0000"
        ],
        [
         271,
         "Albania",
         [
          "-88.8298",
          "-170.188"
         ],
         "2019-07-18T15:33:12.000+0000"
        ],
        [
         8627,
         "American Samoa",
         [
          "-81.8896",
          "-153.897"
         ],
         "2022-02-02T03:06:08.000+0000"
        ],
        [
         7952,
         "Liechtenstein",
         [
          "-38.428",
          "-68.0234"
         ],
         "2020-11-28T08:11:22.000+0000"
        ],
        [
         10467,
         "Malawi",
         [
          "11.9353",
          "1.50055"
         ],
         "2020-10-23T14:55:33.000+0000"
        ],
        [
         7634,
         "Algeria",
         [
          "-89.5173",
          "-179.689"
         ],
         "2018-06-03T03:00:52.000+0000"
        ],
        [
         3145,
         "Kenya",
         [
          "-57.5981",
          "-19.8932"
         ],
         "2022-06-18T22:46:26.000+0000"
        ],
        [
         7147,
         "Burundi",
         [
          "-55.3123",
          "-170.812"
         ],
         "2018-03-30T14:29:11.000+0000"
        ],
        [
         4085,
         "Isle of Man",
         [
          "-74.4319",
          "-144.804"
         ],
         "2022-03-28T17:12:46.000+0000"
        ],
        [
         10956,
         "Cambodia",
         [
          "-54.5642",
          "43.6274"
         ],
         "2019-05-13T03:09:56.000+0000"
        ],
        [
         7377,
         "Greece",
         [
          "-82.6949",
          "37.6463"
         ],
         "2021-04-20T16:02:42.000+0000"
        ],
        [
         1862,
         "Guatemala",
         [
          "-75.333",
          "-117.364"
         ],
         "2019-11-14T01:09:00.000+0000"
        ],
        [
         1023,
         "Panama",
         [
          "49.9337",
          "110.859"
         ],
         "2018-02-15T07:00:12.000+0000"
        ],
        [
         3658,
         "Bosnia and Herzegovina",
         [
          "-9.65064",
          "-164.516"
         ],
         "2022-06-01T15:07:21.000+0000"
        ],
        [
         4387,
         "Uganda",
         [
          "-21.3354",
          "42.4896"
         ],
         "2020-08-13T15:44:00.000+0000"
        ],
        [
         3232,
         "Albania",
         [
          "-71.6856",
          "-179.126"
         ],
         "2017-11-23T06:43:49.000+0000"
        ],
        [
         10073,
         "Antarctica (the territory South of 60 deg S)",
         [
          "-32.8885",
          "-170.295"
         ],
         "2021-06-29T19:56:04.000+0000"
        ],
        [
         10091,
         "French Southern Territories",
         [
          "-65.9741",
          "-127.752"
         ],
         "2019-05-06T12:07:03.000+0000"
        ],
        [
         1331,
         "Norfolk Island",
         [
          "53.4171",
          "86.8191"
         ],
         "2020-09-18T00:29:38.000+0000"
        ],
        [
         3984,
         "Azerbaijan",
         [
          "-30.2845",
          "-123.379"
         ],
         "2019-09-24T14:29:57.000+0000"
        ],
        [
         82,
         "India",
         [
          "29.9602",
          "-101.96"
         ],
         "2022-05-19T07:17:10.000+0000"
        ],
        [
         3360,
         "Anguilla",
         [
          "-89.0609",
          "-170.904"
         ],
         "2019-01-26T07:43:57.000+0000"
        ],
        [
         4821,
         "Bulgaria",
         [
          "-22.2878",
          "-125.947"
         ],
         "2020-07-10T01:48:06.000+0000"
        ],
        [
         10274,
         "Heard Island and McDonald Islands",
         [
          "-89.0153",
          "-13.2279"
         ],
         "2018-11-22T00:03:16.000+0000"
        ],
        [
         7619,
         "Afghanistan",
         [
          "-87.8179",
          "-178.525"
         ],
         "2020-07-04T10:36:23.000+0000"
        ],
        [
         1483,
         "Bolivia",
         [
          "-46.4271",
          "-92.5167"
         ],
         "2018-07-21T14:50:51.000+0000"
        ],
        [
         8836,
         "Antarctica (the territory South of 60 deg S)",
         [
          "-75.0203",
          "-108.272"
         ],
         "2022-09-06T23:57:01.000+0000"
        ]
       ],
       "datasetInfos": [],
       "dbfsResultPath": null,
       "isJsonSchema": true,
       "metadata": {},
       "overflow": false,
       "plotOptions": {
        "customPlotOptions": {},
        "displayType": "table",
        "pivotAggregation": null,
        "pivotColumns": null,
        "xColumns": null,
        "yColumns": null
       },
       "removedWidgets": [],
       "schema": [
        {
         "metadata": "{}",
         "name": "ind",
         "type": "\"integer\""
        },
        {
         "metadata": "{}",
         "name": "country",
         "type": "\"string\""
        },
        {
         "metadata": "{}",
         "name": "coordinates",
         "type": "{\"type\":\"array\",\"elementType\":\"string\",\"containsNull\":true}"
        },
        {
         "metadata": "{}",
         "name": "timestamp",
         "type": "\"timestamp\""
        }
       ],
       "type": "table"
      }
     },
     "output_type": "display_data"
    }
   ],
   "source": [
    "display(output_geo_df)"
   ]
  },
  {
   "cell_type": "code",
   "execution_count": null,
   "metadata": {
    "application/vnd.databricks.v1+cell": {
     "cellMetadata": {
      "byteLimit": 2048000,
      "rowLimit": 10000
     },
     "inputWidgets": {},
     "nuid": "e757dc60-ce17-4cb3-b771-b7e580bbe91e",
     "showTitle": false,
     "title": ""
    }
   },
   "outputs": [
    {
     "data": {
      "text/html": [
       "<style scoped>\n",
       "  .ansiout {\n",
       "    display: block;\n",
       "    unicode-bidi: embed;\n",
       "    white-space: pre-wrap;\n",
       "    word-wrap: break-word;\n",
       "    word-break: break-all;\n",
       "    font-family: \"Menlo\", \"Monaco\", \"Consolas\", \"Ubuntu Mono\", \"Source Code Pro\", monospace;\n",
       "    font-size: 13px;\n",
       "    color: #555;\n",
       "    margin-left: 4px;\n",
       "    line-height: 19px;\n",
       "  }\n",
       "</style>\n",
       "<div class=\"ansiout\">Out[34]: &lt;pyspark.sql.streaming.StreamingQuery at 0x7fa002f3f760&gt;</div>"
      ]
     },
     "metadata": {
      "application/vnd.databricks.v1+output": {
       "addedWidgets": {},
       "arguments": {},
       "data": "<div class=\"ansiout\">Out[34]: &lt;pyspark.sql.streaming.StreamingQuery at 0x7fa002f3f760&gt;</div>",
       "datasetInfos": [],
       "metadata": {},
       "removedWidgets": [],
       "type": "html"
      }
     },
     "output_type": "display_data"
    }
   ],
   "source": [
    "output_geo_df.writeStream \\\n",
    "  .format(\"delta\") \\\n",
    "  .queryName(\"0affea73130b_geo_query\") \\\n",
    "  .outputMode(\"append\") \\\n",
    "  .option(\"checkpointLocation\", \"/tmp/kinesis/_checkpoints/0affea73130b_geo_query\") \\\n",
    "  .table(\"0affea73130b_geo_table\")"
   ]
  },
  {
   "cell_type": "code",
   "execution_count": null,
   "metadata": {
    "application/vnd.databricks.v1+cell": {
     "cellMetadata": {},
     "inputWidgets": {},
     "nuid": "c36c0081-8e3b-4cf4-af7c-286f713cb064",
     "showTitle": false,
     "title": ""
    }
   },
   "outputs": [],
   "source": [
    "# dbutils.fs.rm(\"/tmp/kinesis/_checkpoints/0affea73130b_geo_query\", True)"
   ]
  }
 ],
 "metadata": {
  "application/vnd.databricks.v1+notebook": {
   "dashboards": [],
   "environmentMetadata": null,
   "language": "python",
   "notebookMetadata": {
    "mostRecentlyExecutedCommandWithImplicitDF": {
     "commandId": 1445726648212249,
     "dataframes": [
      "_sqldf"
     ]
    },
    "pythonIndentUnit": 4
   },
   "notebookName": "Pinterest Geolocation Stream Clean",
   "widgets": {}
  },
  "language_info": {
   "name": "python"
  }
 },
 "nbformat": 4,
 "nbformat_minor": 0
}
