{
 "cells": [
  {
   "cell_type": "code",
   "execution_count": null,
   "metadata": {
    "application/vnd.databricks.v1+cell": {
     "cellMetadata": {
      "byteLimit": 2048000,
      "rowLimit": 10000
     },
     "inputWidgets": {},
     "nuid": "006e75d2-797b-4b3c-b3a0-1abf85c429a0",
     "showTitle": false,
     "title": ""
    }
   },
   "outputs": [
    {
     "data": {
      "text/html": [
       "<style scoped>\n",
       "  .ansiout {\n",
       "    display: block;\n",
       "    unicode-bidi: embed;\n",
       "    white-space: pre-wrap;\n",
       "    word-wrap: break-word;\n",
       "    word-break: break-all;\n",
       "    font-family: \"Menlo\", \"Monaco\", \"Consolas\", \"Ubuntu Mono\", \"Source Code Pro\", monospace;\n",
       "    font-size: 13px;\n",
       "    color: #555;\n",
       "    margin-left: 4px;\n",
       "    line-height: 19px;\n",
       "  }\n",
       "</style>\n",
       "<div class=\"ansiout\"></div>"
      ]
     },
     "metadata": {
      "application/vnd.databricks.v1+output": {
       "addedWidgets": {},
       "arguments": {},
       "data": "<div class=\"ansiout\"></div>",
       "datasetInfos": [],
       "metadata": {},
       "removedWidgets": [],
       "type": "html"
      }
     },
     "output_type": "display_data"
    }
   ],
   "source": [
    "from pyspark.sql.types import StructType, StructField, StringType, TimestampType"
   ]
  },
  {
   "cell_type": "code",
   "execution_count": null,
   "metadata": {
    "application/vnd.databricks.v1+cell": {
     "cellMetadata": {
      "byteLimit": 2048000,
      "implicitDf": true,
      "rowLimit": 10000
     },
     "inputWidgets": {},
     "nuid": "85d2da4f-f904-4d0b-9901-daaa8a131090",
     "showTitle": false,
     "title": ""
    }
   },
   "outputs": [
    {
     "data": {
      "text/html": [
       "<style scoped>\n",
       "  .ansiout {\n",
       "    display: block;\n",
       "    unicode-bidi: embed;\n",
       "    white-space: pre-wrap;\n",
       "    word-wrap: break-word;\n",
       "    word-break: break-all;\n",
       "    font-family: \"Menlo\", \"Monaco\", \"Consolas\", \"Ubuntu Mono\", \"Source Code Pro\", monospace;\n",
       "    font-size: 13px;\n",
       "    color: #555;\n",
       "    margin-left: 4px;\n",
       "    line-height: 19px;\n",
       "  }\n",
       "</style>\n",
       "<div class=\"ansiout\"></div>"
      ]
     },
     "metadata": {
      "application/vnd.databricks.v1+output": {
       "addedWidgets": {},
       "arguments": {},
       "data": "<div class=\"ansiout\"></div>",
       "datasetInfos": [],
       "metadata": {},
       "removedWidgets": [],
       "type": "html"
      }
     },
     "output_type": "display_data"
    },
    {
     "data": {
      "text/html": [
       "<style scoped>\n",
       "  .ansiout {\n",
       "    display: block;\n",
       "    unicode-bidi: embed;\n",
       "    white-space: pre-wrap;\n",
       "    word-wrap: break-word;\n",
       "    word-break: break-all;\n",
       "    font-family: \"Menlo\", \"Monaco\", \"Consolas\", \"Ubuntu Mono\", \"Source Code Pro\", monospace;\n",
       "    font-size: 13px;\n",
       "    color: #555;\n",
       "    margin-left: 4px;\n",
       "    line-height: 19px;\n",
       "  }\n",
       "</style>\n",
       "<div class=\"ansiout\"></div>"
      ]
     },
     "metadata": {
      "application/vnd.databricks.v1+output": {
       "addedWidgets": {},
       "arguments": {},
       "data": "<div class=\"ansiout\"></div>",
       "datasetInfos": [],
       "metadata": {},
       "removedWidgets": [],
       "type": "html"
      }
     },
     "output_type": "display_data"
    },
    {
     "data": {
      "text/html": [
       "<style scoped>\n",
       "  .table-result-container {\n",
       "    max-height: 300px;\n",
       "    overflow: auto;\n",
       "  }\n",
       "  table, th, td {\n",
       "    border: 1px solid black;\n",
       "    border-collapse: collapse;\n",
       "  }\n",
       "  th, td {\n",
       "    padding: 5px;\n",
       "  }\n",
       "  th {\n",
       "    text-align: left;\n",
       "  }\n",
       "</style><div class='table-result-container'><table class='table-result'><thead style='background-color: white'><tr><th>key</th><th>value</th></tr></thead><tbody><tr><td>spark.databricks.delta.formatCheck.enabled</td><td>false</td></tr></tbody></table></div>"
      ]
     },
     "metadata": {
      "application/vnd.databricks.v1+output": {
       "addedWidgets": {},
       "aggData": [],
       "aggError": "",
       "aggOverflow": false,
       "aggSchema": [],
       "aggSeriesLimitReached": false,
       "aggType": "",
       "arguments": {},
       "columnCustomDisplayInfos": {},
       "data": [
        [
         "spark.databricks.delta.formatCheck.enabled",
         "false"
        ]
       ],
       "datasetInfos": [],
       "dbfsResultPath": null,
       "isJsonSchema": true,
       "metadata": {},
       "overflow": false,
       "plotOptions": {
        "customPlotOptions": {},
        "displayType": "table",
        "pivotAggregation": null,
        "pivotColumns": null,
        "xColumns": null,
        "yColumns": null
       },
       "removedWidgets": [],
       "schema": [
        {
         "metadata": "{}",
         "name": "key",
         "type": "\"string\""
        },
        {
         "metadata": "{}",
         "name": "value",
         "type": "\"string\""
        }
       ],
       "type": "table"
      }
     },
     "output_type": "display_data"
    },
    {
     "data": {
      "text/html": [
       "<style scoped>\n",
       "  .ansiout {\n",
       "    display: block;\n",
       "    unicode-bidi: embed;\n",
       "    white-space: pre-wrap;\n",
       "    word-wrap: break-word;\n",
       "    word-break: break-all;\n",
       "    font-family: \"Menlo\", \"Monaco\", \"Consolas\", \"Ubuntu Mono\", \"Source Code Pro\", monospace;\n",
       "    font-size: 13px;\n",
       "    color: #555;\n",
       "    margin-left: 4px;\n",
       "    line-height: 19px;\n",
       "  }\n",
       "</style>\n",
       "<div class=\"ansiout\"></div>"
      ]
     },
     "metadata": {
      "application/vnd.databricks.v1+output": {
       "addedWidgets": {},
       "arguments": {},
       "data": "<div class=\"ansiout\"></div>",
       "datasetInfos": [],
       "metadata": {},
       "removedWidgets": [],
       "type": "html"
      }
     },
     "output_type": "display_data"
    },
    {
     "data": {
      "text/html": [
       "<style scoped>\n",
       "  .ansiout {\n",
       "    display: block;\n",
       "    unicode-bidi: embed;\n",
       "    white-space: pre-wrap;\n",
       "    word-wrap: break-word;\n",
       "    word-break: break-all;\n",
       "    font-family: \"Menlo\", \"Monaco\", \"Consolas\", \"Ubuntu Mono\", \"Source Code Pro\", monospace;\n",
       "    font-size: 13px;\n",
       "    color: #555;\n",
       "    margin-left: 4px;\n",
       "    line-height: 19px;\n",
       "  }\n",
       "</style>\n",
       "<div class=\"ansiout\"></div>"
      ]
     },
     "metadata": {
      "application/vnd.databricks.v1+output": {
       "addedWidgets": {},
       "arguments": {},
       "data": "<div class=\"ansiout\"></div>",
       "datasetInfos": [],
       "metadata": {},
       "removedWidgets": [],
       "type": "html"
      }
     },
     "output_type": "display_data"
    },
    {
     "data": {
      "text/html": [
       "<style scoped>\n",
       "  .ansiout {\n",
       "    display: block;\n",
       "    unicode-bidi: embed;\n",
       "    white-space: pre-wrap;\n",
       "    word-wrap: break-word;\n",
       "    word-break: break-all;\n",
       "    font-family: \"Menlo\", \"Monaco\", \"Consolas\", \"Ubuntu Mono\", \"Source Code Pro\", monospace;\n",
       "    font-size: 13px;\n",
       "    color: #555;\n",
       "    margin-left: 4px;\n",
       "    line-height: 19px;\n",
       "  }\n",
       "</style>\n",
       "<div class=\"ansiout\"></div>"
      ]
     },
     "metadata": {
      "application/vnd.databricks.v1+output": {
       "addedWidgets": {},
       "arguments": {},
       "data": "<div class=\"ansiout\"></div>",
       "datasetInfos": [],
       "metadata": {},
       "removedWidgets": [],
       "type": "html"
      }
     },
     "output_type": "display_data"
    }
   ],
   "source": [
    "%run \"/Workspace/Users/cronies-02gorilla@icloud.com/access\""
   ]
  },
  {
   "cell_type": "code",
   "execution_count": null,
   "metadata": {
    "application/vnd.databricks.v1+cell": {
     "cellMetadata": {
      "byteLimit": 2048000,
      "rowLimit": 10000
     },
     "inputWidgets": {},
     "nuid": "7bcb446a-4006-41ee-ad6c-53625a938d9c",
     "showTitle": false,
     "title": ""
    }
   },
   "outputs": [
    {
     "data": {
      "text/html": [
       "<style scoped>\n",
       "  .ansiout {\n",
       "    display: block;\n",
       "    unicode-bidi: embed;\n",
       "    white-space: pre-wrap;\n",
       "    word-wrap: break-word;\n",
       "    word-break: break-all;\n",
       "    font-family: \"Menlo\", \"Monaco\", \"Consolas\", \"Ubuntu Mono\", \"Source Code Pro\", monospace;\n",
       "    font-size: 13px;\n",
       "    color: #555;\n",
       "    margin-left: 4px;\n",
       "    line-height: 19px;\n",
       "  }\n",
       "</style>\n",
       "<div class=\"ansiout\"></div>"
      ]
     },
     "metadata": {
      "application/vnd.databricks.v1+output": {
       "addedWidgets": {},
       "arguments": {},
       "data": "<div class=\"ansiout\"></div>",
       "datasetInfos": [],
       "metadata": {},
       "removedWidgets": [],
       "type": "html"
      }
     },
     "output_type": "display_data"
    }
   ],
   "source": [
    "stream_df = spark \\\n",
    ".readStream \\\n",
    ".format('kinesis') \\\n",
    ".option('streamName','streaming-0affea73130b-user') \\\n",
    ".option('initialPosition','latest') \\\n",
    ".option('region','us-east-1') \\\n",
    ".option('awsAccessKey', ACCESS_KEY) \\\n",
    ".option('awsSecretKey', SECRET_KEY) \\\n",
    ".load()"
   ]
  },
  {
   "cell_type": "code",
   "execution_count": null,
   "metadata": {
    "application/vnd.databricks.v1+cell": {
     "cellMetadata": {
      "byteLimit": 2048000,
      "rowLimit": 10000
     },
     "inputWidgets": {},
     "nuid": "7e29d644-7fa9-4212-a243-ef5dd25d7121",
     "showTitle": false,
     "title": ""
    }
   },
   "outputs": [
    {
     "data": {
      "text/html": [
       "<style scoped>\n",
       "  .ansiout {\n",
       "    display: block;\n",
       "    unicode-bidi: embed;\n",
       "    white-space: pre-wrap;\n",
       "    word-wrap: break-word;\n",
       "    word-break: break-all;\n",
       "    font-family: \"Menlo\", \"Monaco\", \"Consolas\", \"Ubuntu Mono\", \"Source Code Pro\", monospace;\n",
       "    font-size: 13px;\n",
       "    color: #555;\n",
       "    margin-left: 4px;\n",
       "    line-height: 19px;\n",
       "  }\n",
       "</style>\n",
       "<div class=\"ansiout\"></div>"
      ]
     },
     "metadata": {
      "application/vnd.databricks.v1+output": {
       "addedWidgets": {},
       "arguments": {},
       "data": "<div class=\"ansiout\"></div>",
       "datasetInfos": [],
       "metadata": {},
       "removedWidgets": [],
       "type": "html"
      }
     },
     "output_type": "display_data"
    }
   ],
   "source": [
    "# Define the schema to speed up processing\n",
    "jsonSchema = StructType([ \n",
    "                         StructField(\"ind\", StringType(), True), \n",
    "                         StructField(\"age\", StringType(), True), \n",
    "                         StructField(\"date_joined\", StringType(), True), \n",
    "                         StructField(\"first_name\", StringType(), True), \n",
    "                         StructField(\"last_name\", StringType(), True), \n",
    "                         ])"
   ]
  },
  {
   "cell_type": "code",
   "execution_count": null,
   "metadata": {
    "application/vnd.databricks.v1+cell": {
     "cellMetadata": {
      "byteLimit": 2048000,
      "rowLimit": 10000
     },
     "inputWidgets": {},
     "nuid": "9527233c-4d2d-490d-a31f-b3a44de86a30",
     "showTitle": false,
     "title": ""
    }
   },
   "outputs": [
    {
     "data": {
      "text/html": [
       "<style scoped>\n",
       "  .ansiout {\n",
       "    display: block;\n",
       "    unicode-bidi: embed;\n",
       "    white-space: pre-wrap;\n",
       "    word-wrap: break-word;\n",
       "    word-break: break-all;\n",
       "    font-family: \"Menlo\", \"Monaco\", \"Consolas\", \"Ubuntu Mono\", \"Source Code Pro\", monospace;\n",
       "    font-size: 13px;\n",
       "    color: #555;\n",
       "    margin-left: 4px;\n",
       "    line-height: 19px;\n",
       "  }\n",
       "</style>\n",
       "<div class=\"ansiout\"></div>"
      ]
     },
     "metadata": {
      "application/vnd.databricks.v1+output": {
       "addedWidgets": {},
       "arguments": {},
       "data": "<div class=\"ansiout\"></div>",
       "datasetInfos": [],
       "metadata": {},
       "removedWidgets": [],
       "type": "html"
      }
     },
     "output_type": "display_data"
    }
   ],
   "source": [
    "string_df = stream_df.selectExpr(\"CAST(data as STRING)\")"
   ]
  },
  {
   "cell_type": "code",
   "execution_count": null,
   "metadata": {
    "application/vnd.databricks.v1+cell": {
     "cellMetadata": {
      "byteLimit": 2048000,
      "rowLimit": 10000
     },
     "inputWidgets": {},
     "nuid": "f2eb11d3-f5f5-4848-ba2f-982b07258f15",
     "showTitle": false,
     "title": ""
    }
   },
   "outputs": [
    {
     "data": {
      "text/html": [
       "<style scoped>\n",
       "  .ansiout {\n",
       "    display: block;\n",
       "    unicode-bidi: embed;\n",
       "    white-space: pre-wrap;\n",
       "    word-wrap: break-word;\n",
       "    word-break: break-all;\n",
       "    font-family: \"Menlo\", \"Monaco\", \"Consolas\", \"Ubuntu Mono\", \"Source Code Pro\", monospace;\n",
       "    font-size: 13px;\n",
       "    color: #555;\n",
       "    margin-left: 4px;\n",
       "    line-height: 19px;\n",
       "  }\n",
       "</style>\n",
       "<div class=\"ansiout\"></div>"
      ]
     },
     "metadata": {
      "application/vnd.databricks.v1+output": {
       "addedWidgets": {},
       "arguments": {},
       "data": "<div class=\"ansiout\"></div>",
       "datasetInfos": [],
       "metadata": {},
       "removedWidgets": [],
       "type": "html"
      }
     },
     "output_type": "display_data"
    }
   ],
   "source": [
    "json_df = string_df.select(from_json(col(\"data\"), jsonSchema))"
   ]
  },
  {
   "cell_type": "code",
   "execution_count": null,
   "metadata": {
    "application/vnd.databricks.v1+cell": {
     "cellMetadata": {
      "byteLimit": 2048000,
      "rowLimit": 10000
     },
     "inputWidgets": {},
     "nuid": "08a1b82d-5bbe-4ee5-95bf-744b69def69b",
     "showTitle": false,
     "title": ""
    }
   },
   "outputs": [
    {
     "data": {
      "text/html": [
       "<style scoped>\n",
       "  .ansiout {\n",
       "    display: block;\n",
       "    unicode-bidi: embed;\n",
       "    white-space: pre-wrap;\n",
       "    word-wrap: break-word;\n",
       "    word-break: break-all;\n",
       "    font-family: \"Menlo\", \"Monaco\", \"Consolas\", \"Ubuntu Mono\", \"Source Code Pro\", monospace;\n",
       "    font-size: 13px;\n",
       "    color: #555;\n",
       "    margin-left: 4px;\n",
       "    line-height: 19px;\n",
       "  }\n",
       "</style>\n",
       "<div class=\"ansiout\"></div>"
      ]
     },
     "metadata": {
      "application/vnd.databricks.v1+output": {
       "addedWidgets": {},
       "arguments": {},
       "data": "<div class=\"ansiout\"></div>",
       "datasetInfos": [],
       "metadata": {},
       "removedWidgets": [],
       "type": "html"
      }
     },
     "output_type": "display_data"
    }
   ],
   "source": [
    "geo_stream_df = json_df.withColumn(\"ind\", col(\"from_json(data)\")[\"ind\"])\\\n",
    ".withColumn(\"age\", col(\"from_json(data)\")[\"age\"])\\\n",
    ".withColumn(\"date_joined\", col(\"from_json(data)\")[\"date_joined\"])\\\n",
    ".withColumn(\"first_name\", col(\"from_json(data)\")[\"first_name\"])\\\n",
    ".withColumn(\"last_name\", col(\"from_json(data)\")[\"last_name\"])"
   ]
  },
  {
   "cell_type": "code",
   "execution_count": null,
   "metadata": {
    "application/vnd.databricks.v1+cell": {
     "cellMetadata": {
      "byteLimit": 2048000,
      "rowLimit": 10000
     },
     "inputWidgets": {},
     "nuid": "c7802838-09db-4abf-aa8d-bd278a178495",
     "showTitle": false,
     "title": ""
    }
   },
   "outputs": [
    {
     "data": {
      "text/html": [
       "<style scoped>\n",
       "  .ansiout {\n",
       "    display: block;\n",
       "    unicode-bidi: embed;\n",
       "    white-space: pre-wrap;\n",
       "    word-wrap: break-word;\n",
       "    word-break: break-all;\n",
       "    font-family: \"Menlo\", \"Monaco\", \"Consolas\", \"Ubuntu Mono\", \"Source Code Pro\", monospace;\n",
       "    font-size: 13px;\n",
       "    color: #555;\n",
       "    margin-left: 4px;\n",
       "    line-height: 19px;\n",
       "  }\n",
       "</style>\n",
       "<div class=\"ansiout\"></div>"
      ]
     },
     "metadata": {
      "application/vnd.databricks.v1+output": {
       "addedWidgets": {},
       "arguments": {},
       "data": "<div class=\"ansiout\"></div>",
       "datasetInfos": [],
       "metadata": {},
       "removedWidgets": [],
       "type": "html"
      }
     },
     "output_type": "display_data"
    }
   ],
   "source": [
    "# drop from_json(data) column\n",
    "cleaned_df = geo_stream_df.drop(\"from_json(data)\")\n",
    "\n",
    "# drop duplicates\n",
    "cleaned_df = cleaned_df.dropDuplicates()\n",
    "\n",
    "# Create a new column user_name that concatenates the information found in the first_name and last_name columns\n",
    "# Drop first_name and last_name columns from the DataFrame\n",
    "cleaned_df = cleaned_df.withColumn(\"user_name\", concat(\"first_name\", lit(\" \"), \"last_name\"))\n",
    "cleaned_df = cleaned_df.drop(\"first_name\", \"last_name\")\n",
    "\n",
    "# cast int datatype to ind\n",
    "cleaned_df = cleaned_df.withColumn(\"ind\", cleaned_df[\"ind\"].cast(\"int\"))\n",
    "\n",
    "# Convert the date_joined column from a string to a timestamp data type\n",
    "cleaned_df = cleaned_df.withColumn(\"date_joined\", to_timestamp(\"date_joined\"))\n",
    "\n",
    "# drop duplicates\n",
    "cleaned_df = cleaned_df.dropDuplicates()\n",
    "\n",
    "# Reorder the DataFrame columns to have the following column order:\n",
    "cleaned_df = cleaned_df.select(\"ind\", \"user_name\", \"age\", \"date_joined\")"
   ]
  },
  {
   "cell_type": "code",
   "execution_count": null,
   "metadata": {
    "application/vnd.databricks.v1+cell": {
     "cellMetadata": {
      "byteLimit": 2048000,
      "rowLimit": 10000
     },
     "inputWidgets": {},
     "nuid": "ccad081c-802d-4e7a-92e0-824c6c36d091",
     "showTitle": false,
     "title": ""
    }
   },
   "outputs": [
    {
     "data": {
      "text/html": [
       "<style scoped>\n",
       "  .table-result-container {\n",
       "    max-height: 300px;\n",
       "    overflow: auto;\n",
       "  }\n",
       "  table, th, td {\n",
       "    border: 1px solid black;\n",
       "    border-collapse: collapse;\n",
       "  }\n",
       "  th, td {\n",
       "    padding: 5px;\n",
       "  }\n",
       "  th {\n",
       "    text-align: left;\n",
       "  }\n",
       "</style><div class='table-result-container'><table class='table-result'><thead style='background-color: white'><tr><th>ind</th><th>user_name</th><th>age</th><th>date_joined</th></tr></thead><tbody><tr><td>8808</td><td>Albert Adams</td><td>21</td><td>2015-11-05T22:07:56.000+0000</td></tr><tr><td>3683</td><td>David Anderson</td><td>21</td><td>2016-02-08T10:08:32.000+0000</td></tr><tr><td>414</td><td>Aaron Bartlett</td><td>21</td><td>2015-11-24T02:15:36.000+0000</td></tr><tr><td>4224</td><td>Alison Cole</td><td>21</td><td>2015-11-05T13:39:57.000+0000</td></tr><tr><td>443</td><td>Carla Atkins</td><td>49</td><td>2016-05-08T20:29:33.000+0000</td></tr><tr><td>5083</td><td>Sharon Woodward</td><td>44</td><td>2017-04-25T23:49:22.000+0000</td></tr><tr><td>9020</td><td>Natalie Davis</td><td>22</td><td>2016-02-06T07:52:27.000+0000</td></tr><tr><td>3937</td><td>Caroline Carlson</td><td>31</td><td>2015-10-22T08:40:35.000+0000</td></tr><tr><td>9582</td><td>Christopher Hawkins</td><td>45</td><td>2016-09-15T06:02:53.000+0000</td></tr><tr><td>2861</td><td>Elizabeth Terry</td><td>28</td><td>2016-01-29T20:32:05.000+0000</td></tr><tr><td>1969</td><td>Christopher Haynes</td><td>25</td><td>2016-02-14T23:08:47.000+0000</td></tr><tr><td>5283</td><td>George Allen</td><td>53</td><td>2016-02-15T13:30:18.000+0000</td></tr><tr><td>2316</td><td>Nicole Mitchell</td><td>47</td><td>2017-09-01T01:16:25.000+0000</td></tr><tr><td>5570</td><td>Joann Anderson</td><td>33</td><td>2016-02-15T02:19:16.000+0000</td></tr><tr><td>9106</td><td>Jeremy Hebert</td><td>47</td><td>2017-09-18T13:53:40.000+0000</td></tr><tr><td>10505</td><td>Erik Mann</td><td>25</td><td>2016-03-01T10:17:28.000+0000</td></tr><tr><td>2237</td><td>Ashley Gentry</td><td>20</td><td>2015-11-12T00:58:51.000+0000</td></tr><tr><td>10582</td><td>Jessica Cline</td><td>39</td><td>2017-07-12T12:51:57.000+0000</td></tr><tr><td>10675</td><td>Christopher Combs</td><td>42</td><td>2016-02-08T16:47:33.000+0000</td></tr><tr><td>10278</td><td>Christopher Fox</td><td>44</td><td>2016-10-26T03:56:51.000+0000</td></tr><tr><td>10711</td><td>David Evans</td><td>21</td><td>2016-03-28T10:54:55.000+0000</td></tr><tr><td>10158</td><td>Brendan Joseph</td><td>26</td><td>2015-12-20T10:28:00.000+0000</td></tr><tr><td>3757</td><td>Corey Andrews</td><td>23</td><td>2015-11-25T13:36:22.000+0000</td></tr><tr><td>6675</td><td>Ryan Long</td><td>50</td><td>2017-10-12T11:47:53.000+0000</td></tr><tr><td>4036</td><td>Jennifer Pitts</td><td>43</td><td>2016-01-30T21:28:23.000+0000</td></tr><tr><td>2756</td><td>Christopher Brown</td><td>21</td><td>2016-05-23T23:48:56.000+0000</td></tr><tr><td>6122</td><td>Andrew Duncan</td><td>30</td><td>2016-01-08T05:22:50.000+0000</td></tr><tr><td>2665</td><td>Amber Casey</td><td>23</td><td>2016-01-06T12:22:08.000+0000</td></tr><tr><td>10444</td><td>Cody Cochran</td><td>24</td><td>2015-11-28T02:20:00.000+0000</td></tr><tr><td>7886</td><td>Aaron Abbott</td><td>20</td><td>2015-10-23T16:08:41.000+0000</td></tr><tr><td>601</td><td>Amanda Alvarez</td><td>21</td><td>2015-10-30T01:31:09.000+0000</td></tr><tr><td>891</td><td>Sandra Allen</td><td>60</td><td>2016-12-16T14:41:24.000+0000</td></tr><tr><td>9602</td><td>Alice Nicholson</td><td>46</td><td>2016-11-22T02:52:41.000+0000</td></tr><tr><td>612</td><td>Candice Carr</td><td>28</td><td>2016-09-20T21:03:30.000+0000</td></tr><tr><td>4159</td><td>Darryl Alexander</td><td>25</td><td>2015-12-02T11:20:58.000+0000</td></tr><tr><td>7260</td><td>Angel Brown</td><td>28</td><td>2016-02-19T11:07:31.000+0000</td></tr><tr><td>1757</td><td>Andrew Alvarez</td><td>21</td><td>2015-11-10T12:55:13.000+0000</td></tr><tr><td>4164</td><td>Paul Johnson</td><td>27</td><td>2015-12-25T02:56:59.000+0000</td></tr><tr><td>2183</td><td>Courtney Barton</td><td>20</td><td>2017-05-02T10:41:29.000+0000</td></tr><tr><td>5252</td><td>Ann Acevedo</td><td>22</td><td>2016-01-26T15:27:05.000+0000</td></tr><tr><td>4463</td><td>Allison Adams</td><td>22</td><td>2015-11-30T10:51:59.000+0000</td></tr><tr><td>884</td><td>Daniel Valentine</td><td>46</td><td>2017-01-17T18:12:39.000+0000</td></tr><tr><td>10068</td><td>Kevin Marquez</td><td>47</td><td>2016-03-08T02:26:43.000+0000</td></tr><tr><td>8501</td><td>April Barr</td><td>26</td><td>2016-02-06T19:00:11.000+0000</td></tr><tr><td>6041</td><td>Heather Arellano</td><td>23</td><td>2016-01-02T03:36:30.000+0000</td></tr><tr><td>5357</td><td>Casey Perry</td><td>55</td><td>2017-05-05T03:44:58.000+0000</td></tr><tr><td>10300</td><td>Denise Graves</td><td>21</td><td>2016-01-28T22:04:16.000+0000</td></tr><tr><td>271</td><td>Adam Acosta</td><td>20</td><td>2015-10-21T21:26:45.000+0000</td></tr><tr><td>3145</td><td>Crystal Schmidt</td><td>22</td><td>2017-04-14T13:57:52.000+0000</td></tr><tr><td>7407</td><td>Frank Bates</td><td>23</td><td>2016-01-12T00:57:43.000+0000</td></tr><tr><td>624</td><td>Michelle Duncan</td><td>40</td><td>2016-10-29T10:09:50.000+0000</td></tr><tr><td>7952</td><td>Karen Clark</td><td>47</td><td>2016-08-01T06:36:32.000+0000</td></tr><tr><td>6509</td><td>Alexis Frazier</td><td>22</td><td>2016-04-19T13:21:10.000+0000</td></tr><tr><td>7147</td><td>Donna Carroll</td><td>21</td><td>2016-02-02T12:25:05.000+0000</td></tr><tr><td>2126</td><td>David Moss</td><td>22</td><td>2016-03-01T07:11:48.000+0000</td></tr><tr><td>8627</td><td>Angela Berg</td><td>20</td><td>2015-11-10T05:57:33.000+0000</td></tr><tr><td>10467</td><td>Kristen Cox</td><td>59</td><td>2016-09-14T15:19:11.000+0000</td></tr><tr><td>8901</td><td>Aaron Abbott</td><td>20</td><td>2015-10-23T16:08:41.000+0000</td></tr><tr><td>1023</td><td>Joseph Dominguez</td><td>44</td><td>2016-06-05T06:01:34.000+0000</td></tr><tr><td>10956</td><td>Jennifer Hill</td><td>32</td><td>2016-04-20T17:48:48.000+0000</td></tr><tr><td>7634</td><td>Aaron Abbott</td><td>20</td><td>2015-10-23T16:08:41.000+0000</td></tr><tr><td>7619</td><td>Andrew Alexander</td><td>20</td><td>2015-11-20T09:08:00.000+0000</td></tr><tr><td>4085</td><td>Michelle Larsen</td><td>30</td><td>2017-08-28T21:59:04.000+0000</td></tr><tr><td>1331</td><td>Andrea Sparks</td><td>43</td><td>2016-02-06T11:54:26.000+0000</td></tr><tr><td>3232</td><td>Aaron Bartlett</td><td>21</td><td>2015-11-24T02:15:36.000+0000</td></tr><tr><td>4821</td><td>Ashley Gentry</td><td>20</td><td>2015-11-12T00:58:51.000+0000</td></tr><tr><td>3658</td><td>Dana Mckinney</td><td>25</td><td>2015-10-25T14:27:30.000+0000</td></tr><tr><td>1862</td><td>Anne Brown</td><td>34</td><td>2016-10-29T21:15:21.000+0000</td></tr><tr><td>4387</td><td>Bradley Coleman</td><td>58</td><td>2017-10-14T14:19:06.000+0000</td></tr><tr><td>7377</td><td>Jose Franklin</td><td>49</td><td>2016-12-09T03:29:50.000+0000</td></tr><tr><td>9135</td><td>Andrea Alexander</td><td>21</td><td>2015-11-10T09:27:42.000+0000</td></tr><tr><td>8836</td><td>Dalton Daniels</td><td>21</td><td>2015-11-11T10:19:51.000+0000</td></tr><tr><td>5268</td><td>James Brown</td><td>49</td><td>2016-04-06T13:56:50.000+0000</td></tr><tr><td>4514</td><td>Lisa Brewer</td><td>53</td><td>2017-04-30T08:38:59.000+0000</td></tr><tr><td>2022</td><td>Steven Sanders</td><td>48</td><td>2016-03-02T07:39:23.000+0000</td></tr><tr><td>10073</td><td>Jeffrey Hunter</td><td>32</td><td>2016-09-07T04:52:20.000+0000</td></tr><tr><td>3450</td><td>Adrian Jackson</td><td>28</td><td>2016-04-30T10:03:19.000+0000</td></tr><tr><td>9068</td><td>Adam Acosta</td><td>20</td><td>2015-10-21T21:26:45.000+0000</td></tr><tr><td>4141</td><td>Abigail Allen</td><td>20</td><td>2015-11-12T14:40:14.000+0000</td></tr><tr><td>358</td><td>Jay Davis</td><td>33</td><td>2016-12-04T21:33:36.000+0000</td></tr><tr><td>3984</td><td>Abigail Gutierrez</td><td>23</td><td>2015-11-12T09:14:36.000+0000</td></tr><tr><td>6624</td><td>Brittany Campbell</td><td>21</td><td>2016-02-07T15:51:55.000+0000</td></tr><tr><td>2424</td><td>April Anderson</td><td>21</td><td>2016-12-04T18:22:22.000+0000</td></tr><tr><td>1649</td><td>Allison Acosta</td><td>20</td><td>2015-10-24T01:15:02.000+0000</td></tr><tr><td>3360</td><td>Amber Casey</td><td>23</td><td>2016-01-06T12:22:08.000+0000</td></tr><tr><td>365</td><td>Kevin Torres</td><td>51</td><td>2016-08-07T18:45:21.000+0000</td></tr><tr><td>10091</td><td>Stephanie Taylor</td><td>36</td><td>2017-08-13T20:35:56.000+0000</td></tr><tr><td>1483</td><td>Aaron Baldwin</td><td>20</td><td>2016-03-02T01:37:55.000+0000</td></tr><tr><td>4801</td><td>Brad Guerrero</td><td>23</td><td>2017-08-27T08:03:36.000+0000</td></tr><tr><td>82</td><td>Andres Cortez</td><td>26</td><td>2015-11-20T21:50:39.000+0000</td></tr><tr><td>3766</td><td>Abigail Allen</td><td>20</td><td>2015-11-12T14:40:14.000+0000</td></tr><tr><td>10274</td><td>Kathleen Hamilton</td><td>44</td><td>2016-12-10T09:13:47.000+0000</td></tr><tr><td>7563</td><td>Alejandra Acevedo</td><td>20</td><td>2015-11-24T21:01:23.000+0000</td></tr><tr><td>9774</td><td>Christopher Foster</td><td>25</td><td>2016-11-01T23:16:19.000+0000</td></tr><tr><td>1951</td><td>Bryan Williams</td><td>42</td><td>2016-10-07T06:05:52.000+0000</td></tr><tr><td>1698</td><td>David Hill</td><td>43</td><td>2017-02-10T05:29:46.000+0000</td></tr><tr><td>7035</td><td>Anthony Buchanan</td><td>31</td><td>2015-12-11T10:56:55.000+0000</td></tr><tr><td>7476</td><td>Donald Hooper</td><td>21</td><td>2015-11-29T01:52:23.000+0000</td></tr><tr><td>5332</td><td>Alan Anderson</td><td>23</td><td>2015-10-23T13:00:32.000+0000</td></tr><tr><td>10506</td><td>Wayne Murphy</td><td>34</td><td>2016-10-31T21:23:15.000+0000</td></tr><tr><td>2129</td><td>Andrew Clements</td><td>27</td><td>2015-11-30T02:06:28.000+0000</td></tr><tr><td>2538</td><td>Amy Adams</td><td>20</td><td>2015-10-24T05:05:28.000+0000</td></tr><tr><td>5422</td><td>Stacy Lopez</td><td>30</td><td>2016-06-10T05:04:34.000+0000</td></tr><tr><td>4365</td><td>Rebecca Bailey</td><td>35</td><td>2016-06-01T08:35:00.000+0000</td></tr><tr><td>217</td><td>Anthony Martinez</td><td>20</td><td>2015-11-29T09:31:00.000+0000</td></tr><tr><td>10631</td><td>Joyce Kennedy</td><td>24</td><td>2016-12-26T01:46:06.000+0000</td></tr><tr><td>1874</td><td>Beth Ali</td><td>20</td><td>2015-12-08T16:44:30.000+0000</td></tr><tr><td>8462</td><td>Aaron Abbott</td><td>20</td><td>2015-10-23T16:08:41.000+0000</td></tr><tr><td>5244</td><td>Larry Smith</td><td>34</td><td>2017-03-25T20:41:18.000+0000</td></tr><tr><td>4916</td><td>Shannon Dean</td><td>28</td><td>2017-05-26T05:55:13.000+0000</td></tr></tbody></table></div>"
      ]
     },
     "metadata": {
      "application/vnd.databricks.v1+output": {
       "addedWidgets": {},
       "aggData": [],
       "aggError": "",
       "aggOverflow": false,
       "aggSchema": [],
       "aggSeriesLimitReached": false,
       "aggType": "",
       "arguments": {},
       "columnCustomDisplayInfos": {},
       "data": [
        [
         8808,
         "Albert Adams",
         "21",
         "2015-11-05T22:07:56.000+0000"
        ],
        [
         3683,
         "David Anderson",
         "21",
         "2016-02-08T10:08:32.000+0000"
        ],
        [
         414,
         "Aaron Bartlett",
         "21",
         "2015-11-24T02:15:36.000+0000"
        ],
        [
         4224,
         "Alison Cole",
         "21",
         "2015-11-05T13:39:57.000+0000"
        ],
        [
         443,
         "Carla Atkins",
         "49",
         "2016-05-08T20:29:33.000+0000"
        ],
        [
         5083,
         "Sharon Woodward",
         "44",
         "2017-04-25T23:49:22.000+0000"
        ],
        [
         9020,
         "Natalie Davis",
         "22",
         "2016-02-06T07:52:27.000+0000"
        ],
        [
         3937,
         "Caroline Carlson",
         "31",
         "2015-10-22T08:40:35.000+0000"
        ],
        [
         9582,
         "Christopher Hawkins",
         "45",
         "2016-09-15T06:02:53.000+0000"
        ],
        [
         2861,
         "Elizabeth Terry",
         "28",
         "2016-01-29T20:32:05.000+0000"
        ],
        [
         1969,
         "Christopher Haynes",
         "25",
         "2016-02-14T23:08:47.000+0000"
        ],
        [
         5283,
         "George Allen",
         "53",
         "2016-02-15T13:30:18.000+0000"
        ],
        [
         2316,
         "Nicole Mitchell",
         "47",
         "2017-09-01T01:16:25.000+0000"
        ],
        [
         5570,
         "Joann Anderson",
         "33",
         "2016-02-15T02:19:16.000+0000"
        ],
        [
         9106,
         "Jeremy Hebert",
         "47",
         "2017-09-18T13:53:40.000+0000"
        ],
        [
         10505,
         "Erik Mann",
         "25",
         "2016-03-01T10:17:28.000+0000"
        ],
        [
         2237,
         "Ashley Gentry",
         "20",
         "2015-11-12T00:58:51.000+0000"
        ],
        [
         10582,
         "Jessica Cline",
         "39",
         "2017-07-12T12:51:57.000+0000"
        ],
        [
         10675,
         "Christopher Combs",
         "42",
         "2016-02-08T16:47:33.000+0000"
        ],
        [
         10278,
         "Christopher Fox",
         "44",
         "2016-10-26T03:56:51.000+0000"
        ],
        [
         10711,
         "David Evans",
         "21",
         "2016-03-28T10:54:55.000+0000"
        ],
        [
         10158,
         "Brendan Joseph",
         "26",
         "2015-12-20T10:28:00.000+0000"
        ],
        [
         3757,
         "Corey Andrews",
         "23",
         "2015-11-25T13:36:22.000+0000"
        ],
        [
         6675,
         "Ryan Long",
         "50",
         "2017-10-12T11:47:53.000+0000"
        ],
        [
         4036,
         "Jennifer Pitts",
         "43",
         "2016-01-30T21:28:23.000+0000"
        ],
        [
         2756,
         "Christopher Brown",
         "21",
         "2016-05-23T23:48:56.000+0000"
        ],
        [
         6122,
         "Andrew Duncan",
         "30",
         "2016-01-08T05:22:50.000+0000"
        ],
        [
         2665,
         "Amber Casey",
         "23",
         "2016-01-06T12:22:08.000+0000"
        ],
        [
         10444,
         "Cody Cochran",
         "24",
         "2015-11-28T02:20:00.000+0000"
        ],
        [
         7886,
         "Aaron Abbott",
         "20",
         "2015-10-23T16:08:41.000+0000"
        ],
        [
         601,
         "Amanda Alvarez",
         "21",
         "2015-10-30T01:31:09.000+0000"
        ],
        [
         891,
         "Sandra Allen",
         "60",
         "2016-12-16T14:41:24.000+0000"
        ],
        [
         9602,
         "Alice Nicholson",
         "46",
         "2016-11-22T02:52:41.000+0000"
        ],
        [
         612,
         "Candice Carr",
         "28",
         "2016-09-20T21:03:30.000+0000"
        ],
        [
         4159,
         "Darryl Alexander",
         "25",
         "2015-12-02T11:20:58.000+0000"
        ],
        [
         7260,
         "Angel Brown",
         "28",
         "2016-02-19T11:07:31.000+0000"
        ],
        [
         1757,
         "Andrew Alvarez",
         "21",
         "2015-11-10T12:55:13.000+0000"
        ],
        [
         4164,
         "Paul Johnson",
         "27",
         "2015-12-25T02:56:59.000+0000"
        ],
        [
         2183,
         "Courtney Barton",
         "20",
         "2017-05-02T10:41:29.000+0000"
        ],
        [
         5252,
         "Ann Acevedo",
         "22",
         "2016-01-26T15:27:05.000+0000"
        ],
        [
         4463,
         "Allison Adams",
         "22",
         "2015-11-30T10:51:59.000+0000"
        ],
        [
         884,
         "Daniel Valentine",
         "46",
         "2017-01-17T18:12:39.000+0000"
        ],
        [
         10068,
         "Kevin Marquez",
         "47",
         "2016-03-08T02:26:43.000+0000"
        ],
        [
         8501,
         "April Barr",
         "26",
         "2016-02-06T19:00:11.000+0000"
        ],
        [
         6041,
         "Heather Arellano",
         "23",
         "2016-01-02T03:36:30.000+0000"
        ],
        [
         5357,
         "Casey Perry",
         "55",
         "2017-05-05T03:44:58.000+0000"
        ],
        [
         10300,
         "Denise Graves",
         "21",
         "2016-01-28T22:04:16.000+0000"
        ],
        [
         271,
         "Adam Acosta",
         "20",
         "2015-10-21T21:26:45.000+0000"
        ],
        [
         3145,
         "Crystal Schmidt",
         "22",
         "2017-04-14T13:57:52.000+0000"
        ],
        [
         7407,
         "Frank Bates",
         "23",
         "2016-01-12T00:57:43.000+0000"
        ],
        [
         624,
         "Michelle Duncan",
         "40",
         "2016-10-29T10:09:50.000+0000"
        ],
        [
         7952,
         "Karen Clark",
         "47",
         "2016-08-01T06:36:32.000+0000"
        ],
        [
         6509,
         "Alexis Frazier",
         "22",
         "2016-04-19T13:21:10.000+0000"
        ],
        [
         7147,
         "Donna Carroll",
         "21",
         "2016-02-02T12:25:05.000+0000"
        ],
        [
         2126,
         "David Moss",
         "22",
         "2016-03-01T07:11:48.000+0000"
        ],
        [
         8627,
         "Angela Berg",
         "20",
         "2015-11-10T05:57:33.000+0000"
        ],
        [
         10467,
         "Kristen Cox",
         "59",
         "2016-09-14T15:19:11.000+0000"
        ],
        [
         8901,
         "Aaron Abbott",
         "20",
         "2015-10-23T16:08:41.000+0000"
        ],
        [
         1023,
         "Joseph Dominguez",
         "44",
         "2016-06-05T06:01:34.000+0000"
        ],
        [
         10956,
         "Jennifer Hill",
         "32",
         "2016-04-20T17:48:48.000+0000"
        ],
        [
         7634,
         "Aaron Abbott",
         "20",
         "2015-10-23T16:08:41.000+0000"
        ],
        [
         7619,
         "Andrew Alexander",
         "20",
         "2015-11-20T09:08:00.000+0000"
        ],
        [
         4085,
         "Michelle Larsen",
         "30",
         "2017-08-28T21:59:04.000+0000"
        ],
        [
         1331,
         "Andrea Sparks",
         "43",
         "2016-02-06T11:54:26.000+0000"
        ],
        [
         3232,
         "Aaron Bartlett",
         "21",
         "2015-11-24T02:15:36.000+0000"
        ],
        [
         4821,
         "Ashley Gentry",
         "20",
         "2015-11-12T00:58:51.000+0000"
        ],
        [
         3658,
         "Dana Mckinney",
         "25",
         "2015-10-25T14:27:30.000+0000"
        ],
        [
         1862,
         "Anne Brown",
         "34",
         "2016-10-29T21:15:21.000+0000"
        ],
        [
         4387,
         "Bradley Coleman",
         "58",
         "2017-10-14T14:19:06.000+0000"
        ],
        [
         7377,
         "Jose Franklin",
         "49",
         "2016-12-09T03:29:50.000+0000"
        ],
        [
         9135,
         "Andrea Alexander",
         "21",
         "2015-11-10T09:27:42.000+0000"
        ],
        [
         8836,
         "Dalton Daniels",
         "21",
         "2015-11-11T10:19:51.000+0000"
        ],
        [
         5268,
         "James Brown",
         "49",
         "2016-04-06T13:56:50.000+0000"
        ],
        [
         4514,
         "Lisa Brewer",
         "53",
         "2017-04-30T08:38:59.000+0000"
        ],
        [
         2022,
         "Steven Sanders",
         "48",
         "2016-03-02T07:39:23.000+0000"
        ],
        [
         10073,
         "Jeffrey Hunter",
         "32",
         "2016-09-07T04:52:20.000+0000"
        ],
        [
         3450,
         "Adrian Jackson",
         "28",
         "2016-04-30T10:03:19.000+0000"
        ],
        [
         9068,
         "Adam Acosta",
         "20",
         "2015-10-21T21:26:45.000+0000"
        ],
        [
         4141,
         "Abigail Allen",
         "20",
         "2015-11-12T14:40:14.000+0000"
        ],
        [
         358,
         "Jay Davis",
         "33",
         "2016-12-04T21:33:36.000+0000"
        ],
        [
         3984,
         "Abigail Gutierrez",
         "23",
         "2015-11-12T09:14:36.000+0000"
        ],
        [
         6624,
         "Brittany Campbell",
         "21",
         "2016-02-07T15:51:55.000+0000"
        ],
        [
         2424,
         "April Anderson",
         "21",
         "2016-12-04T18:22:22.000+0000"
        ],
        [
         1649,
         "Allison Acosta",
         "20",
         "2015-10-24T01:15:02.000+0000"
        ],
        [
         3360,
         "Amber Casey",
         "23",
         "2016-01-06T12:22:08.000+0000"
        ],
        [
         365,
         "Kevin Torres",
         "51",
         "2016-08-07T18:45:21.000+0000"
        ],
        [
         10091,
         "Stephanie Taylor",
         "36",
         "2017-08-13T20:35:56.000+0000"
        ],
        [
         1483,
         "Aaron Baldwin",
         "20",
         "2016-03-02T01:37:55.000+0000"
        ],
        [
         4801,
         "Brad Guerrero",
         "23",
         "2017-08-27T08:03:36.000+0000"
        ],
        [
         82,
         "Andres Cortez",
         "26",
         "2015-11-20T21:50:39.000+0000"
        ],
        [
         3766,
         "Abigail Allen",
         "20",
         "2015-11-12T14:40:14.000+0000"
        ],
        [
         10274,
         "Kathleen Hamilton",
         "44",
         "2016-12-10T09:13:47.000+0000"
        ],
        [
         7563,
         "Alejandra Acevedo",
         "20",
         "2015-11-24T21:01:23.000+0000"
        ],
        [
         9774,
         "Christopher Foster",
         "25",
         "2016-11-01T23:16:19.000+0000"
        ],
        [
         1951,
         "Bryan Williams",
         "42",
         "2016-10-07T06:05:52.000+0000"
        ],
        [
         1698,
         "David Hill",
         "43",
         "2017-02-10T05:29:46.000+0000"
        ],
        [
         7035,
         "Anthony Buchanan",
         "31",
         "2015-12-11T10:56:55.000+0000"
        ],
        [
         7476,
         "Donald Hooper",
         "21",
         "2015-11-29T01:52:23.000+0000"
        ],
        [
         5332,
         "Alan Anderson",
         "23",
         "2015-10-23T13:00:32.000+0000"
        ],
        [
         10506,
         "Wayne Murphy",
         "34",
         "2016-10-31T21:23:15.000+0000"
        ],
        [
         2129,
         "Andrew Clements",
         "27",
         "2015-11-30T02:06:28.000+0000"
        ],
        [
         2538,
         "Amy Adams",
         "20",
         "2015-10-24T05:05:28.000+0000"
        ],
        [
         5422,
         "Stacy Lopez",
         "30",
         "2016-06-10T05:04:34.000+0000"
        ],
        [
         4365,
         "Rebecca Bailey",
         "35",
         "2016-06-01T08:35:00.000+0000"
        ],
        [
         217,
         "Anthony Martinez",
         "20",
         "2015-11-29T09:31:00.000+0000"
        ],
        [
         10631,
         "Joyce Kennedy",
         "24",
         "2016-12-26T01:46:06.000+0000"
        ],
        [
         1874,
         "Beth Ali",
         "20",
         "2015-12-08T16:44:30.000+0000"
        ],
        [
         8462,
         "Aaron Abbott",
         "20",
         "2015-10-23T16:08:41.000+0000"
        ],
        [
         5244,
         "Larry Smith",
         "34",
         "2017-03-25T20:41:18.000+0000"
        ],
        [
         4916,
         "Shannon Dean",
         "28",
         "2017-05-26T05:55:13.000+0000"
        ]
       ],
       "datasetInfos": [],
       "dbfsResultPath": null,
       "isJsonSchema": true,
       "metadata": {
        "isDbfsCommandResult": false
       },
       "overflow": false,
       "plotOptions": {
        "customPlotOptions": {},
        "displayType": "table",
        "pivotAggregation": null,
        "pivotColumns": null,
        "xColumns": null,
        "yColumns": null
       },
       "removedWidgets": [],
       "schema": [
        {
         "metadata": "{}",
         "name": "ind",
         "type": "\"integer\""
        },
        {
         "metadata": "{}",
         "name": "user_name",
         "type": "\"string\""
        },
        {
         "metadata": "{}",
         "name": "age",
         "type": "\"string\""
        },
        {
         "metadata": "{}",
         "name": "date_joined",
         "type": "\"timestamp\""
        }
       ],
       "type": "table"
      }
     },
     "output_type": "display_data"
    }
   ],
   "source": [
    "display(cleaned_df)"
   ]
  },
  {
   "cell_type": "code",
   "execution_count": null,
   "metadata": {
    "application/vnd.databricks.v1+cell": {
     "cellMetadata": {
      "byteLimit": 2048000,
      "rowLimit": 10000
     },
     "inputWidgets": {},
     "nuid": "94230714-fd34-48f7-93b8-53bbc21dfcac",
     "showTitle": false,
     "title": ""
    }
   },
   "outputs": [
    {
     "data": {
      "text/html": [
       "<style scoped>\n",
       "  .ansiout {\n",
       "    display: block;\n",
       "    unicode-bidi: embed;\n",
       "    white-space: pre-wrap;\n",
       "    word-wrap: break-word;\n",
       "    word-break: break-all;\n",
       "    font-family: \"Menlo\", \"Monaco\", \"Consolas\", \"Ubuntu Mono\", \"Source Code Pro\", monospace;\n",
       "    font-size: 13px;\n",
       "    color: #555;\n",
       "    margin-left: 4px;\n",
       "    line-height: 19px;\n",
       "  }\n",
       "</style>\n",
       "<div class=\"ansiout\"></div>"
      ]
     },
     "metadata": {
      "application/vnd.databricks.v1+output": {
       "addedWidgets": {},
       "arguments": {},
       "data": "<div class=\"ansiout\"></div>",
       "datasetInfos": [],
       "metadata": {},
       "removedWidgets": [],
       "type": "html"
      }
     },
     "output_type": "display_data"
    }
   ],
   "source": [
    "output_user_df = cleaned_df"
   ]
  },
  {
   "cell_type": "code",
   "execution_count": null,
   "metadata": {
    "application/vnd.databricks.v1+cell": {
     "cellMetadata": {
      "byteLimit": 2048000,
      "rowLimit": 10000
     },
     "inputWidgets": {},
     "nuid": "139df6b5-65f6-45fc-a926-84c2dd420861",
     "showTitle": false,
     "title": ""
    }
   },
   "outputs": [
    {
     "data": {
      "text/html": [
       "<style scoped>\n",
       "  .ansiout {\n",
       "    display: block;\n",
       "    unicode-bidi: embed;\n",
       "    white-space: pre-wrap;\n",
       "    word-wrap: break-word;\n",
       "    word-break: break-all;\n",
       "    font-family: \"Menlo\", \"Monaco\", \"Consolas\", \"Ubuntu Mono\", \"Source Code Pro\", monospace;\n",
       "    font-size: 13px;\n",
       "    color: #555;\n",
       "    margin-left: 4px;\n",
       "    line-height: 19px;\n",
       "  }\n",
       "</style>\n",
       "<div class=\"ansiout\">Out[51]: &lt;pyspark.sql.streaming.StreamingQuery at 0x7fa9beb9d520&gt;</div>"
      ]
     },
     "metadata": {
      "application/vnd.databricks.v1+output": {
       "addedWidgets": {},
       "arguments": {},
       "data": "<div class=\"ansiout\">Out[51]: &lt;pyspark.sql.streaming.StreamingQuery at 0x7fa9beb9d520&gt;</div>",
       "datasetInfos": [],
       "metadata": {},
       "removedWidgets": [],
       "type": "html"
      }
     },
     "output_type": "display_data"
    }
   ],
   "source": [
    "output_user_df.writeStream \\\n",
    "  .format(\"delta\") \\\n",
    "  .queryName(\"0affea73130b_user_query\") \\\n",
    "  .outputMode(\"append\") \\\n",
    "  .option(\"checkpointLocation\", \"/tmp/kinesis/_checkpoints/0affea73130b_user_query\") \\\n",
    "  .table(\"0affea73130b_user_table\")"
   ]
  },
  {
   "cell_type": "code",
   "execution_count": null,
   "metadata": {
    "application/vnd.databricks.v1+cell": {
     "cellMetadata": {
      "byteLimit": 2048000,
      "rowLimit": 10000
     },
     "inputWidgets": {},
     "nuid": "b5ceb26e-25a0-414c-91b5-df4c195f732a",
     "showTitle": false,
     "title": ""
    }
   },
   "outputs": [
    {
     "data": {
      "text/html": [
       "<style scoped>\n",
       "  .ansiout {\n",
       "    display: block;\n",
       "    unicode-bidi: embed;\n",
       "    white-space: pre-wrap;\n",
       "    word-wrap: break-word;\n",
       "    word-break: break-all;\n",
       "    font-family: \"Menlo\", \"Monaco\", \"Consolas\", \"Ubuntu Mono\", \"Source Code Pro\", monospace;\n",
       "    font-size: 13px;\n",
       "    color: #555;\n",
       "    margin-left: 4px;\n",
       "    line-height: 19px;\n",
       "  }\n",
       "</style>\n",
       "<div class=\"ansiout\"></div>"
      ]
     },
     "metadata": {
      "application/vnd.databricks.v1+output": {
       "addedWidgets": {},
       "arguments": {},
       "data": "<div class=\"ansiout\"></div>",
       "datasetInfos": [],
       "metadata": {},
       "removedWidgets": [],
       "type": "html"
      }
     },
     "output_type": "display_data"
    }
   ],
   "source": [
    "# dbutils.fs.rm(\"/tmp/kinesis/_checkpoints/0affea73130b_user_query\", True)"
   ]
  }
 ],
 "metadata": {
  "application/vnd.databricks.v1+notebook": {
   "dashboards": [],
   "environmentMetadata": null,
   "language": "python",
   "notebookMetadata": {
    "mostRecentlyExecutedCommandWithImplicitDF": {
     "commandId": 1445726648212277,
     "dataframes": [
      "_sqldf"
     ]
    },
    "pythonIndentUnit": 4
   },
   "notebookName": "Pinterest User Data Stream Clean",
   "widgets": {}
  },
  "language_info": {
   "name": "python"
  }
 },
 "nbformat": 4,
 "nbformat_minor": 0
}
